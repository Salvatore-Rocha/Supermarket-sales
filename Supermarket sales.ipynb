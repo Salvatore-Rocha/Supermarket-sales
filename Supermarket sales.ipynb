{
 "cells": [
  {
   "cell_type": "markdown",
   "metadata": {},
   "source": [
    "## Supermarket sales\n",
    "\n",
    "This notebook presents plots derived from historical sales data collected from three distinct supermarkets. The original dataset is accessible at the following URL:\n",
    " https://www.kaggle.com/datasets/aungpyaeap/supermarket-sales\n",
    "\n",
    "The plots presented here will be used as baseline to construct an interactive dash app."
   ]
  },
  {
   "cell_type": "code",
   "execution_count": 12,
   "metadata": {},
   "outputs": [],
   "source": [
    "#Libraries \n",
    "import plotly.express as px\n",
    "import plotly.graph_objects as go\n",
    "import plotly.io as pio\n",
    "import pandas as pd\n",
    "import numpy as np"
   ]
  },
  {
   "cell_type": "code",
   "execution_count": 2,
   "metadata": {},
   "outputs": [
    {
     "data": {
      "text/html": [
       "<div>\n",
       "<style scoped>\n",
       "    .dataframe tbody tr th:only-of-type {\n",
       "        vertical-align: middle;\n",
       "    }\n",
       "\n",
       "    .dataframe tbody tr th {\n",
       "        vertical-align: top;\n",
       "    }\n",
       "\n",
       "    .dataframe thead th {\n",
       "        text-align: right;\n",
       "    }\n",
       "</style>\n",
       "<table border=\"1\" class=\"dataframe\">\n",
       "  <thead>\n",
       "    <tr style=\"text-align: right;\">\n",
       "      <th></th>\n",
       "      <th>Invoice ID</th>\n",
       "      <th>Branch</th>\n",
       "      <th>City</th>\n",
       "      <th>Customer type</th>\n",
       "      <th>Gender</th>\n",
       "      <th>Product line</th>\n",
       "      <th>Unit price</th>\n",
       "      <th>Quantity</th>\n",
       "      <th>Tax 5%</th>\n",
       "      <th>Total</th>\n",
       "      <th>Date</th>\n",
       "      <th>Time</th>\n",
       "      <th>Payment</th>\n",
       "      <th>cogs</th>\n",
       "      <th>gross margin percentage</th>\n",
       "      <th>gross income</th>\n",
       "      <th>Rating</th>\n",
       "    </tr>\n",
       "  </thead>\n",
       "  <tbody>\n",
       "    <tr>\n",
       "      <th>0</th>\n",
       "      <td>750-67-8428</td>\n",
       "      <td>A</td>\n",
       "      <td>Yangon</td>\n",
       "      <td>Member</td>\n",
       "      <td>Female</td>\n",
       "      <td>Health and beauty</td>\n",
       "      <td>74.69</td>\n",
       "      <td>7</td>\n",
       "      <td>26.1415</td>\n",
       "      <td>548.9715</td>\n",
       "      <td>1/5/2019</td>\n",
       "      <td>13:08</td>\n",
       "      <td>Ewallet</td>\n",
       "      <td>522.83</td>\n",
       "      <td>4.761905</td>\n",
       "      <td>26.1415</td>\n",
       "      <td>9.1</td>\n",
       "    </tr>\n",
       "    <tr>\n",
       "      <th>1</th>\n",
       "      <td>226-31-3081</td>\n",
       "      <td>C</td>\n",
       "      <td>Naypyitaw</td>\n",
       "      <td>Normal</td>\n",
       "      <td>Female</td>\n",
       "      <td>Electronic accessories</td>\n",
       "      <td>15.28</td>\n",
       "      <td>5</td>\n",
       "      <td>3.8200</td>\n",
       "      <td>80.2200</td>\n",
       "      <td>3/8/2019</td>\n",
       "      <td>10:29</td>\n",
       "      <td>Cash</td>\n",
       "      <td>76.40</td>\n",
       "      <td>4.761905</td>\n",
       "      <td>3.8200</td>\n",
       "      <td>9.6</td>\n",
       "    </tr>\n",
       "    <tr>\n",
       "      <th>2</th>\n",
       "      <td>631-41-3108</td>\n",
       "      <td>A</td>\n",
       "      <td>Yangon</td>\n",
       "      <td>Normal</td>\n",
       "      <td>Male</td>\n",
       "      <td>Home and lifestyle</td>\n",
       "      <td>46.33</td>\n",
       "      <td>7</td>\n",
       "      <td>16.2155</td>\n",
       "      <td>340.5255</td>\n",
       "      <td>3/3/2019</td>\n",
       "      <td>13:23</td>\n",
       "      <td>Credit card</td>\n",
       "      <td>324.31</td>\n",
       "      <td>4.761905</td>\n",
       "      <td>16.2155</td>\n",
       "      <td>7.4</td>\n",
       "    </tr>\n",
       "    <tr>\n",
       "      <th>3</th>\n",
       "      <td>123-19-1176</td>\n",
       "      <td>A</td>\n",
       "      <td>Yangon</td>\n",
       "      <td>Member</td>\n",
       "      <td>Male</td>\n",
       "      <td>Health and beauty</td>\n",
       "      <td>58.22</td>\n",
       "      <td>8</td>\n",
       "      <td>23.2880</td>\n",
       "      <td>489.0480</td>\n",
       "      <td>1/27/2019</td>\n",
       "      <td>20:33</td>\n",
       "      <td>Ewallet</td>\n",
       "      <td>465.76</td>\n",
       "      <td>4.761905</td>\n",
       "      <td>23.2880</td>\n",
       "      <td>8.4</td>\n",
       "    </tr>\n",
       "    <tr>\n",
       "      <th>4</th>\n",
       "      <td>373-73-7910</td>\n",
       "      <td>A</td>\n",
       "      <td>Yangon</td>\n",
       "      <td>Normal</td>\n",
       "      <td>Male</td>\n",
       "      <td>Sports and travel</td>\n",
       "      <td>86.31</td>\n",
       "      <td>7</td>\n",
       "      <td>30.2085</td>\n",
       "      <td>634.3785</td>\n",
       "      <td>2/8/2019</td>\n",
       "      <td>10:37</td>\n",
       "      <td>Ewallet</td>\n",
       "      <td>604.17</td>\n",
       "      <td>4.761905</td>\n",
       "      <td>30.2085</td>\n",
       "      <td>5.3</td>\n",
       "    </tr>\n",
       "  </tbody>\n",
       "</table>\n",
       "</div>"
      ],
      "text/plain": [
       "    Invoice ID Branch       City Customer type  Gender  \\\n",
       "0  750-67-8428      A     Yangon        Member  Female   \n",
       "1  226-31-3081      C  Naypyitaw        Normal  Female   \n",
       "2  631-41-3108      A     Yangon        Normal    Male   \n",
       "3  123-19-1176      A     Yangon        Member    Male   \n",
       "4  373-73-7910      A     Yangon        Normal    Male   \n",
       "\n",
       "             Product line  Unit price  Quantity   Tax 5%     Total       Date  \\\n",
       "0       Health and beauty       74.69         7  26.1415  548.9715   1/5/2019   \n",
       "1  Electronic accessories       15.28         5   3.8200   80.2200   3/8/2019   \n",
       "2      Home and lifestyle       46.33         7  16.2155  340.5255   3/3/2019   \n",
       "3       Health and beauty       58.22         8  23.2880  489.0480  1/27/2019   \n",
       "4       Sports and travel       86.31         7  30.2085  634.3785   2/8/2019   \n",
       "\n",
       "    Time      Payment    cogs  gross margin percentage  gross income  Rating  \n",
       "0  13:08      Ewallet  522.83                 4.761905       26.1415     9.1  \n",
       "1  10:29         Cash   76.40                 4.761905        3.8200     9.6  \n",
       "2  13:23  Credit card  324.31                 4.761905       16.2155     7.4  \n",
       "3  20:33      Ewallet  465.76                 4.761905       23.2880     8.4  \n",
       "4  10:37      Ewallet  604.17                 4.761905       30.2085     5.3  "
      ]
     },
     "execution_count": 2,
     "metadata": {},
     "output_type": "execute_result"
    }
   ],
   "source": [
    "# Replace 'your_file.xlsx' with the path to your Excel file\n",
    "csv_file = \"supermarket_sales.csv\"\n",
    "\n",
    "# Read the Excel file into a Pandas DataFrame\n",
    "df = pd.read_csv(csv_file)\n",
    "df.head()"
   ]
  },
  {
   "cell_type": "code",
   "execution_count": 3,
   "metadata": {},
   "outputs": [
    {
     "name": "stdout",
     "output_type": "stream",
     "text": [
      "<class 'pandas.core.frame.DataFrame'>\n",
      "RangeIndex: 1000 entries, 0 to 999\n",
      "Data columns (total 17 columns):\n",
      " #   Column                   Non-Null Count  Dtype  \n",
      "---  ------                   --------------  -----  \n",
      " 0   Invoice ID               1000 non-null   object \n",
      " 1   Branch                   1000 non-null   object \n",
      " 2   City                     1000 non-null   object \n",
      " 3   Customer type            1000 non-null   object \n",
      " 4   Gender                   1000 non-null   object \n",
      " 5   Product line             1000 non-null   object \n",
      " 6   Unit price               1000 non-null   float64\n",
      " 7   Quantity                 1000 non-null   int64  \n",
      " 8   Tax 5%                   1000 non-null   float64\n",
      " 9   Total                    1000 non-null   float64\n",
      " 10  Date                     1000 non-null   object \n",
      " 11  Time                     1000 non-null   object \n",
      " 12  Payment                  1000 non-null   object \n",
      " 13  cogs                     1000 non-null   float64\n",
      " 14  gross margin percentage  1000 non-null   float64\n",
      " 15  gross income             1000 non-null   float64\n",
      " 16  Rating                   1000 non-null   float64\n",
      "dtypes: float64(7), int64(1), object(9)\n",
      "memory usage: 132.9+ KB\n"
     ]
    }
   ],
   "source": [
    "#Get type of data\n",
    "df.info(verbose=True)"
   ]
  },
  {
   "cell_type": "code",
   "execution_count": 5,
   "metadata": {},
   "outputs": [
    {
     "name": "stdout",
     "output_type": "stream",
     "text": [
      "<class 'pandas.core.frame.DataFrame'>\n",
      "RangeIndex: 1000 entries, 0 to 999\n",
      "Data columns (total 17 columns):\n",
      " #   Column                   Non-Null Count  Dtype         \n",
      "---  ------                   --------------  -----         \n",
      " 0   Invoice ID               1000 non-null   object        \n",
      " 1   Branch                   1000 non-null   object        \n",
      " 2   City                     1000 non-null   object        \n",
      " 3   Customer type            1000 non-null   object        \n",
      " 4   Gender                   1000 non-null   object        \n",
      " 5   Product line             1000 non-null   object        \n",
      " 6   Unit price               1000 non-null   float64       \n",
      " 7   Quantity                 1000 non-null   int64         \n",
      " 8   Tax 5%                   1000 non-null   float64       \n",
      " 9   Total                    1000 non-null   float64       \n",
      " 10  Date                     1000 non-null   datetime64[ns]\n",
      " 11  Time                     1000 non-null   object        \n",
      " 12  Payment                  1000 non-null   object        \n",
      " 13  cogs                     1000 non-null   float64       \n",
      " 14  gross margin percentage  1000 non-null   float64       \n",
      " 15  gross income             1000 non-null   float64       \n",
      " 16  Rating                   1000 non-null   float64       \n",
      "dtypes: datetime64[ns](1), float64(7), int64(1), object(8)\n",
      "memory usage: 132.9+ KB\n"
     ]
    }
   ],
   "source": [
    "#Fix Date; object to Datetime\n",
    "df['Date'] = pd.to_datetime(df['Date'])\n",
    "df = df.round(2)\n",
    "\n",
    "#Get type of data\n",
    "df.info(verbose=True)"
   ]
  },
  {
   "cell_type": "code",
   "execution_count": 13,
   "metadata": {},
   "outputs": [
    {
     "name": "stdout",
     "output_type": "stream",
     "text": [
      "Branch ['A' 'C' 'B']\n",
      "City ['Yangon' 'Naypyitaw' 'Mandalay']\n",
      "Customer type ['Member' 'Normal']\n",
      "Gender ['Female' 'Male']\n",
      "Product line ['Health and beauty' 'Electronic accessories' 'Home and lifestyle'\n",
      " 'Sports and travel' 'Food and beverages' 'Fashion accessories']\n",
      "Payment ['Ewallet' 'Cash' 'Credit card']\n"
     ]
    }
   ],
   "source": [
    "#Get unique values for relevant columns\n",
    "for col in df.select_dtypes(include=['object']):\n",
    "  if col not in (\"Invoice ID\",\"Time\",\"Date\"):\n",
    "    print(col, df[col].unique())"
   ]
  },
  {
   "cell_type": "code",
   "execution_count": 14,
   "metadata": {},
   "outputs": [
    {
     "name": "stderr",
     "output_type": "stream",
     "text": [
      "C:\\Users\\XandorTheWise\\AppData\\Local\\Temp\\ipykernel_5588\\917261888.py:2: FutureWarning:\n",
      "\n",
      "The provided callable <built-in function sum> is currently using SeriesGroupBy.sum. In a future version of pandas, the provided callable will be used directly. To keep current behavior pass the string \"sum\" instead.\n",
      "\n"
     ]
    },
    {
     "data": {
      "text/html": [
       "<div>\n",
       "<style scoped>\n",
       "    .dataframe tbody tr th:only-of-type {\n",
       "        vertical-align: middle;\n",
       "    }\n",
       "\n",
       "    .dataframe tbody tr th {\n",
       "        vertical-align: top;\n",
       "    }\n",
       "\n",
       "    .dataframe thead th {\n",
       "        text-align: right;\n",
       "    }\n",
       "</style>\n",
       "<table border=\"1\" class=\"dataframe\">\n",
       "  <thead>\n",
       "    <tr style=\"text-align: right;\">\n",
       "      <th></th>\n",
       "      <th>Date</th>\n",
       "      <th>City</th>\n",
       "      <th>Unit price</th>\n",
       "      <th>Quantity</th>\n",
       "      <th>Tax 5%</th>\n",
       "      <th>Total</th>\n",
       "      <th>cogs</th>\n",
       "      <th>gross margin percentage</th>\n",
       "      <th>gross income</th>\n",
       "      <th>Rating</th>\n",
       "      <th>Total_day</th>\n",
       "    </tr>\n",
       "  </thead>\n",
       "  <tbody>\n",
       "    <tr>\n",
       "      <th>0</th>\n",
       "      <td>2019-01-01</td>\n",
       "      <td>Mandalay</td>\n",
       "      <td>180.46</td>\n",
       "      <td>24</td>\n",
       "      <td>73.18</td>\n",
       "      <td>1536.70</td>\n",
       "      <td>1463.52</td>\n",
       "      <td>14.28</td>\n",
       "      <td>73.18</td>\n",
       "      <td>22.0</td>\n",
       "      <td>4745.19</td>\n",
       "    </tr>\n",
       "    <tr>\n",
       "      <th>1</th>\n",
       "      <td>2019-01-01</td>\n",
       "      <td>Naypyitaw</td>\n",
       "      <td>192.29</td>\n",
       "      <td>20</td>\n",
       "      <td>39.87</td>\n",
       "      <td>837.17</td>\n",
       "      <td>797.30</td>\n",
       "      <td>19.04</td>\n",
       "      <td>39.87</td>\n",
       "      <td>25.5</td>\n",
       "      <td>4745.19</td>\n",
       "    </tr>\n",
       "    <tr>\n",
       "      <th>2</th>\n",
       "      <td>2019-01-01</td>\n",
       "      <td>Yangon</td>\n",
       "      <td>287.20</td>\n",
       "      <td>37</td>\n",
       "      <td>112.92</td>\n",
       "      <td>2371.32</td>\n",
       "      <td>2258.40</td>\n",
       "      <td>23.80</td>\n",
       "      <td>112.92</td>\n",
       "      <td>31.5</td>\n",
       "      <td>4745.19</td>\n",
       "    </tr>\n",
       "    <tr>\n",
       "      <th>3</th>\n",
       "      <td>2019-01-02</td>\n",
       "      <td>Mandalay</td>\n",
       "      <td>141.46</td>\n",
       "      <td>31</td>\n",
       "      <td>55.36</td>\n",
       "      <td>1162.79</td>\n",
       "      <td>1107.43</td>\n",
       "      <td>19.04</td>\n",
       "      <td>55.36</td>\n",
       "      <td>24.8</td>\n",
       "      <td>1945.49</td>\n",
       "    </tr>\n",
       "    <tr>\n",
       "      <th>4</th>\n",
       "      <td>2019-01-02</td>\n",
       "      <td>Naypyitaw</td>\n",
       "      <td>131.49</td>\n",
       "      <td>10</td>\n",
       "      <td>22.65</td>\n",
       "      <td>475.65</td>\n",
       "      <td>453.00</td>\n",
       "      <td>9.52</td>\n",
       "      <td>22.65</td>\n",
       "      <td>12.3</td>\n",
       "      <td>1945.49</td>\n",
       "    </tr>\n",
       "    <tr>\n",
       "      <th>...</th>\n",
       "      <td>...</td>\n",
       "      <td>...</td>\n",
       "      <td>...</td>\n",
       "      <td>...</td>\n",
       "      <td>...</td>\n",
       "      <td>...</td>\n",
       "      <td>...</td>\n",
       "      <td>...</td>\n",
       "      <td>...</td>\n",
       "      <td>...</td>\n",
       "      <td>...</td>\n",
       "    </tr>\n",
       "    <tr>\n",
       "      <th>258</th>\n",
       "      <td>2019-03-29</td>\n",
       "      <td>Naypyitaw</td>\n",
       "      <td>111.18</td>\n",
       "      <td>14</td>\n",
       "      <td>46.94</td>\n",
       "      <td>985.70</td>\n",
       "      <td>938.76</td>\n",
       "      <td>9.52</td>\n",
       "      <td>46.94</td>\n",
       "      <td>10.7</td>\n",
       "      <td>4023.25</td>\n",
       "    </tr>\n",
       "    <tr>\n",
       "      <th>259</th>\n",
       "      <td>2019-03-29</td>\n",
       "      <td>Yangon</td>\n",
       "      <td>143.80</td>\n",
       "      <td>13</td>\n",
       "      <td>46.55</td>\n",
       "      <td>977.61</td>\n",
       "      <td>931.06</td>\n",
       "      <td>9.52</td>\n",
       "      <td>46.55</td>\n",
       "      <td>13.9</td>\n",
       "      <td>4023.25</td>\n",
       "    </tr>\n",
       "    <tr>\n",
       "      <th>260</th>\n",
       "      <td>2019-03-30</td>\n",
       "      <td>Mandalay</td>\n",
       "      <td>263.19</td>\n",
       "      <td>19</td>\n",
       "      <td>82.12</td>\n",
       "      <td>1724.46</td>\n",
       "      <td>1642.34</td>\n",
       "      <td>14.28</td>\n",
       "      <td>82.12</td>\n",
       "      <td>16.1</td>\n",
       "      <td>4487.06</td>\n",
       "    </tr>\n",
       "    <tr>\n",
       "      <th>261</th>\n",
       "      <td>2019-03-30</td>\n",
       "      <td>Naypyitaw</td>\n",
       "      <td>249.73</td>\n",
       "      <td>25</td>\n",
       "      <td>68.66</td>\n",
       "      <td>1441.98</td>\n",
       "      <td>1373.32</td>\n",
       "      <td>19.04</td>\n",
       "      <td>68.66</td>\n",
       "      <td>27.6</td>\n",
       "      <td>4487.06</td>\n",
       "    </tr>\n",
       "    <tr>\n",
       "      <th>262</th>\n",
       "      <td>2019-03-30</td>\n",
       "      <td>Yangon</td>\n",
       "      <td>228.57</td>\n",
       "      <td>23</td>\n",
       "      <td>62.89</td>\n",
       "      <td>1320.62</td>\n",
       "      <td>1257.73</td>\n",
       "      <td>19.04</td>\n",
       "      <td>62.89</td>\n",
       "      <td>31.1</td>\n",
       "      <td>4487.06</td>\n",
       "    </tr>\n",
       "  </tbody>\n",
       "</table>\n",
       "<p>263 rows × 11 columns</p>\n",
       "</div>"
      ],
      "text/plain": [
       "          Date       City  Unit price  Quantity  Tax 5%    Total     cogs  \\\n",
       "0   2019-01-01   Mandalay      180.46        24   73.18  1536.70  1463.52   \n",
       "1   2019-01-01  Naypyitaw      192.29        20   39.87   837.17   797.30   \n",
       "2   2019-01-01     Yangon      287.20        37  112.92  2371.32  2258.40   \n",
       "3   2019-01-02   Mandalay      141.46        31   55.36  1162.79  1107.43   \n",
       "4   2019-01-02  Naypyitaw      131.49        10   22.65   475.65   453.00   \n",
       "..         ...        ...         ...       ...     ...      ...      ...   \n",
       "258 2019-03-29  Naypyitaw      111.18        14   46.94   985.70   938.76   \n",
       "259 2019-03-29     Yangon      143.80        13   46.55   977.61   931.06   \n",
       "260 2019-03-30   Mandalay      263.19        19   82.12  1724.46  1642.34   \n",
       "261 2019-03-30  Naypyitaw      249.73        25   68.66  1441.98  1373.32   \n",
       "262 2019-03-30     Yangon      228.57        23   62.89  1320.62  1257.73   \n",
       "\n",
       "     gross margin percentage  gross income  Rating  Total_day  \n",
       "0                      14.28         73.18    22.0    4745.19  \n",
       "1                      19.04         39.87    25.5    4745.19  \n",
       "2                      23.80        112.92    31.5    4745.19  \n",
       "3                      19.04         55.36    24.8    1945.49  \n",
       "4                       9.52         22.65    12.3    1945.49  \n",
       "..                       ...           ...     ...        ...  \n",
       "258                     9.52         46.94    10.7    4023.25  \n",
       "259                     9.52         46.55    13.9    4023.25  \n",
       "260                    14.28         82.12    16.1    4487.06  \n",
       "261                    19.04         68.66    27.6    4487.06  \n",
       "262                    19.04         62.89    31.1    4487.06  \n",
       "\n",
       "[263 rows x 11 columns]"
      ]
     },
     "execution_count": 14,
     "metadata": {},
     "output_type": "execute_result"
    }
   ],
   "source": [
    "dfs  = df.groupby([\"Date\",\"City\"]).sum(numeric_only=True).reset_index()\n",
    "dfs['Total_day'] = dfs.groupby('Date')['Total'].transform(sum)\n",
    "dfs = dfs.round(2)\n",
    "dfs"
   ]
  },
  {
   "cell_type": "code",
   "execution_count": 16,
   "metadata": {},
   "outputs": [
    {
     "data": {
      "text/html": [
       "<div>\n",
       "<style scoped>\n",
       "    .dataframe tbody tr th:only-of-type {\n",
       "        vertical-align: middle;\n",
       "    }\n",
       "\n",
       "    .dataframe tbody tr th {\n",
       "        vertical-align: top;\n",
       "    }\n",
       "\n",
       "    .dataframe thead th {\n",
       "        text-align: right;\n",
       "    }\n",
       "</style>\n",
       "<table border=\"1\" class=\"dataframe\">\n",
       "  <thead>\n",
       "    <tr style=\"text-align: right;\">\n",
       "      <th></th>\n",
       "      <th>Date</th>\n",
       "      <th>City</th>\n",
       "      <th>Unit price</th>\n",
       "      <th>Quantity</th>\n",
       "      <th>Tax 5%</th>\n",
       "      <th>Total</th>\n",
       "      <th>cogs</th>\n",
       "      <th>gross margin percentage</th>\n",
       "      <th>gross income</th>\n",
       "      <th>Rating</th>\n",
       "      <th>Total_day</th>\n",
       "    </tr>\n",
       "  </thead>\n",
       "  <tbody>\n",
       "    <tr>\n",
       "      <th>91</th>\n",
       "      <td>2019-02-01</td>\n",
       "      <td>Naypyitaw</td>\n",
       "      <td>191.34</td>\n",
       "      <td>24</td>\n",
       "      <td>72.98</td>\n",
       "      <td>1532.60</td>\n",
       "      <td>1459.62</td>\n",
       "      <td>14.28</td>\n",
       "      <td>72.98</td>\n",
       "      <td>19.5</td>\n",
       "      <td>2444.54</td>\n",
       "    </tr>\n",
       "    <tr>\n",
       "      <th>92</th>\n",
       "      <td>2019-02-01</td>\n",
       "      <td>Yangon</td>\n",
       "      <td>161.43</td>\n",
       "      <td>16</td>\n",
       "      <td>43.43</td>\n",
       "      <td>911.94</td>\n",
       "      <td>868.51</td>\n",
       "      <td>14.28</td>\n",
       "      <td>43.43</td>\n",
       "      <td>21.3</td>\n",
       "      <td>2444.54</td>\n",
       "    </tr>\n",
       "    <tr>\n",
       "      <th>93</th>\n",
       "      <td>2019-02-02</td>\n",
       "      <td>Mandalay</td>\n",
       "      <td>192.24</td>\n",
       "      <td>31</td>\n",
       "      <td>76.64</td>\n",
       "      <td>1609.29</td>\n",
       "      <td>1532.65</td>\n",
       "      <td>19.04</td>\n",
       "      <td>76.64</td>\n",
       "      <td>31.7</td>\n",
       "      <td>4140.96</td>\n",
       "    </tr>\n",
       "    <tr>\n",
       "      <th>94</th>\n",
       "      <td>2019-02-02</td>\n",
       "      <td>Naypyitaw</td>\n",
       "      <td>374.76</td>\n",
       "      <td>23</td>\n",
       "      <td>71.99</td>\n",
       "      <td>1511.71</td>\n",
       "      <td>1439.72</td>\n",
       "      <td>28.56</td>\n",
       "      <td>71.99</td>\n",
       "      <td>43.3</td>\n",
       "      <td>4140.96</td>\n",
       "    </tr>\n",
       "    <tr>\n",
       "      <th>95</th>\n",
       "      <td>2019-02-02</td>\n",
       "      <td>Yangon</td>\n",
       "      <td>123.94</td>\n",
       "      <td>29</td>\n",
       "      <td>48.57</td>\n",
       "      <td>1019.96</td>\n",
       "      <td>971.39</td>\n",
       "      <td>19.04</td>\n",
       "      <td>48.57</td>\n",
       "      <td>25.4</td>\n",
       "      <td>4140.96</td>\n",
       "    </tr>\n",
       "    <tr>\n",
       "      <th>...</th>\n",
       "      <td>...</td>\n",
       "      <td>...</td>\n",
       "      <td>...</td>\n",
       "      <td>...</td>\n",
       "      <td>...</td>\n",
       "      <td>...</td>\n",
       "      <td>...</td>\n",
       "      <td>...</td>\n",
       "      <td>...</td>\n",
       "      <td>...</td>\n",
       "      <td>...</td>\n",
       "    </tr>\n",
       "    <tr>\n",
       "      <th>169</th>\n",
       "      <td>2019-02-27</td>\n",
       "      <td>Naypyitaw</td>\n",
       "      <td>280.03</td>\n",
       "      <td>16</td>\n",
       "      <td>72.82</td>\n",
       "      <td>1529.36</td>\n",
       "      <td>1456.54</td>\n",
       "      <td>14.28</td>\n",
       "      <td>72.82</td>\n",
       "      <td>25.1</td>\n",
       "      <td>5859.44</td>\n",
       "    </tr>\n",
       "    <tr>\n",
       "      <th>170</th>\n",
       "      <td>2019-02-27</td>\n",
       "      <td>Yangon</td>\n",
       "      <td>285.30</td>\n",
       "      <td>38</td>\n",
       "      <td>116.28</td>\n",
       "      <td>2441.70</td>\n",
       "      <td>2325.43</td>\n",
       "      <td>23.80</td>\n",
       "      <td>116.28</td>\n",
       "      <td>34.2</td>\n",
       "      <td>5859.44</td>\n",
       "    </tr>\n",
       "    <tr>\n",
       "      <th>171</th>\n",
       "      <td>2019-02-28</td>\n",
       "      <td>Mandalay</td>\n",
       "      <td>101.39</td>\n",
       "      <td>11</td>\n",
       "      <td>23.56</td>\n",
       "      <td>494.76</td>\n",
       "      <td>471.20</td>\n",
       "      <td>9.52</td>\n",
       "      <td>23.56</td>\n",
       "      <td>13.3</td>\n",
       "      <td>2097.02</td>\n",
       "    </tr>\n",
       "    <tr>\n",
       "      <th>172</th>\n",
       "      <td>2019-02-28</td>\n",
       "      <td>Naypyitaw</td>\n",
       "      <td>179.18</td>\n",
       "      <td>10</td>\n",
       "      <td>43.71</td>\n",
       "      <td>917.95</td>\n",
       "      <td>874.24</td>\n",
       "      <td>9.52</td>\n",
       "      <td>43.71</td>\n",
       "      <td>14.2</td>\n",
       "      <td>2097.02</td>\n",
       "    </tr>\n",
       "    <tr>\n",
       "      <th>173</th>\n",
       "      <td>2019-02-28</td>\n",
       "      <td>Yangon</td>\n",
       "      <td>136.62</td>\n",
       "      <td>9</td>\n",
       "      <td>32.59</td>\n",
       "      <td>684.31</td>\n",
       "      <td>651.72</td>\n",
       "      <td>9.52</td>\n",
       "      <td>32.59</td>\n",
       "      <td>13.9</td>\n",
       "      <td>2097.02</td>\n",
       "    </tr>\n",
       "  </tbody>\n",
       "</table>\n",
       "<p>83 rows × 11 columns</p>\n",
       "</div>"
      ],
      "text/plain": [
       "          Date       City  Unit price  Quantity  Tax 5%    Total     cogs  \\\n",
       "91  2019-02-01  Naypyitaw      191.34        24   72.98  1532.60  1459.62   \n",
       "92  2019-02-01     Yangon      161.43        16   43.43   911.94   868.51   \n",
       "93  2019-02-02   Mandalay      192.24        31   76.64  1609.29  1532.65   \n",
       "94  2019-02-02  Naypyitaw      374.76        23   71.99  1511.71  1439.72   \n",
       "95  2019-02-02     Yangon      123.94        29   48.57  1019.96   971.39   \n",
       "..         ...        ...         ...       ...     ...      ...      ...   \n",
       "169 2019-02-27  Naypyitaw      280.03        16   72.82  1529.36  1456.54   \n",
       "170 2019-02-27     Yangon      285.30        38  116.28  2441.70  2325.43   \n",
       "171 2019-02-28   Mandalay      101.39        11   23.56   494.76   471.20   \n",
       "172 2019-02-28  Naypyitaw      179.18        10   43.71   917.95   874.24   \n",
       "173 2019-02-28     Yangon      136.62         9   32.59   684.31   651.72   \n",
       "\n",
       "     gross margin percentage  gross income  Rating  Total_day  \n",
       "91                     14.28         72.98    19.5    2444.54  \n",
       "92                     14.28         43.43    21.3    2444.54  \n",
       "93                     19.04         76.64    31.7    4140.96  \n",
       "94                     28.56         71.99    43.3    4140.96  \n",
       "95                     19.04         48.57    25.4    4140.96  \n",
       "..                       ...           ...     ...        ...  \n",
       "169                    14.28         72.82    25.1    5859.44  \n",
       "170                    23.80        116.28    34.2    5859.44  \n",
       "171                     9.52         23.56    13.3    2097.02  \n",
       "172                     9.52         43.71    14.2    2097.02  \n",
       "173                     9.52         32.59    13.9    2097.02  \n",
       "\n",
       "[83 rows x 11 columns]"
      ]
     },
     "execution_count": 16,
     "metadata": {},
     "output_type": "execute_result"
    }
   ],
   "source": [
    "#filtering by month\n",
    "dfs[dfs[\"Date\"].dt.month == 2]"
   ]
  },
  {
   "cell_type": "code",
   "execution_count": 18,
   "metadata": {},
   "outputs": [
    {
     "data": {
      "application/vnd.plotly.v1+json": {
       "config": {
        "plotlyServerURL": "https://plot.ly"
       },
       "data": [
        {
         "alignmentgroup": "True",
         "hovertemplate": "City=Naypyitaw<br>Date=%{x}<br>Total=%{y}<br>Total_day=%{text}<extra></extra>",
         "legendgroup": "Naypyitaw",
         "marker": {
          "color": "#636efa",
          "pattern": {
           "shape": ""
          }
         },
         "name": "Naypyitaw",
         "offsetgroup": "Naypyitaw",
         "orientation": "v",
         "showlegend": true,
         "text": [
          2444.54,
          4140.96,
          5467.93,
          2439.5,
          3031.13,
          2905.42,
          7228.22,
          5084.65,
          3271.88,
          3141.02,
          4542.15,
          2998.99,
          934.25,
          2454.09,
          6830.78,
          2503.77,
          5299.58,
          1496.03,
          4228.13,
          2706.42,
          1393.75,
          2442.3,
          2339.58,
          2722.46,
          4807.22,
          2408.16,
          5859.44,
          2097.02
         ],
         "textposition": "auto",
         "texttemplate": "%{y:.2s}",
         "type": "bar",
         "x": [
          "2019-02-01T00:00:00",
          "2019-02-02T00:00:00",
          "2019-02-03T00:00:00",
          "2019-02-04T00:00:00",
          "2019-02-05T00:00:00",
          "2019-02-06T00:00:00",
          "2019-02-07T00:00:00",
          "2019-02-08T00:00:00",
          "2019-02-09T00:00:00",
          "2019-02-10T00:00:00",
          "2019-02-11T00:00:00",
          "2019-02-12T00:00:00",
          "2019-02-13T00:00:00",
          "2019-02-14T00:00:00",
          "2019-02-15T00:00:00",
          "2019-02-16T00:00:00",
          "2019-02-17T00:00:00",
          "2019-02-18T00:00:00",
          "2019-02-19T00:00:00",
          "2019-02-20T00:00:00",
          "2019-02-21T00:00:00",
          "2019-02-22T00:00:00",
          "2019-02-23T00:00:00",
          "2019-02-24T00:00:00",
          "2019-02-25T00:00:00",
          "2019-02-26T00:00:00",
          "2019-02-27T00:00:00",
          "2019-02-28T00:00:00"
         ],
         "xaxis": "x",
         "y": [
          1532.6,
          1511.71,
          1713.07,
          145.56,
          1473.05,
          1401.56,
          2438.28,
          1634.84,
          1628.69,
          1429.99,
          2043.98,
          969.52,
          391.94,
          621.58,
          2392.76,
          1082.59,
          1377.47,
          533.28,
          1693.81,
          90.58,
          659.87,
          760.51,
          804.36,
          1436.59,
          502.75,
          216.69,
          1529.36,
          917.95
         ],
         "yaxis": "y"
        },
        {
         "alignmentgroup": "True",
         "hovertemplate": "City=Yangon<br>Date=%{x}<br>Total=%{y}<br>Total_day=%{text}<extra></extra>",
         "legendgroup": "Yangon",
         "marker": {
          "color": "#EF553B",
          "pattern": {
           "shape": ""
          }
         },
         "name": "Yangon",
         "offsetgroup": "Yangon",
         "orientation": "v",
         "showlegend": true,
         "text": [
          2444.54,
          4140.96,
          5467.93,
          2439.5,
          3031.13,
          2905.42,
          7228.22,
          5084.65,
          3271.88,
          3141.02,
          4542.15,
          2998.99,
          934.25,
          2454.09,
          6830.78,
          2503.77,
          5299.58,
          1496.03,
          4228.13,
          2706.42,
          1393.75,
          2442.3,
          2339.58,
          2722.46,
          4807.22,
          2408.16,
          5859.44,
          2097.02
         ],
         "textposition": "auto",
         "texttemplate": "%{y:.2s}",
         "type": "bar",
         "x": [
          "2019-02-01T00:00:00",
          "2019-02-02T00:00:00",
          "2019-02-03T00:00:00",
          "2019-02-04T00:00:00",
          "2019-02-05T00:00:00",
          "2019-02-06T00:00:00",
          "2019-02-07T00:00:00",
          "2019-02-08T00:00:00",
          "2019-02-09T00:00:00",
          "2019-02-10T00:00:00",
          "2019-02-11T00:00:00",
          "2019-02-12T00:00:00",
          "2019-02-13T00:00:00",
          "2019-02-14T00:00:00",
          "2019-02-15T00:00:00",
          "2019-02-16T00:00:00",
          "2019-02-17T00:00:00",
          "2019-02-18T00:00:00",
          "2019-02-19T00:00:00",
          "2019-02-20T00:00:00",
          "2019-02-21T00:00:00",
          "2019-02-22T00:00:00",
          "2019-02-23T00:00:00",
          "2019-02-24T00:00:00",
          "2019-02-25T00:00:00",
          "2019-02-26T00:00:00",
          "2019-02-27T00:00:00",
          "2019-02-28T00:00:00"
         ],
         "xaxis": "x",
         "y": [
          911.94,
          1019.96,
          2717.36,
          1239.39,
          568.43,
          423.19,
          2066.62,
          1694.35,
          598.08,
          1022.67,
          650.24,
          557.12,
          216.11,
          1072.81,
          1223.2,
          182.43,
          3070.96,
          931.75,
          2063.33,
          903.03,
          298.12,
          509.16,
          308.57,
          522.86,
          1806.33,
          156.1,
          2441.7,
          684.31
         ],
         "yaxis": "y"
        },
        {
         "alignmentgroup": "True",
         "hovertemplate": "City=Mandalay<br>Date=%{x}<br>Total=%{y}<br>Total_day=%{text}<extra></extra>",
         "legendgroup": "Mandalay",
         "marker": {
          "color": "#00cc96",
          "pattern": {
           "shape": ""
          }
         },
         "name": "Mandalay",
         "offsetgroup": "Mandalay",
         "orientation": "v",
         "showlegend": true,
         "text": [
          4140.96,
          5467.93,
          2439.5,
          3031.13,
          2905.42,
          7228.22,
          5084.65,
          3271.88,
          3141.02,
          4542.15,
          2998.99,
          934.25,
          2454.09,
          6830.78,
          2503.77,
          5299.58,
          1496.03,
          4228.13,
          2706.42,
          1393.75,
          2442.3,
          2339.58,
          2722.46,
          4807.22,
          2408.16,
          5859.44,
          2097.02
         ],
         "textposition": "auto",
         "texttemplate": "%{y:.2s}",
         "type": "bar",
         "x": [
          "2019-02-02T00:00:00",
          "2019-02-03T00:00:00",
          "2019-02-04T00:00:00",
          "2019-02-05T00:00:00",
          "2019-02-06T00:00:00",
          "2019-02-07T00:00:00",
          "2019-02-08T00:00:00",
          "2019-02-09T00:00:00",
          "2019-02-10T00:00:00",
          "2019-02-11T00:00:00",
          "2019-02-12T00:00:00",
          "2019-02-13T00:00:00",
          "2019-02-14T00:00:00",
          "2019-02-15T00:00:00",
          "2019-02-16T00:00:00",
          "2019-02-17T00:00:00",
          "2019-02-18T00:00:00",
          "2019-02-19T00:00:00",
          "2019-02-20T00:00:00",
          "2019-02-21T00:00:00",
          "2019-02-22T00:00:00",
          "2019-02-23T00:00:00",
          "2019-02-24T00:00:00",
          "2019-02-25T00:00:00",
          "2019-02-26T00:00:00",
          "2019-02-27T00:00:00",
          "2019-02-28T00:00:00"
         ],
         "xaxis": "x",
         "y": [
          1609.29,
          1037.5,
          1054.55,
          989.65,
          1080.67,
          2723.32,
          1755.46,
          1045.11,
          688.36,
          1847.93,
          1472.35,
          326.2,
          759.7,
          3214.82,
          1238.75,
          851.15,
          31,
          470.99,
          1712.81,
          435.76,
          1172.63,
          1226.65,
          763.01,
          2498.14,
          2035.37,
          1888.38,
          494.76
         ],
         "yaxis": "y"
        }
       ],
       "layout": {
        "barmode": "group",
        "legend": {
         "title": {
          "text": "City"
         },
         "tracegroupgap": 0
        },
        "margin": {
         "t": 60
        },
        "template": {
         "data": {
          "bar": [
           {
            "error_x": {
             "color": "#2a3f5f"
            },
            "error_y": {
             "color": "#2a3f5f"
            },
            "marker": {
             "line": {
              "color": "#E5ECF6",
              "width": 0.5
             },
             "pattern": {
              "fillmode": "overlay",
              "size": 10,
              "solidity": 0.2
             }
            },
            "type": "bar"
           }
          ],
          "barpolar": [
           {
            "marker": {
             "line": {
              "color": "#E5ECF6",
              "width": 0.5
             },
             "pattern": {
              "fillmode": "overlay",
              "size": 10,
              "solidity": 0.2
             }
            },
            "type": "barpolar"
           }
          ],
          "carpet": [
           {
            "aaxis": {
             "endlinecolor": "#2a3f5f",
             "gridcolor": "white",
             "linecolor": "white",
             "minorgridcolor": "white",
             "startlinecolor": "#2a3f5f"
            },
            "baxis": {
             "endlinecolor": "#2a3f5f",
             "gridcolor": "white",
             "linecolor": "white",
             "minorgridcolor": "white",
             "startlinecolor": "#2a3f5f"
            },
            "type": "carpet"
           }
          ],
          "choropleth": [
           {
            "colorbar": {
             "outlinewidth": 0,
             "ticks": ""
            },
            "type": "choropleth"
           }
          ],
          "contour": [
           {
            "colorbar": {
             "outlinewidth": 0,
             "ticks": ""
            },
            "colorscale": [
             [
              0,
              "#0d0887"
             ],
             [
              0.1111111111111111,
              "#46039f"
             ],
             [
              0.2222222222222222,
              "#7201a8"
             ],
             [
              0.3333333333333333,
              "#9c179e"
             ],
             [
              0.4444444444444444,
              "#bd3786"
             ],
             [
              0.5555555555555556,
              "#d8576b"
             ],
             [
              0.6666666666666666,
              "#ed7953"
             ],
             [
              0.7777777777777778,
              "#fb9f3a"
             ],
             [
              0.8888888888888888,
              "#fdca26"
             ],
             [
              1,
              "#f0f921"
             ]
            ],
            "type": "contour"
           }
          ],
          "contourcarpet": [
           {
            "colorbar": {
             "outlinewidth": 0,
             "ticks": ""
            },
            "type": "contourcarpet"
           }
          ],
          "heatmap": [
           {
            "colorbar": {
             "outlinewidth": 0,
             "ticks": ""
            },
            "colorscale": [
             [
              0,
              "#0d0887"
             ],
             [
              0.1111111111111111,
              "#46039f"
             ],
             [
              0.2222222222222222,
              "#7201a8"
             ],
             [
              0.3333333333333333,
              "#9c179e"
             ],
             [
              0.4444444444444444,
              "#bd3786"
             ],
             [
              0.5555555555555556,
              "#d8576b"
             ],
             [
              0.6666666666666666,
              "#ed7953"
             ],
             [
              0.7777777777777778,
              "#fb9f3a"
             ],
             [
              0.8888888888888888,
              "#fdca26"
             ],
             [
              1,
              "#f0f921"
             ]
            ],
            "type": "heatmap"
           }
          ],
          "heatmapgl": [
           {
            "colorbar": {
             "outlinewidth": 0,
             "ticks": ""
            },
            "colorscale": [
             [
              0,
              "#0d0887"
             ],
             [
              0.1111111111111111,
              "#46039f"
             ],
             [
              0.2222222222222222,
              "#7201a8"
             ],
             [
              0.3333333333333333,
              "#9c179e"
             ],
             [
              0.4444444444444444,
              "#bd3786"
             ],
             [
              0.5555555555555556,
              "#d8576b"
             ],
             [
              0.6666666666666666,
              "#ed7953"
             ],
             [
              0.7777777777777778,
              "#fb9f3a"
             ],
             [
              0.8888888888888888,
              "#fdca26"
             ],
             [
              1,
              "#f0f921"
             ]
            ],
            "type": "heatmapgl"
           }
          ],
          "histogram": [
           {
            "marker": {
             "pattern": {
              "fillmode": "overlay",
              "size": 10,
              "solidity": 0.2
             }
            },
            "type": "histogram"
           }
          ],
          "histogram2d": [
           {
            "colorbar": {
             "outlinewidth": 0,
             "ticks": ""
            },
            "colorscale": [
             [
              0,
              "#0d0887"
             ],
             [
              0.1111111111111111,
              "#46039f"
             ],
             [
              0.2222222222222222,
              "#7201a8"
             ],
             [
              0.3333333333333333,
              "#9c179e"
             ],
             [
              0.4444444444444444,
              "#bd3786"
             ],
             [
              0.5555555555555556,
              "#d8576b"
             ],
             [
              0.6666666666666666,
              "#ed7953"
             ],
             [
              0.7777777777777778,
              "#fb9f3a"
             ],
             [
              0.8888888888888888,
              "#fdca26"
             ],
             [
              1,
              "#f0f921"
             ]
            ],
            "type": "histogram2d"
           }
          ],
          "histogram2dcontour": [
           {
            "colorbar": {
             "outlinewidth": 0,
             "ticks": ""
            },
            "colorscale": [
             [
              0,
              "#0d0887"
             ],
             [
              0.1111111111111111,
              "#46039f"
             ],
             [
              0.2222222222222222,
              "#7201a8"
             ],
             [
              0.3333333333333333,
              "#9c179e"
             ],
             [
              0.4444444444444444,
              "#bd3786"
             ],
             [
              0.5555555555555556,
              "#d8576b"
             ],
             [
              0.6666666666666666,
              "#ed7953"
             ],
             [
              0.7777777777777778,
              "#fb9f3a"
             ],
             [
              0.8888888888888888,
              "#fdca26"
             ],
             [
              1,
              "#f0f921"
             ]
            ],
            "type": "histogram2dcontour"
           }
          ],
          "mesh3d": [
           {
            "colorbar": {
             "outlinewidth": 0,
             "ticks": ""
            },
            "type": "mesh3d"
           }
          ],
          "parcoords": [
           {
            "line": {
             "colorbar": {
              "outlinewidth": 0,
              "ticks": ""
             }
            },
            "type": "parcoords"
           }
          ],
          "pie": [
           {
            "automargin": true,
            "type": "pie"
           }
          ],
          "scatter": [
           {
            "fillpattern": {
             "fillmode": "overlay",
             "size": 10,
             "solidity": 0.2
            },
            "type": "scatter"
           }
          ],
          "scatter3d": [
           {
            "line": {
             "colorbar": {
              "outlinewidth": 0,
              "ticks": ""
             }
            },
            "marker": {
             "colorbar": {
              "outlinewidth": 0,
              "ticks": ""
             }
            },
            "type": "scatter3d"
           }
          ],
          "scattercarpet": [
           {
            "marker": {
             "colorbar": {
              "outlinewidth": 0,
              "ticks": ""
             }
            },
            "type": "scattercarpet"
           }
          ],
          "scattergeo": [
           {
            "marker": {
             "colorbar": {
              "outlinewidth": 0,
              "ticks": ""
             }
            },
            "type": "scattergeo"
           }
          ],
          "scattergl": [
           {
            "marker": {
             "colorbar": {
              "outlinewidth": 0,
              "ticks": ""
             }
            },
            "type": "scattergl"
           }
          ],
          "scattermapbox": [
           {
            "marker": {
             "colorbar": {
              "outlinewidth": 0,
              "ticks": ""
             }
            },
            "type": "scattermapbox"
           }
          ],
          "scatterpolar": [
           {
            "marker": {
             "colorbar": {
              "outlinewidth": 0,
              "ticks": ""
             }
            },
            "type": "scatterpolar"
           }
          ],
          "scatterpolargl": [
           {
            "marker": {
             "colorbar": {
              "outlinewidth": 0,
              "ticks": ""
             }
            },
            "type": "scatterpolargl"
           }
          ],
          "scatterternary": [
           {
            "marker": {
             "colorbar": {
              "outlinewidth": 0,
              "ticks": ""
             }
            },
            "type": "scatterternary"
           }
          ],
          "surface": [
           {
            "colorbar": {
             "outlinewidth": 0,
             "ticks": ""
            },
            "colorscale": [
             [
              0,
              "#0d0887"
             ],
             [
              0.1111111111111111,
              "#46039f"
             ],
             [
              0.2222222222222222,
              "#7201a8"
             ],
             [
              0.3333333333333333,
              "#9c179e"
             ],
             [
              0.4444444444444444,
              "#bd3786"
             ],
             [
              0.5555555555555556,
              "#d8576b"
             ],
             [
              0.6666666666666666,
              "#ed7953"
             ],
             [
              0.7777777777777778,
              "#fb9f3a"
             ],
             [
              0.8888888888888888,
              "#fdca26"
             ],
             [
              1,
              "#f0f921"
             ]
            ],
            "type": "surface"
           }
          ],
          "table": [
           {
            "cells": {
             "fill": {
              "color": "#EBF0F8"
             },
             "line": {
              "color": "white"
             }
            },
            "header": {
             "fill": {
              "color": "#C8D4E3"
             },
             "line": {
              "color": "white"
             }
            },
            "type": "table"
           }
          ]
         },
         "layout": {
          "annotationdefaults": {
           "arrowcolor": "#2a3f5f",
           "arrowhead": 0,
           "arrowwidth": 1
          },
          "autotypenumbers": "strict",
          "coloraxis": {
           "colorbar": {
            "outlinewidth": 0,
            "ticks": ""
           }
          },
          "colorscale": {
           "diverging": [
            [
             0,
             "#8e0152"
            ],
            [
             0.1,
             "#c51b7d"
            ],
            [
             0.2,
             "#de77ae"
            ],
            [
             0.3,
             "#f1b6da"
            ],
            [
             0.4,
             "#fde0ef"
            ],
            [
             0.5,
             "#f7f7f7"
            ],
            [
             0.6,
             "#e6f5d0"
            ],
            [
             0.7,
             "#b8e186"
            ],
            [
             0.8,
             "#7fbc41"
            ],
            [
             0.9,
             "#4d9221"
            ],
            [
             1,
             "#276419"
            ]
           ],
           "sequential": [
            [
             0,
             "#0d0887"
            ],
            [
             0.1111111111111111,
             "#46039f"
            ],
            [
             0.2222222222222222,
             "#7201a8"
            ],
            [
             0.3333333333333333,
             "#9c179e"
            ],
            [
             0.4444444444444444,
             "#bd3786"
            ],
            [
             0.5555555555555556,
             "#d8576b"
            ],
            [
             0.6666666666666666,
             "#ed7953"
            ],
            [
             0.7777777777777778,
             "#fb9f3a"
            ],
            [
             0.8888888888888888,
             "#fdca26"
            ],
            [
             1,
             "#f0f921"
            ]
           ],
           "sequentialminus": [
            [
             0,
             "#0d0887"
            ],
            [
             0.1111111111111111,
             "#46039f"
            ],
            [
             0.2222222222222222,
             "#7201a8"
            ],
            [
             0.3333333333333333,
             "#9c179e"
            ],
            [
             0.4444444444444444,
             "#bd3786"
            ],
            [
             0.5555555555555556,
             "#d8576b"
            ],
            [
             0.6666666666666666,
             "#ed7953"
            ],
            [
             0.7777777777777778,
             "#fb9f3a"
            ],
            [
             0.8888888888888888,
             "#fdca26"
            ],
            [
             1,
             "#f0f921"
            ]
           ]
          },
          "colorway": [
           "#636efa",
           "#EF553B",
           "#00cc96",
           "#ab63fa",
           "#FFA15A",
           "#19d3f3",
           "#FF6692",
           "#B6E880",
           "#FF97FF",
           "#FECB52"
          ],
          "font": {
           "color": "#2a3f5f"
          },
          "geo": {
           "bgcolor": "white",
           "lakecolor": "white",
           "landcolor": "#E5ECF6",
           "showlakes": true,
           "showland": true,
           "subunitcolor": "white"
          },
          "hoverlabel": {
           "align": "left"
          },
          "hovermode": "closest",
          "mapbox": {
           "style": "light"
          },
          "paper_bgcolor": "white",
          "plot_bgcolor": "#E5ECF6",
          "polar": {
           "angularaxis": {
            "gridcolor": "white",
            "linecolor": "white",
            "ticks": ""
           },
           "bgcolor": "#E5ECF6",
           "radialaxis": {
            "gridcolor": "white",
            "linecolor": "white",
            "ticks": ""
           }
          },
          "scene": {
           "xaxis": {
            "backgroundcolor": "#E5ECF6",
            "gridcolor": "white",
            "gridwidth": 2,
            "linecolor": "white",
            "showbackground": true,
            "ticks": "",
            "zerolinecolor": "white"
           },
           "yaxis": {
            "backgroundcolor": "#E5ECF6",
            "gridcolor": "white",
            "gridwidth": 2,
            "linecolor": "white",
            "showbackground": true,
            "ticks": "",
            "zerolinecolor": "white"
           },
           "zaxis": {
            "backgroundcolor": "#E5ECF6",
            "gridcolor": "white",
            "gridwidth": 2,
            "linecolor": "white",
            "showbackground": true,
            "ticks": "",
            "zerolinecolor": "white"
           }
          },
          "shapedefaults": {
           "line": {
            "color": "#2a3f5f"
           }
          },
          "ternary": {
           "aaxis": {
            "gridcolor": "white",
            "linecolor": "white",
            "ticks": ""
           },
           "baxis": {
            "gridcolor": "white",
            "linecolor": "white",
            "ticks": ""
           },
           "bgcolor": "#E5ECF6",
           "caxis": {
            "gridcolor": "white",
            "linecolor": "white",
            "ticks": ""
           }
          },
          "title": {
           "x": 0.05
          },
          "xaxis": {
           "automargin": true,
           "gridcolor": "white",
           "linecolor": "white",
           "ticks": "",
           "title": {
            "standoff": 15
           },
           "zerolinecolor": "white",
           "zerolinewidth": 2
          },
          "yaxis": {
           "automargin": true,
           "gridcolor": "white",
           "linecolor": "white",
           "ticks": "",
           "title": {
            "standoff": 15
           },
           "zerolinecolor": "white",
           "zerolinewidth": 2
          }
         }
        },
        "xaxis": {
         "anchor": "y",
         "domain": [
          0,
          1
         ],
         "title": {
          "text": "Date"
         }
        },
        "yaxis": {
         "anchor": "x",
         "domain": [
          0,
          1
         ],
         "title": {
          "text": "Total"
         }
        }
       }
      }
     },
     "metadata": {},
     "output_type": "display_data"
    }
   ],
   "source": [
    "# Enable renderers to save plots as svg files; othewise the html plots won't be displayed once uploaded on Github\n",
    "# Disable renderers to have interactive inline plots in SVC but not visible once uploaded on Github\n",
    "# pio.renderers.default = \"svg\"\n",
    "\n",
    "\n",
    "#app = Dash(__name__)\n",
    "#Simple example of barplot\n",
    "fig = px.bar(dfs[dfs[\"Date\"].dt.month == 2],\n",
    "             x=\"Date\",\n",
    "             y=\"Total\",\n",
    "             color=\"City\",\n",
    "             text = \"Total_day\",\n",
    "             barmode='group',\n",
    "             text_auto=\".2s\"\n",
    "             )\n",
    "fig.show()"
   ]
  },
  {
   "cell_type": "code",
   "execution_count": 24,
   "metadata": {},
   "outputs": [
    {
     "data": {
      "text/plain": [
       "Gender\n",
       "Female    501\n",
       "Male      499\n",
       "Name: count, dtype: int64"
      ]
     },
     "execution_count": 24,
     "metadata": {},
     "output_type": "execute_result"
    }
   ],
   "source": [
    "df['Gender'].value_counts()"
   ]
  },
  {
   "cell_type": "code",
   "execution_count": 25,
   "metadata": {},
   "outputs": [
    {
     "data": {
      "application/vnd.plotly.v1+json": {
       "config": {
        "plotlyServerURL": "https://plot.ly"
       },
       "data": [
        {
         "domain": {
          "x": [
           0,
           1
          ],
          "y": [
           0,
           1
          ]
         },
         "hole": 0.3,
         "hovertemplate": "Gender=%{label}<br>value=%{value}<extra></extra>",
         "labels": [
          "Female",
          "Male"
         ],
         "legendgroup": "",
         "name": "",
         "showlegend": true,
         "textinfo": "percent+value",
         "textposition": "inside",
         "type": "pie",
         "values": [
          164,
          139
         ]
        }
       ],
       "layout": {
        "legend": {
         "tracegroupgap": 0
        },
        "template": {
         "data": {
          "bar": [
           {
            "error_x": {
             "color": "#2a3f5f"
            },
            "error_y": {
             "color": "#2a3f5f"
            },
            "marker": {
             "line": {
              "color": "#E5ECF6",
              "width": 0.5
             },
             "pattern": {
              "fillmode": "overlay",
              "size": 10,
              "solidity": 0.2
             }
            },
            "type": "bar"
           }
          ],
          "barpolar": [
           {
            "marker": {
             "line": {
              "color": "#E5ECF6",
              "width": 0.5
             },
             "pattern": {
              "fillmode": "overlay",
              "size": 10,
              "solidity": 0.2
             }
            },
            "type": "barpolar"
           }
          ],
          "carpet": [
           {
            "aaxis": {
             "endlinecolor": "#2a3f5f",
             "gridcolor": "white",
             "linecolor": "white",
             "minorgridcolor": "white",
             "startlinecolor": "#2a3f5f"
            },
            "baxis": {
             "endlinecolor": "#2a3f5f",
             "gridcolor": "white",
             "linecolor": "white",
             "minorgridcolor": "white",
             "startlinecolor": "#2a3f5f"
            },
            "type": "carpet"
           }
          ],
          "choropleth": [
           {
            "colorbar": {
             "outlinewidth": 0,
             "ticks": ""
            },
            "type": "choropleth"
           }
          ],
          "contour": [
           {
            "colorbar": {
             "outlinewidth": 0,
             "ticks": ""
            },
            "colorscale": [
             [
              0,
              "#0d0887"
             ],
             [
              0.1111111111111111,
              "#46039f"
             ],
             [
              0.2222222222222222,
              "#7201a8"
             ],
             [
              0.3333333333333333,
              "#9c179e"
             ],
             [
              0.4444444444444444,
              "#bd3786"
             ],
             [
              0.5555555555555556,
              "#d8576b"
             ],
             [
              0.6666666666666666,
              "#ed7953"
             ],
             [
              0.7777777777777778,
              "#fb9f3a"
             ],
             [
              0.8888888888888888,
              "#fdca26"
             ],
             [
              1,
              "#f0f921"
             ]
            ],
            "type": "contour"
           }
          ],
          "contourcarpet": [
           {
            "colorbar": {
             "outlinewidth": 0,
             "ticks": ""
            },
            "type": "contourcarpet"
           }
          ],
          "heatmap": [
           {
            "colorbar": {
             "outlinewidth": 0,
             "ticks": ""
            },
            "colorscale": [
             [
              0,
              "#0d0887"
             ],
             [
              0.1111111111111111,
              "#46039f"
             ],
             [
              0.2222222222222222,
              "#7201a8"
             ],
             [
              0.3333333333333333,
              "#9c179e"
             ],
             [
              0.4444444444444444,
              "#bd3786"
             ],
             [
              0.5555555555555556,
              "#d8576b"
             ],
             [
              0.6666666666666666,
              "#ed7953"
             ],
             [
              0.7777777777777778,
              "#fb9f3a"
             ],
             [
              0.8888888888888888,
              "#fdca26"
             ],
             [
              1,
              "#f0f921"
             ]
            ],
            "type": "heatmap"
           }
          ],
          "heatmapgl": [
           {
            "colorbar": {
             "outlinewidth": 0,
             "ticks": ""
            },
            "colorscale": [
             [
              0,
              "#0d0887"
             ],
             [
              0.1111111111111111,
              "#46039f"
             ],
             [
              0.2222222222222222,
              "#7201a8"
             ],
             [
              0.3333333333333333,
              "#9c179e"
             ],
             [
              0.4444444444444444,
              "#bd3786"
             ],
             [
              0.5555555555555556,
              "#d8576b"
             ],
             [
              0.6666666666666666,
              "#ed7953"
             ],
             [
              0.7777777777777778,
              "#fb9f3a"
             ],
             [
              0.8888888888888888,
              "#fdca26"
             ],
             [
              1,
              "#f0f921"
             ]
            ],
            "type": "heatmapgl"
           }
          ],
          "histogram": [
           {
            "marker": {
             "pattern": {
              "fillmode": "overlay",
              "size": 10,
              "solidity": 0.2
             }
            },
            "type": "histogram"
           }
          ],
          "histogram2d": [
           {
            "colorbar": {
             "outlinewidth": 0,
             "ticks": ""
            },
            "colorscale": [
             [
              0,
              "#0d0887"
             ],
             [
              0.1111111111111111,
              "#46039f"
             ],
             [
              0.2222222222222222,
              "#7201a8"
             ],
             [
              0.3333333333333333,
              "#9c179e"
             ],
             [
              0.4444444444444444,
              "#bd3786"
             ],
             [
              0.5555555555555556,
              "#d8576b"
             ],
             [
              0.6666666666666666,
              "#ed7953"
             ],
             [
              0.7777777777777778,
              "#fb9f3a"
             ],
             [
              0.8888888888888888,
              "#fdca26"
             ],
             [
              1,
              "#f0f921"
             ]
            ],
            "type": "histogram2d"
           }
          ],
          "histogram2dcontour": [
           {
            "colorbar": {
             "outlinewidth": 0,
             "ticks": ""
            },
            "colorscale": [
             [
              0,
              "#0d0887"
             ],
             [
              0.1111111111111111,
              "#46039f"
             ],
             [
              0.2222222222222222,
              "#7201a8"
             ],
             [
              0.3333333333333333,
              "#9c179e"
             ],
             [
              0.4444444444444444,
              "#bd3786"
             ],
             [
              0.5555555555555556,
              "#d8576b"
             ],
             [
              0.6666666666666666,
              "#ed7953"
             ],
             [
              0.7777777777777778,
              "#fb9f3a"
             ],
             [
              0.8888888888888888,
              "#fdca26"
             ],
             [
              1,
              "#f0f921"
             ]
            ],
            "type": "histogram2dcontour"
           }
          ],
          "mesh3d": [
           {
            "colorbar": {
             "outlinewidth": 0,
             "ticks": ""
            },
            "type": "mesh3d"
           }
          ],
          "parcoords": [
           {
            "line": {
             "colorbar": {
              "outlinewidth": 0,
              "ticks": ""
             }
            },
            "type": "parcoords"
           }
          ],
          "pie": [
           {
            "automargin": true,
            "type": "pie"
           }
          ],
          "scatter": [
           {
            "fillpattern": {
             "fillmode": "overlay",
             "size": 10,
             "solidity": 0.2
            },
            "type": "scatter"
           }
          ],
          "scatter3d": [
           {
            "line": {
             "colorbar": {
              "outlinewidth": 0,
              "ticks": ""
             }
            },
            "marker": {
             "colorbar": {
              "outlinewidth": 0,
              "ticks": ""
             }
            },
            "type": "scatter3d"
           }
          ],
          "scattercarpet": [
           {
            "marker": {
             "colorbar": {
              "outlinewidth": 0,
              "ticks": ""
             }
            },
            "type": "scattercarpet"
           }
          ],
          "scattergeo": [
           {
            "marker": {
             "colorbar": {
              "outlinewidth": 0,
              "ticks": ""
             }
            },
            "type": "scattergeo"
           }
          ],
          "scattergl": [
           {
            "marker": {
             "colorbar": {
              "outlinewidth": 0,
              "ticks": ""
             }
            },
            "type": "scattergl"
           }
          ],
          "scattermapbox": [
           {
            "marker": {
             "colorbar": {
              "outlinewidth": 0,
              "ticks": ""
             }
            },
            "type": "scattermapbox"
           }
          ],
          "scatterpolar": [
           {
            "marker": {
             "colorbar": {
              "outlinewidth": 0,
              "ticks": ""
             }
            },
            "type": "scatterpolar"
           }
          ],
          "scatterpolargl": [
           {
            "marker": {
             "colorbar": {
              "outlinewidth": 0,
              "ticks": ""
             }
            },
            "type": "scatterpolargl"
           }
          ],
          "scatterternary": [
           {
            "marker": {
             "colorbar": {
              "outlinewidth": 0,
              "ticks": ""
             }
            },
            "type": "scatterternary"
           }
          ],
          "surface": [
           {
            "colorbar": {
             "outlinewidth": 0,
             "ticks": ""
            },
            "colorscale": [
             [
              0,
              "#0d0887"
             ],
             [
              0.1111111111111111,
              "#46039f"
             ],
             [
              0.2222222222222222,
              "#7201a8"
             ],
             [
              0.3333333333333333,
              "#9c179e"
             ],
             [
              0.4444444444444444,
              "#bd3786"
             ],
             [
              0.5555555555555556,
              "#d8576b"
             ],
             [
              0.6666666666666666,
              "#ed7953"
             ],
             [
              0.7777777777777778,
              "#fb9f3a"
             ],
             [
              0.8888888888888888,
              "#fdca26"
             ],
             [
              1,
              "#f0f921"
             ]
            ],
            "type": "surface"
           }
          ],
          "table": [
           {
            "cells": {
             "fill": {
              "color": "#EBF0F8"
             },
             "line": {
              "color": "white"
             }
            },
            "header": {
             "fill": {
              "color": "#C8D4E3"
             },
             "line": {
              "color": "white"
             }
            },
            "type": "table"
           }
          ]
         },
         "layout": {
          "annotationdefaults": {
           "arrowcolor": "#2a3f5f",
           "arrowhead": 0,
           "arrowwidth": 1
          },
          "autotypenumbers": "strict",
          "coloraxis": {
           "colorbar": {
            "outlinewidth": 0,
            "ticks": ""
           }
          },
          "colorscale": {
           "diverging": [
            [
             0,
             "#8e0152"
            ],
            [
             0.1,
             "#c51b7d"
            ],
            [
             0.2,
             "#de77ae"
            ],
            [
             0.3,
             "#f1b6da"
            ],
            [
             0.4,
             "#fde0ef"
            ],
            [
             0.5,
             "#f7f7f7"
            ],
            [
             0.6,
             "#e6f5d0"
            ],
            [
             0.7,
             "#b8e186"
            ],
            [
             0.8,
             "#7fbc41"
            ],
            [
             0.9,
             "#4d9221"
            ],
            [
             1,
             "#276419"
            ]
           ],
           "sequential": [
            [
             0,
             "#0d0887"
            ],
            [
             0.1111111111111111,
             "#46039f"
            ],
            [
             0.2222222222222222,
             "#7201a8"
            ],
            [
             0.3333333333333333,
             "#9c179e"
            ],
            [
             0.4444444444444444,
             "#bd3786"
            ],
            [
             0.5555555555555556,
             "#d8576b"
            ],
            [
             0.6666666666666666,
             "#ed7953"
            ],
            [
             0.7777777777777778,
             "#fb9f3a"
            ],
            [
             0.8888888888888888,
             "#fdca26"
            ],
            [
             1,
             "#f0f921"
            ]
           ],
           "sequentialminus": [
            [
             0,
             "#0d0887"
            ],
            [
             0.1111111111111111,
             "#46039f"
            ],
            [
             0.2222222222222222,
             "#7201a8"
            ],
            [
             0.3333333333333333,
             "#9c179e"
            ],
            [
             0.4444444444444444,
             "#bd3786"
            ],
            [
             0.5555555555555556,
             "#d8576b"
            ],
            [
             0.6666666666666666,
             "#ed7953"
            ],
            [
             0.7777777777777778,
             "#fb9f3a"
            ],
            [
             0.8888888888888888,
             "#fdca26"
            ],
            [
             1,
             "#f0f921"
            ]
           ]
          },
          "colorway": [
           "#636efa",
           "#EF553B",
           "#00cc96",
           "#ab63fa",
           "#FFA15A",
           "#19d3f3",
           "#FF6692",
           "#B6E880",
           "#FF97FF",
           "#FECB52"
          ],
          "font": {
           "color": "#2a3f5f"
          },
          "geo": {
           "bgcolor": "white",
           "lakecolor": "white",
           "landcolor": "#E5ECF6",
           "showlakes": true,
           "showland": true,
           "subunitcolor": "white"
          },
          "hoverlabel": {
           "align": "left"
          },
          "hovermode": "closest",
          "mapbox": {
           "style": "light"
          },
          "paper_bgcolor": "white",
          "plot_bgcolor": "#E5ECF6",
          "polar": {
           "angularaxis": {
            "gridcolor": "white",
            "linecolor": "white",
            "ticks": ""
           },
           "bgcolor": "#E5ECF6",
           "radialaxis": {
            "gridcolor": "white",
            "linecolor": "white",
            "ticks": ""
           }
          },
          "scene": {
           "xaxis": {
            "backgroundcolor": "#E5ECF6",
            "gridcolor": "white",
            "gridwidth": 2,
            "linecolor": "white",
            "showbackground": true,
            "ticks": "",
            "zerolinecolor": "white"
           },
           "yaxis": {
            "backgroundcolor": "#E5ECF6",
            "gridcolor": "white",
            "gridwidth": 2,
            "linecolor": "white",
            "showbackground": true,
            "ticks": "",
            "zerolinecolor": "white"
           },
           "zaxis": {
            "backgroundcolor": "#E5ECF6",
            "gridcolor": "white",
            "gridwidth": 2,
            "linecolor": "white",
            "showbackground": true,
            "ticks": "",
            "zerolinecolor": "white"
           }
          },
          "shapedefaults": {
           "line": {
            "color": "#2a3f5f"
           }
          },
          "ternary": {
           "aaxis": {
            "gridcolor": "white",
            "linecolor": "white",
            "ticks": ""
           },
           "baxis": {
            "gridcolor": "white",
            "linecolor": "white",
            "ticks": ""
           },
           "bgcolor": "#E5ECF6",
           "caxis": {
            "gridcolor": "white",
            "linecolor": "white",
            "ticks": ""
           }
          },
          "title": {
           "x": 0.05
          },
          "xaxis": {
           "automargin": true,
           "gridcolor": "white",
           "linecolor": "white",
           "ticks": "",
           "title": {
            "standoff": 15
           },
           "zerolinecolor": "white",
           "zerolinewidth": 2
          },
          "yaxis": {
           "automargin": true,
           "gridcolor": "white",
           "linecolor": "white",
           "ticks": "",
           "title": {
            "standoff": 15
           },
           "zerolinecolor": "white",
           "zerolinewidth": 2
          }
         }
        },
        "title": {
         "text": "Total by City, February"
        }
       }
      }
     },
     "metadata": {},
     "output_type": "display_data"
    }
   ],
   "source": [
    "#Simple example of pie\n",
    "gender_by_month = df[df[\"Date\"].dt.month == 2][\"Gender\"].value_counts()\n",
    "fig = px.pie(gender_by_month,\n",
    "             values=gender_by_month.values,\n",
    "             names=gender_by_month.index,\n",
    "             title='Total by City, February',\n",
    "             hole=.3)\n",
    "fig.update_traces(textposition='inside',\n",
    "                  textinfo='percent+value')\n",
    "#textinfo: flaglist string. Any combination of \"label\", \"text\", \"value\", \"percent\" joined with a \"+\" OR \"none\".\n",
    "\n",
    "\n",
    "fig.show()"
   ]
  },
  {
   "cell_type": "code",
   "execution_count": 26,
   "metadata": {},
   "outputs": [
    {
     "data": {
      "application/vnd.plotly.v1+json": {
       "config": {
        "plotlyServerURL": "https://plot.ly"
       },
       "data": [
        {
         "domain": {
          "x": [
           0,
           1
          ],
          "y": [
           0,
           1
          ]
         },
         "hole": 0.3,
         "hovertemplate": "Payment=%{label}<br>value=%{value}<extra></extra>",
         "labels": [
          "Cash",
          "Ewallet",
          "Credit card"
         ],
         "legendgroup": "",
         "name": "",
         "showlegend": true,
         "textinfo": "percent+value",
         "textposition": "inside",
         "type": "pie",
         "values": [
          112,
          101,
          90
         ]
        }
       ],
       "layout": {
        "legend": {
         "tracegroupgap": 0
        },
        "template": {
         "data": {
          "bar": [
           {
            "error_x": {
             "color": "#2a3f5f"
            },
            "error_y": {
             "color": "#2a3f5f"
            },
            "marker": {
             "line": {
              "color": "#E5ECF6",
              "width": 0.5
             },
             "pattern": {
              "fillmode": "overlay",
              "size": 10,
              "solidity": 0.2
             }
            },
            "type": "bar"
           }
          ],
          "barpolar": [
           {
            "marker": {
             "line": {
              "color": "#E5ECF6",
              "width": 0.5
             },
             "pattern": {
              "fillmode": "overlay",
              "size": 10,
              "solidity": 0.2
             }
            },
            "type": "barpolar"
           }
          ],
          "carpet": [
           {
            "aaxis": {
             "endlinecolor": "#2a3f5f",
             "gridcolor": "white",
             "linecolor": "white",
             "minorgridcolor": "white",
             "startlinecolor": "#2a3f5f"
            },
            "baxis": {
             "endlinecolor": "#2a3f5f",
             "gridcolor": "white",
             "linecolor": "white",
             "minorgridcolor": "white",
             "startlinecolor": "#2a3f5f"
            },
            "type": "carpet"
           }
          ],
          "choropleth": [
           {
            "colorbar": {
             "outlinewidth": 0,
             "ticks": ""
            },
            "type": "choropleth"
           }
          ],
          "contour": [
           {
            "colorbar": {
             "outlinewidth": 0,
             "ticks": ""
            },
            "colorscale": [
             [
              0,
              "#0d0887"
             ],
             [
              0.1111111111111111,
              "#46039f"
             ],
             [
              0.2222222222222222,
              "#7201a8"
             ],
             [
              0.3333333333333333,
              "#9c179e"
             ],
             [
              0.4444444444444444,
              "#bd3786"
             ],
             [
              0.5555555555555556,
              "#d8576b"
             ],
             [
              0.6666666666666666,
              "#ed7953"
             ],
             [
              0.7777777777777778,
              "#fb9f3a"
             ],
             [
              0.8888888888888888,
              "#fdca26"
             ],
             [
              1,
              "#f0f921"
             ]
            ],
            "type": "contour"
           }
          ],
          "contourcarpet": [
           {
            "colorbar": {
             "outlinewidth": 0,
             "ticks": ""
            },
            "type": "contourcarpet"
           }
          ],
          "heatmap": [
           {
            "colorbar": {
             "outlinewidth": 0,
             "ticks": ""
            },
            "colorscale": [
             [
              0,
              "#0d0887"
             ],
             [
              0.1111111111111111,
              "#46039f"
             ],
             [
              0.2222222222222222,
              "#7201a8"
             ],
             [
              0.3333333333333333,
              "#9c179e"
             ],
             [
              0.4444444444444444,
              "#bd3786"
             ],
             [
              0.5555555555555556,
              "#d8576b"
             ],
             [
              0.6666666666666666,
              "#ed7953"
             ],
             [
              0.7777777777777778,
              "#fb9f3a"
             ],
             [
              0.8888888888888888,
              "#fdca26"
             ],
             [
              1,
              "#f0f921"
             ]
            ],
            "type": "heatmap"
           }
          ],
          "heatmapgl": [
           {
            "colorbar": {
             "outlinewidth": 0,
             "ticks": ""
            },
            "colorscale": [
             [
              0,
              "#0d0887"
             ],
             [
              0.1111111111111111,
              "#46039f"
             ],
             [
              0.2222222222222222,
              "#7201a8"
             ],
             [
              0.3333333333333333,
              "#9c179e"
             ],
             [
              0.4444444444444444,
              "#bd3786"
             ],
             [
              0.5555555555555556,
              "#d8576b"
             ],
             [
              0.6666666666666666,
              "#ed7953"
             ],
             [
              0.7777777777777778,
              "#fb9f3a"
             ],
             [
              0.8888888888888888,
              "#fdca26"
             ],
             [
              1,
              "#f0f921"
             ]
            ],
            "type": "heatmapgl"
           }
          ],
          "histogram": [
           {
            "marker": {
             "pattern": {
              "fillmode": "overlay",
              "size": 10,
              "solidity": 0.2
             }
            },
            "type": "histogram"
           }
          ],
          "histogram2d": [
           {
            "colorbar": {
             "outlinewidth": 0,
             "ticks": ""
            },
            "colorscale": [
             [
              0,
              "#0d0887"
             ],
             [
              0.1111111111111111,
              "#46039f"
             ],
             [
              0.2222222222222222,
              "#7201a8"
             ],
             [
              0.3333333333333333,
              "#9c179e"
             ],
             [
              0.4444444444444444,
              "#bd3786"
             ],
             [
              0.5555555555555556,
              "#d8576b"
             ],
             [
              0.6666666666666666,
              "#ed7953"
             ],
             [
              0.7777777777777778,
              "#fb9f3a"
             ],
             [
              0.8888888888888888,
              "#fdca26"
             ],
             [
              1,
              "#f0f921"
             ]
            ],
            "type": "histogram2d"
           }
          ],
          "histogram2dcontour": [
           {
            "colorbar": {
             "outlinewidth": 0,
             "ticks": ""
            },
            "colorscale": [
             [
              0,
              "#0d0887"
             ],
             [
              0.1111111111111111,
              "#46039f"
             ],
             [
              0.2222222222222222,
              "#7201a8"
             ],
             [
              0.3333333333333333,
              "#9c179e"
             ],
             [
              0.4444444444444444,
              "#bd3786"
             ],
             [
              0.5555555555555556,
              "#d8576b"
             ],
             [
              0.6666666666666666,
              "#ed7953"
             ],
             [
              0.7777777777777778,
              "#fb9f3a"
             ],
             [
              0.8888888888888888,
              "#fdca26"
             ],
             [
              1,
              "#f0f921"
             ]
            ],
            "type": "histogram2dcontour"
           }
          ],
          "mesh3d": [
           {
            "colorbar": {
             "outlinewidth": 0,
             "ticks": ""
            },
            "type": "mesh3d"
           }
          ],
          "parcoords": [
           {
            "line": {
             "colorbar": {
              "outlinewidth": 0,
              "ticks": ""
             }
            },
            "type": "parcoords"
           }
          ],
          "pie": [
           {
            "automargin": true,
            "type": "pie"
           }
          ],
          "scatter": [
           {
            "fillpattern": {
             "fillmode": "overlay",
             "size": 10,
             "solidity": 0.2
            },
            "type": "scatter"
           }
          ],
          "scatter3d": [
           {
            "line": {
             "colorbar": {
              "outlinewidth": 0,
              "ticks": ""
             }
            },
            "marker": {
             "colorbar": {
              "outlinewidth": 0,
              "ticks": ""
             }
            },
            "type": "scatter3d"
           }
          ],
          "scattercarpet": [
           {
            "marker": {
             "colorbar": {
              "outlinewidth": 0,
              "ticks": ""
             }
            },
            "type": "scattercarpet"
           }
          ],
          "scattergeo": [
           {
            "marker": {
             "colorbar": {
              "outlinewidth": 0,
              "ticks": ""
             }
            },
            "type": "scattergeo"
           }
          ],
          "scattergl": [
           {
            "marker": {
             "colorbar": {
              "outlinewidth": 0,
              "ticks": ""
             }
            },
            "type": "scattergl"
           }
          ],
          "scattermapbox": [
           {
            "marker": {
             "colorbar": {
              "outlinewidth": 0,
              "ticks": ""
             }
            },
            "type": "scattermapbox"
           }
          ],
          "scatterpolar": [
           {
            "marker": {
             "colorbar": {
              "outlinewidth": 0,
              "ticks": ""
             }
            },
            "type": "scatterpolar"
           }
          ],
          "scatterpolargl": [
           {
            "marker": {
             "colorbar": {
              "outlinewidth": 0,
              "ticks": ""
             }
            },
            "type": "scatterpolargl"
           }
          ],
          "scatterternary": [
           {
            "marker": {
             "colorbar": {
              "outlinewidth": 0,
              "ticks": ""
             }
            },
            "type": "scatterternary"
           }
          ],
          "surface": [
           {
            "colorbar": {
             "outlinewidth": 0,
             "ticks": ""
            },
            "colorscale": [
             [
              0,
              "#0d0887"
             ],
             [
              0.1111111111111111,
              "#46039f"
             ],
             [
              0.2222222222222222,
              "#7201a8"
             ],
             [
              0.3333333333333333,
              "#9c179e"
             ],
             [
              0.4444444444444444,
              "#bd3786"
             ],
             [
              0.5555555555555556,
              "#d8576b"
             ],
             [
              0.6666666666666666,
              "#ed7953"
             ],
             [
              0.7777777777777778,
              "#fb9f3a"
             ],
             [
              0.8888888888888888,
              "#fdca26"
             ],
             [
              1,
              "#f0f921"
             ]
            ],
            "type": "surface"
           }
          ],
          "table": [
           {
            "cells": {
             "fill": {
              "color": "#EBF0F8"
             },
             "line": {
              "color": "white"
             }
            },
            "header": {
             "fill": {
              "color": "#C8D4E3"
             },
             "line": {
              "color": "white"
             }
            },
            "type": "table"
           }
          ]
         },
         "layout": {
          "annotationdefaults": {
           "arrowcolor": "#2a3f5f",
           "arrowhead": 0,
           "arrowwidth": 1
          },
          "autotypenumbers": "strict",
          "coloraxis": {
           "colorbar": {
            "outlinewidth": 0,
            "ticks": ""
           }
          },
          "colorscale": {
           "diverging": [
            [
             0,
             "#8e0152"
            ],
            [
             0.1,
             "#c51b7d"
            ],
            [
             0.2,
             "#de77ae"
            ],
            [
             0.3,
             "#f1b6da"
            ],
            [
             0.4,
             "#fde0ef"
            ],
            [
             0.5,
             "#f7f7f7"
            ],
            [
             0.6,
             "#e6f5d0"
            ],
            [
             0.7,
             "#b8e186"
            ],
            [
             0.8,
             "#7fbc41"
            ],
            [
             0.9,
             "#4d9221"
            ],
            [
             1,
             "#276419"
            ]
           ],
           "sequential": [
            [
             0,
             "#0d0887"
            ],
            [
             0.1111111111111111,
             "#46039f"
            ],
            [
             0.2222222222222222,
             "#7201a8"
            ],
            [
             0.3333333333333333,
             "#9c179e"
            ],
            [
             0.4444444444444444,
             "#bd3786"
            ],
            [
             0.5555555555555556,
             "#d8576b"
            ],
            [
             0.6666666666666666,
             "#ed7953"
            ],
            [
             0.7777777777777778,
             "#fb9f3a"
            ],
            [
             0.8888888888888888,
             "#fdca26"
            ],
            [
             1,
             "#f0f921"
            ]
           ],
           "sequentialminus": [
            [
             0,
             "#0d0887"
            ],
            [
             0.1111111111111111,
             "#46039f"
            ],
            [
             0.2222222222222222,
             "#7201a8"
            ],
            [
             0.3333333333333333,
             "#9c179e"
            ],
            [
             0.4444444444444444,
             "#bd3786"
            ],
            [
             0.5555555555555556,
             "#d8576b"
            ],
            [
             0.6666666666666666,
             "#ed7953"
            ],
            [
             0.7777777777777778,
             "#fb9f3a"
            ],
            [
             0.8888888888888888,
             "#fdca26"
            ],
            [
             1,
             "#f0f921"
            ]
           ]
          },
          "colorway": [
           "#636efa",
           "#EF553B",
           "#00cc96",
           "#ab63fa",
           "#FFA15A",
           "#19d3f3",
           "#FF6692",
           "#B6E880",
           "#FF97FF",
           "#FECB52"
          ],
          "font": {
           "color": "#2a3f5f"
          },
          "geo": {
           "bgcolor": "white",
           "lakecolor": "white",
           "landcolor": "#E5ECF6",
           "showlakes": true,
           "showland": true,
           "subunitcolor": "white"
          },
          "hoverlabel": {
           "align": "left"
          },
          "hovermode": "closest",
          "mapbox": {
           "style": "light"
          },
          "paper_bgcolor": "white",
          "plot_bgcolor": "#E5ECF6",
          "polar": {
           "angularaxis": {
            "gridcolor": "white",
            "linecolor": "white",
            "ticks": ""
           },
           "bgcolor": "#E5ECF6",
           "radialaxis": {
            "gridcolor": "white",
            "linecolor": "white",
            "ticks": ""
           }
          },
          "scene": {
           "xaxis": {
            "backgroundcolor": "#E5ECF6",
            "gridcolor": "white",
            "gridwidth": 2,
            "linecolor": "white",
            "showbackground": true,
            "ticks": "",
            "zerolinecolor": "white"
           },
           "yaxis": {
            "backgroundcolor": "#E5ECF6",
            "gridcolor": "white",
            "gridwidth": 2,
            "linecolor": "white",
            "showbackground": true,
            "ticks": "",
            "zerolinecolor": "white"
           },
           "zaxis": {
            "backgroundcolor": "#E5ECF6",
            "gridcolor": "white",
            "gridwidth": 2,
            "linecolor": "white",
            "showbackground": true,
            "ticks": "",
            "zerolinecolor": "white"
           }
          },
          "shapedefaults": {
           "line": {
            "color": "#2a3f5f"
           }
          },
          "ternary": {
           "aaxis": {
            "gridcolor": "white",
            "linecolor": "white",
            "ticks": ""
           },
           "baxis": {
            "gridcolor": "white",
            "linecolor": "white",
            "ticks": ""
           },
           "bgcolor": "#E5ECF6",
           "caxis": {
            "gridcolor": "white",
            "linecolor": "white",
            "ticks": ""
           }
          },
          "title": {
           "x": 0.05
          },
          "xaxis": {
           "automargin": true,
           "gridcolor": "white",
           "linecolor": "white",
           "ticks": "",
           "title": {
            "standoff": 15
           },
           "zerolinecolor": "white",
           "zerolinewidth": 2
          },
          "yaxis": {
           "automargin": true,
           "gridcolor": "white",
           "linecolor": "white",
           "ticks": "",
           "title": {
            "standoff": 15
           },
           "zerolinecolor": "white",
           "zerolinewidth": 2
          }
         }
        },
        "title": {
         "text": "Total by City, February"
        }
       }
      }
     },
     "metadata": {},
     "output_type": "display_data"
    }
   ],
   "source": [
    "#Pie of Payment types\n",
    "payment_by_month = df[df[\"Date\"].dt.month == 2][\"Payment\"].value_counts()\n",
    "fig = px.pie(payment_by_month,\n",
    "             values=payment_by_month.values,\n",
    "             names=payment_by_month.index,\n",
    "             title='Total by City, February',\n",
    "             hole=.3)\n",
    "fig.update_traces(textposition='inside',\n",
    "                  textinfo='percent+value')\n",
    "#textinfo: flaglist string. Any combination of \"label\", \"text\", \"value\", \"percent\" joined with a \"+\" OR \"none\".\n",
    "\n",
    "\n",
    "fig.show()"
   ]
  },
  {
   "cell_type": "code",
   "execution_count": 46,
   "metadata": {},
   "outputs": [
    {
     "data": {
      "text/html": [
       "<div>\n",
       "<style scoped>\n",
       "    .dataframe tbody tr th:only-of-type {\n",
       "        vertical-align: middle;\n",
       "    }\n",
       "\n",
       "    .dataframe tbody tr th {\n",
       "        vertical-align: top;\n",
       "    }\n",
       "\n",
       "    .dataframe thead th {\n",
       "        text-align: right;\n",
       "    }\n",
       "</style>\n",
       "<table border=\"1\" class=\"dataframe\">\n",
       "  <thead>\n",
       "    <tr style=\"text-align: right;\">\n",
       "      <th></th>\n",
       "      <th>Customer Type</th>\n",
       "      <th>Count</th>\n",
       "      <th>Customer_t</th>\n",
       "    </tr>\n",
       "  </thead>\n",
       "  <tbody>\n",
       "    <tr>\n",
       "      <th>0</th>\n",
       "      <td>Member</td>\n",
       "      <td>163</td>\n",
       "      <td>Customer Type</td>\n",
       "    </tr>\n",
       "    <tr>\n",
       "      <th>1</th>\n",
       "      <td>Normal</td>\n",
       "      <td>140</td>\n",
       "      <td>Customer Type</td>\n",
       "    </tr>\n",
       "  </tbody>\n",
       "</table>\n",
       "</div>"
      ],
      "text/plain": [
       "  Customer Type  Count     Customer_t\n",
       "0        Member    163  Customer Type\n",
       "1        Normal    140  Customer Type"
      ]
     },
     "execution_count": 46,
     "metadata": {},
     "output_type": "execute_result"
    }
   ],
   "source": [
    "#Bar plot\n",
    "customer_type_by_month = df[df[\"Date\"].dt.month == 2][\"Customer type\"].value_counts()\n",
    "df_ct = customer_type_by_month.reset_index()\n",
    "df_ct.columns = ['Customer Type', 'Count']\n",
    "#Adding a dummy column for the X-axis (Otherwise it will always be in separated columns) \n",
    "df_ct['Customer_t'] = \"Customer Type\"\n",
    "df_ct"
   ]
  },
  {
   "cell_type": "code",
   "execution_count": 52,
   "metadata": {},
   "outputs": [
    {
     "data": {
      "application/vnd.plotly.v1+json": {
       "config": {
        "plotlyServerURL": "https://plot.ly"
       },
       "data": [
        {
         "alignmentgroup": "True",
         "hovertemplate": "Customer Type=Member<br>Customer_t=%{x}<br>Count=%{y}<extra></extra>",
         "legendgroup": "Member",
         "marker": {
          "color": "#636efa",
          "pattern": {
           "shape": ""
          }
         },
         "name": "Member",
         "offsetgroup": "Member",
         "orientation": "v",
         "showlegend": true,
         "textposition": "auto",
         "type": "bar",
         "x": [
          "Customer Type"
         ],
         "xaxis": "x",
         "y": [
          163
         ],
         "yaxis": "y"
        },
        {
         "alignmentgroup": "True",
         "hovertemplate": "Customer Type=Normal<br>Customer_t=%{x}<br>Count=%{y}<extra></extra>",
         "legendgroup": "Normal",
         "marker": {
          "color": "#EF553B",
          "pattern": {
           "shape": ""
          }
         },
         "name": "Normal",
         "offsetgroup": "Normal",
         "orientation": "v",
         "showlegend": true,
         "textposition": "auto",
         "type": "bar",
         "x": [
          "Customer Type"
         ],
         "xaxis": "x",
         "y": [
          140
         ],
         "yaxis": "y"
        }
       ],
       "layout": {
        "barmode": "stack",
        "legend": {
         "title": {
          "text": "Customer Type"
         },
         "tracegroupgap": 0
        },
        "margin": {
         "t": 60
        },
        "template": {
         "data": {
          "bar": [
           {
            "error_x": {
             "color": "#2a3f5f"
            },
            "error_y": {
             "color": "#2a3f5f"
            },
            "marker": {
             "line": {
              "color": "#E5ECF6",
              "width": 0.5
             },
             "pattern": {
              "fillmode": "overlay",
              "size": 10,
              "solidity": 0.2
             }
            },
            "type": "bar"
           }
          ],
          "barpolar": [
           {
            "marker": {
             "line": {
              "color": "#E5ECF6",
              "width": 0.5
             },
             "pattern": {
              "fillmode": "overlay",
              "size": 10,
              "solidity": 0.2
             }
            },
            "type": "barpolar"
           }
          ],
          "carpet": [
           {
            "aaxis": {
             "endlinecolor": "#2a3f5f",
             "gridcolor": "white",
             "linecolor": "white",
             "minorgridcolor": "white",
             "startlinecolor": "#2a3f5f"
            },
            "baxis": {
             "endlinecolor": "#2a3f5f",
             "gridcolor": "white",
             "linecolor": "white",
             "minorgridcolor": "white",
             "startlinecolor": "#2a3f5f"
            },
            "type": "carpet"
           }
          ],
          "choropleth": [
           {
            "colorbar": {
             "outlinewidth": 0,
             "ticks": ""
            },
            "type": "choropleth"
           }
          ],
          "contour": [
           {
            "colorbar": {
             "outlinewidth": 0,
             "ticks": ""
            },
            "colorscale": [
             [
              0,
              "#0d0887"
             ],
             [
              0.1111111111111111,
              "#46039f"
             ],
             [
              0.2222222222222222,
              "#7201a8"
             ],
             [
              0.3333333333333333,
              "#9c179e"
             ],
             [
              0.4444444444444444,
              "#bd3786"
             ],
             [
              0.5555555555555556,
              "#d8576b"
             ],
             [
              0.6666666666666666,
              "#ed7953"
             ],
             [
              0.7777777777777778,
              "#fb9f3a"
             ],
             [
              0.8888888888888888,
              "#fdca26"
             ],
             [
              1,
              "#f0f921"
             ]
            ],
            "type": "contour"
           }
          ],
          "contourcarpet": [
           {
            "colorbar": {
             "outlinewidth": 0,
             "ticks": ""
            },
            "type": "contourcarpet"
           }
          ],
          "heatmap": [
           {
            "colorbar": {
             "outlinewidth": 0,
             "ticks": ""
            },
            "colorscale": [
             [
              0,
              "#0d0887"
             ],
             [
              0.1111111111111111,
              "#46039f"
             ],
             [
              0.2222222222222222,
              "#7201a8"
             ],
             [
              0.3333333333333333,
              "#9c179e"
             ],
             [
              0.4444444444444444,
              "#bd3786"
             ],
             [
              0.5555555555555556,
              "#d8576b"
             ],
             [
              0.6666666666666666,
              "#ed7953"
             ],
             [
              0.7777777777777778,
              "#fb9f3a"
             ],
             [
              0.8888888888888888,
              "#fdca26"
             ],
             [
              1,
              "#f0f921"
             ]
            ],
            "type": "heatmap"
           }
          ],
          "heatmapgl": [
           {
            "colorbar": {
             "outlinewidth": 0,
             "ticks": ""
            },
            "colorscale": [
             [
              0,
              "#0d0887"
             ],
             [
              0.1111111111111111,
              "#46039f"
             ],
             [
              0.2222222222222222,
              "#7201a8"
             ],
             [
              0.3333333333333333,
              "#9c179e"
             ],
             [
              0.4444444444444444,
              "#bd3786"
             ],
             [
              0.5555555555555556,
              "#d8576b"
             ],
             [
              0.6666666666666666,
              "#ed7953"
             ],
             [
              0.7777777777777778,
              "#fb9f3a"
             ],
             [
              0.8888888888888888,
              "#fdca26"
             ],
             [
              1,
              "#f0f921"
             ]
            ],
            "type": "heatmapgl"
           }
          ],
          "histogram": [
           {
            "marker": {
             "pattern": {
              "fillmode": "overlay",
              "size": 10,
              "solidity": 0.2
             }
            },
            "type": "histogram"
           }
          ],
          "histogram2d": [
           {
            "colorbar": {
             "outlinewidth": 0,
             "ticks": ""
            },
            "colorscale": [
             [
              0,
              "#0d0887"
             ],
             [
              0.1111111111111111,
              "#46039f"
             ],
             [
              0.2222222222222222,
              "#7201a8"
             ],
             [
              0.3333333333333333,
              "#9c179e"
             ],
             [
              0.4444444444444444,
              "#bd3786"
             ],
             [
              0.5555555555555556,
              "#d8576b"
             ],
             [
              0.6666666666666666,
              "#ed7953"
             ],
             [
              0.7777777777777778,
              "#fb9f3a"
             ],
             [
              0.8888888888888888,
              "#fdca26"
             ],
             [
              1,
              "#f0f921"
             ]
            ],
            "type": "histogram2d"
           }
          ],
          "histogram2dcontour": [
           {
            "colorbar": {
             "outlinewidth": 0,
             "ticks": ""
            },
            "colorscale": [
             [
              0,
              "#0d0887"
             ],
             [
              0.1111111111111111,
              "#46039f"
             ],
             [
              0.2222222222222222,
              "#7201a8"
             ],
             [
              0.3333333333333333,
              "#9c179e"
             ],
             [
              0.4444444444444444,
              "#bd3786"
             ],
             [
              0.5555555555555556,
              "#d8576b"
             ],
             [
              0.6666666666666666,
              "#ed7953"
             ],
             [
              0.7777777777777778,
              "#fb9f3a"
             ],
             [
              0.8888888888888888,
              "#fdca26"
             ],
             [
              1,
              "#f0f921"
             ]
            ],
            "type": "histogram2dcontour"
           }
          ],
          "mesh3d": [
           {
            "colorbar": {
             "outlinewidth": 0,
             "ticks": ""
            },
            "type": "mesh3d"
           }
          ],
          "parcoords": [
           {
            "line": {
             "colorbar": {
              "outlinewidth": 0,
              "ticks": ""
             }
            },
            "type": "parcoords"
           }
          ],
          "pie": [
           {
            "automargin": true,
            "type": "pie"
           }
          ],
          "scatter": [
           {
            "fillpattern": {
             "fillmode": "overlay",
             "size": 10,
             "solidity": 0.2
            },
            "type": "scatter"
           }
          ],
          "scatter3d": [
           {
            "line": {
             "colorbar": {
              "outlinewidth": 0,
              "ticks": ""
             }
            },
            "marker": {
             "colorbar": {
              "outlinewidth": 0,
              "ticks": ""
             }
            },
            "type": "scatter3d"
           }
          ],
          "scattercarpet": [
           {
            "marker": {
             "colorbar": {
              "outlinewidth": 0,
              "ticks": ""
             }
            },
            "type": "scattercarpet"
           }
          ],
          "scattergeo": [
           {
            "marker": {
             "colorbar": {
              "outlinewidth": 0,
              "ticks": ""
             }
            },
            "type": "scattergeo"
           }
          ],
          "scattergl": [
           {
            "marker": {
             "colorbar": {
              "outlinewidth": 0,
              "ticks": ""
             }
            },
            "type": "scattergl"
           }
          ],
          "scattermapbox": [
           {
            "marker": {
             "colorbar": {
              "outlinewidth": 0,
              "ticks": ""
             }
            },
            "type": "scattermapbox"
           }
          ],
          "scatterpolar": [
           {
            "marker": {
             "colorbar": {
              "outlinewidth": 0,
              "ticks": ""
             }
            },
            "type": "scatterpolar"
           }
          ],
          "scatterpolargl": [
           {
            "marker": {
             "colorbar": {
              "outlinewidth": 0,
              "ticks": ""
             }
            },
            "type": "scatterpolargl"
           }
          ],
          "scatterternary": [
           {
            "marker": {
             "colorbar": {
              "outlinewidth": 0,
              "ticks": ""
             }
            },
            "type": "scatterternary"
           }
          ],
          "surface": [
           {
            "colorbar": {
             "outlinewidth": 0,
             "ticks": ""
            },
            "colorscale": [
             [
              0,
              "#0d0887"
             ],
             [
              0.1111111111111111,
              "#46039f"
             ],
             [
              0.2222222222222222,
              "#7201a8"
             ],
             [
              0.3333333333333333,
              "#9c179e"
             ],
             [
              0.4444444444444444,
              "#bd3786"
             ],
             [
              0.5555555555555556,
              "#d8576b"
             ],
             [
              0.6666666666666666,
              "#ed7953"
             ],
             [
              0.7777777777777778,
              "#fb9f3a"
             ],
             [
              0.8888888888888888,
              "#fdca26"
             ],
             [
              1,
              "#f0f921"
             ]
            ],
            "type": "surface"
           }
          ],
          "table": [
           {
            "cells": {
             "fill": {
              "color": "#EBF0F8"
             },
             "line": {
              "color": "white"
             }
            },
            "header": {
             "fill": {
              "color": "#C8D4E3"
             },
             "line": {
              "color": "white"
             }
            },
            "type": "table"
           }
          ]
         },
         "layout": {
          "annotationdefaults": {
           "arrowcolor": "#2a3f5f",
           "arrowhead": 0,
           "arrowwidth": 1
          },
          "autotypenumbers": "strict",
          "coloraxis": {
           "colorbar": {
            "outlinewidth": 0,
            "ticks": ""
           }
          },
          "colorscale": {
           "diverging": [
            [
             0,
             "#8e0152"
            ],
            [
             0.1,
             "#c51b7d"
            ],
            [
             0.2,
             "#de77ae"
            ],
            [
             0.3,
             "#f1b6da"
            ],
            [
             0.4,
             "#fde0ef"
            ],
            [
             0.5,
             "#f7f7f7"
            ],
            [
             0.6,
             "#e6f5d0"
            ],
            [
             0.7,
             "#b8e186"
            ],
            [
             0.8,
             "#7fbc41"
            ],
            [
             0.9,
             "#4d9221"
            ],
            [
             1,
             "#276419"
            ]
           ],
           "sequential": [
            [
             0,
             "#0d0887"
            ],
            [
             0.1111111111111111,
             "#46039f"
            ],
            [
             0.2222222222222222,
             "#7201a8"
            ],
            [
             0.3333333333333333,
             "#9c179e"
            ],
            [
             0.4444444444444444,
             "#bd3786"
            ],
            [
             0.5555555555555556,
             "#d8576b"
            ],
            [
             0.6666666666666666,
             "#ed7953"
            ],
            [
             0.7777777777777778,
             "#fb9f3a"
            ],
            [
             0.8888888888888888,
             "#fdca26"
            ],
            [
             1,
             "#f0f921"
            ]
           ],
           "sequentialminus": [
            [
             0,
             "#0d0887"
            ],
            [
             0.1111111111111111,
             "#46039f"
            ],
            [
             0.2222222222222222,
             "#7201a8"
            ],
            [
             0.3333333333333333,
             "#9c179e"
            ],
            [
             0.4444444444444444,
             "#bd3786"
            ],
            [
             0.5555555555555556,
             "#d8576b"
            ],
            [
             0.6666666666666666,
             "#ed7953"
            ],
            [
             0.7777777777777778,
             "#fb9f3a"
            ],
            [
             0.8888888888888888,
             "#fdca26"
            ],
            [
             1,
             "#f0f921"
            ]
           ]
          },
          "colorway": [
           "#636efa",
           "#EF553B",
           "#00cc96",
           "#ab63fa",
           "#FFA15A",
           "#19d3f3",
           "#FF6692",
           "#B6E880",
           "#FF97FF",
           "#FECB52"
          ],
          "font": {
           "color": "#2a3f5f"
          },
          "geo": {
           "bgcolor": "white",
           "lakecolor": "white",
           "landcolor": "#E5ECF6",
           "showlakes": true,
           "showland": true,
           "subunitcolor": "white"
          },
          "hoverlabel": {
           "align": "left"
          },
          "hovermode": "closest",
          "mapbox": {
           "style": "light"
          },
          "paper_bgcolor": "white",
          "plot_bgcolor": "#E5ECF6",
          "polar": {
           "angularaxis": {
            "gridcolor": "white",
            "linecolor": "white",
            "ticks": ""
           },
           "bgcolor": "#E5ECF6",
           "radialaxis": {
            "gridcolor": "white",
            "linecolor": "white",
            "ticks": ""
           }
          },
          "scene": {
           "xaxis": {
            "backgroundcolor": "#E5ECF6",
            "gridcolor": "white",
            "gridwidth": 2,
            "linecolor": "white",
            "showbackground": true,
            "ticks": "",
            "zerolinecolor": "white"
           },
           "yaxis": {
            "backgroundcolor": "#E5ECF6",
            "gridcolor": "white",
            "gridwidth": 2,
            "linecolor": "white",
            "showbackground": true,
            "ticks": "",
            "zerolinecolor": "white"
           },
           "zaxis": {
            "backgroundcolor": "#E5ECF6",
            "gridcolor": "white",
            "gridwidth": 2,
            "linecolor": "white",
            "showbackground": true,
            "ticks": "",
            "zerolinecolor": "white"
           }
          },
          "shapedefaults": {
           "line": {
            "color": "#2a3f5f"
           }
          },
          "ternary": {
           "aaxis": {
            "gridcolor": "white",
            "linecolor": "white",
            "ticks": ""
           },
           "baxis": {
            "gridcolor": "white",
            "linecolor": "white",
            "ticks": ""
           },
           "bgcolor": "#E5ECF6",
           "caxis": {
            "gridcolor": "white",
            "linecolor": "white",
            "ticks": ""
           }
          },
          "title": {
           "x": 0.05
          },
          "xaxis": {
           "automargin": true,
           "gridcolor": "white",
           "linecolor": "white",
           "ticks": "",
           "title": {
            "standoff": 15
           },
           "zerolinecolor": "white",
           "zerolinewidth": 2
          },
          "yaxis": {
           "automargin": true,
           "gridcolor": "white",
           "linecolor": "white",
           "ticks": "",
           "title": {
            "standoff": 15
           },
           "zerolinecolor": "white",
           "zerolinewidth": 2
          }
         }
        },
        "title": {
         "text": "Customer Type in February"
        },
        "xaxis": {
         "anchor": "y",
         "domain": [
          0,
          1
         ],
         "title": {
          "text": ""
         }
        },
        "yaxis": {
         "anchor": "x",
         "domain": [
          0,
          1
         ],
         "title": {
          "text": "Count"
         }
        }
       }
      }
     },
     "metadata": {},
     "output_type": "display_data"
    }
   ],
   "source": [
    "fig = px.bar(df_ct,\n",
    "             x=\"Customer_t\",\n",
    "             y=\"Count\",\n",
    "             color=\"Customer Type\",\n",
    "             barmode='stack',\n",
    "             )\n",
    "fig.update_layout(title='Customer Type in February')\n",
    "fig.update_xaxes(title='')\n",
    "fig"
   ]
  },
  {
   "cell_type": "code",
   "execution_count": 88,
   "metadata": {},
   "outputs": [
    {
     "data": {
      "text/plain": [
       "array(['Health and beauty', 'Electronic accessories',\n",
       "       'Home and lifestyle', 'Sports and travel', 'Food and beverages',\n",
       "       'Fashion accessories'], dtype=object)"
      ]
     },
     "execution_count": 88,
     "metadata": {},
     "output_type": "execute_result"
    }
   ],
   "source": [
    "df[\"Product line\"].unique()"
   ]
  },
  {
   "cell_type": "code",
   "execution_count": 96,
   "metadata": {},
   "outputs": [
    {
     "data": {
      "text/plain": [
       "{'Health and beauty': '#FFDF00',\n",
       " 'Electronic accessories': '#FF4D00',\n",
       " 'Home and lifestyle': '#007FFF',\n",
       " 'Sports and travel': '#4F7942',\n",
       " 'Food and beverages': '#FF8000',\n",
       " 'Fashion accessories': '#4B0082'}"
      ]
     },
     "execution_count": 96,
     "metadata": {},
     "output_type": "execute_result"
    }
   ],
   "source": [
    "solar_colors = ['#FFDF00', '#FF4D00', '#007FFF', '#4F7942', '#FF8000', '#4B0082']\n",
    "cmap_prod = dict(zip(df[\"Product line\"].unique(),solar_colors))\n",
    "cmap_prod"
   ]
  },
  {
   "cell_type": "code",
   "execution_count": 95,
   "metadata": {},
   "outputs": [
    {
     "data": {
      "text/plain": [
       "{'Female': '#FFDF00', 'Male': '#FF4D00'}"
      ]
     },
     "execution_count": 95,
     "metadata": {},
     "output_type": "execute_result"
    }
   ],
   "source": [
    "solar_colors = ['#FFDF00', '#FF4D00', '#007FFF', '#4F7942', '#FF8000', '#4B0082']\n",
    "cmap_gndr = dict(zip(df[\"Gender\"].unique(),solar_colors[:2]))\n",
    "cmap_gndr"
   ]
  },
  {
   "cell_type": "code",
   "execution_count": 91,
   "metadata": {},
   "outputs": [
    {
     "data": {
      "application/vnd.plotly.v1+json": {
       "config": {
        "plotlyServerURL": "https://plot.ly"
       },
       "data": [
        {
         "dimensions": [
          {
           "label": "Oh Gender",
           "values": [
            "Male",
            "Female",
            "Female",
            "Female",
            "Female",
            "Female",
            "Male",
            "Male",
            "Male",
            "Male",
            "Male",
            "Female",
            "Male",
            "Female",
            "Male",
            "Female",
            "Male",
            "Male",
            "Female",
            "Female",
            "Male",
            "Female",
            "Male",
            "Female",
            "Male",
            "Female",
            "Female",
            "Male",
            "Female",
            "Female",
            "Male",
            "Female",
            "Female",
            "Female",
            "Female",
            "Female",
            "Female",
            "Female",
            "Female",
            "Female",
            "Female",
            "Male",
            "Male",
            "Female",
            "Male",
            "Female",
            "Female",
            "Female",
            "Female",
            "Male",
            "Male",
            "Male",
            "Male",
            "Male",
            "Male",
            "Female",
            "Male",
            "Male",
            "Male",
            "Female",
            "Female",
            "Male",
            "Male",
            "Female",
            "Male",
            "Male",
            "Female",
            "Female",
            "Female",
            "Male",
            "Male",
            "Male",
            "Female",
            "Male",
            "Male",
            "Male",
            "Male",
            "Female",
            "Male",
            "Female",
            "Female",
            "Female",
            "Male",
            "Female",
            "Female",
            "Male",
            "Female",
            "Female",
            "Male",
            "Female",
            "Female",
            "Male",
            "Female",
            "Male",
            "Female",
            "Male",
            "Male",
            "Male",
            "Male",
            "Female",
            "Female",
            "Male",
            "Female",
            "Male",
            "Female",
            "Male",
            "Female",
            "Female",
            "Male",
            "Female",
            "Female",
            "Female",
            "Male",
            "Male",
            "Female",
            "Female",
            "Male",
            "Male",
            "Female",
            "Female",
            "Female",
            "Female",
            "Male",
            "Female",
            "Female",
            "Male",
            "Female",
            "Female",
            "Male",
            "Male",
            "Male",
            "Female",
            "Female",
            "Male",
            "Female",
            "Male",
            "Male",
            "Male",
            "Female",
            "Male",
            "Female",
            "Female",
            "Male",
            "Female",
            "Male",
            "Male",
            "Female",
            "Male",
            "Female",
            "Female",
            "Female",
            "Male",
            "Male",
            "Male",
            "Male",
            "Female",
            "Female",
            "Female",
            "Male",
            "Female",
            "Female",
            "Female",
            "Male",
            "Female",
            "Female",
            "Male",
            "Female",
            "Female",
            "Female",
            "Female",
            "Female",
            "Male",
            "Female",
            "Male",
            "Female",
            "Female",
            "Male",
            "Female",
            "Male",
            "Male",
            "Female",
            "Male",
            "Male",
            "Male",
            "Male",
            "Female",
            "Male",
            "Female",
            "Female",
            "Female",
            "Female",
            "Male",
            "Female",
            "Female",
            "Male",
            "Male",
            "Female",
            "Female",
            "Male",
            "Female",
            "Male",
            "Female",
            "Female",
            "Male",
            "Female",
            "Female",
            "Male",
            "Female",
            "Female",
            "Female",
            "Male",
            "Female",
            "Male",
            "Female",
            "Male",
            "Male",
            "Female",
            "Male",
            "Female",
            "Female",
            "Female",
            "Female",
            "Male",
            "Female",
            "Male",
            "Female",
            "Female",
            "Female",
            "Female",
            "Male",
            "Female",
            "Female",
            "Female",
            "Male",
            "Male",
            "Male",
            "Male",
            "Female",
            "Female",
            "Male",
            "Female",
            "Female",
            "Female",
            "Male",
            "Female",
            "Male",
            "Female",
            "Male",
            "Male",
            "Male",
            "Male",
            "Female",
            "Female",
            "Female",
            "Female",
            "Male",
            "Female",
            "Male",
            "Male",
            "Male",
            "Male",
            "Male",
            "Female",
            "Female",
            "Male",
            "Female",
            "Male",
            "Male",
            "Female",
            "Male",
            "Female",
            "Female",
            "Female",
            "Male",
            "Female",
            "Female",
            "Male",
            "Female",
            "Female",
            "Female",
            "Female",
            "Male",
            "Male",
            "Male",
            "Female",
            "Male",
            "Female",
            "Male",
            "Male",
            "Female",
            "Male",
            "Male",
            "Male",
            "Male",
            "Male",
            "Female",
            "Female",
            "Female",
            "Male",
            "Female",
            "Male",
            "Male",
            "Female"
           ]
          },
          {
           "label": "What u buin´?",
           "values": [
            "Sports and travel",
            "Electronic accessories",
            "Home and lifestyle",
            "Food and beverages",
            "Fashion accessories",
            "Electronic accessories",
            "Food and beverages",
            "Electronic accessories",
            "Electronic accessories",
            "Fashion accessories",
            "Fashion accessories",
            "Food and beverages",
            "Home and lifestyle",
            "Sports and travel",
            "Health and beauty",
            "Food and beverages",
            "Electronic accessories",
            "Food and beverages",
            "Food and beverages",
            "Electronic accessories",
            "Health and beauty",
            "Sports and travel",
            "Home and lifestyle",
            "Sports and travel",
            "Health and beauty",
            "Health and beauty",
            "Health and beauty",
            "Fashion accessories",
            "Food and beverages",
            "Health and beauty",
            "Health and beauty",
            "Electronic accessories",
            "Electronic accessories",
            "Sports and travel",
            "Health and beauty",
            "Fashion accessories",
            "Home and lifestyle",
            "Food and beverages",
            "Electronic accessories",
            "Sports and travel",
            "Sports and travel",
            "Electronic accessories",
            "Fashion accessories",
            "Home and lifestyle",
            "Sports and travel",
            "Health and beauty",
            "Food and beverages",
            "Fashion accessories",
            "Food and beverages",
            "Food and beverages",
            "Sports and travel",
            "Food and beverages",
            "Health and beauty",
            "Fashion accessories",
            "Sports and travel",
            "Fashion accessories",
            "Fashion accessories",
            "Home and lifestyle",
            "Home and lifestyle",
            "Home and lifestyle",
            "Food and beverages",
            "Health and beauty",
            "Home and lifestyle",
            "Electronic accessories",
            "Fashion accessories",
            "Electronic accessories",
            "Fashion accessories",
            "Electronic accessories",
            "Health and beauty",
            "Fashion accessories",
            "Fashion accessories",
            "Home and lifestyle",
            "Electronic accessories",
            "Food and beverages",
            "Home and lifestyle",
            "Electronic accessories",
            "Electronic accessories",
            "Sports and travel",
            "Sports and travel",
            "Health and beauty",
            "Fashion accessories",
            "Home and lifestyle",
            "Health and beauty",
            "Home and lifestyle",
            "Electronic accessories",
            "Food and beverages",
            "Electronic accessories",
            "Home and lifestyle",
            "Fashion accessories",
            "Food and beverages",
            "Electronic accessories",
            "Food and beverages",
            "Food and beverages",
            "Health and beauty",
            "Food and beverages",
            "Health and beauty",
            "Home and lifestyle",
            "Food and beverages",
            "Fashion accessories",
            "Sports and travel",
            "Food and beverages",
            "Electronic accessories",
            "Health and beauty",
            "Sports and travel",
            "Fashion accessories",
            "Electronic accessories",
            "Health and beauty",
            "Fashion accessories",
            "Food and beverages",
            "Food and beverages",
            "Food and beverages",
            "Electronic accessories",
            "Sports and travel",
            "Fashion accessories",
            "Health and beauty",
            "Fashion accessories",
            "Electronic accessories",
            "Home and lifestyle",
            "Fashion accessories",
            "Fashion accessories",
            "Electronic accessories",
            "Fashion accessories",
            "Sports and travel",
            "Fashion accessories",
            "Electronic accessories",
            "Food and beverages",
            "Fashion accessories",
            "Food and beverages",
            "Electronic accessories",
            "Food and beverages",
            "Food and beverages",
            "Sports and travel",
            "Health and beauty",
            "Food and beverages",
            "Electronic accessories",
            "Fashion accessories",
            "Health and beauty",
            "Food and beverages",
            "Electronic accessories",
            "Home and lifestyle",
            "Fashion accessories",
            "Home and lifestyle",
            "Fashion accessories",
            "Sports and travel",
            "Sports and travel",
            "Sports and travel",
            "Home and lifestyle",
            "Sports and travel",
            "Home and lifestyle",
            "Sports and travel",
            "Food and beverages",
            "Sports and travel",
            "Health and beauty",
            "Electronic accessories",
            "Home and lifestyle",
            "Fashion accessories",
            "Food and beverages",
            "Sports and travel",
            "Fashion accessories",
            "Fashion accessories",
            "Health and beauty",
            "Fashion accessories",
            "Food and beverages",
            "Sports and travel",
            "Home and lifestyle",
            "Food and beverages",
            "Health and beauty",
            "Fashion accessories",
            "Sports and travel",
            "Sports and travel",
            "Sports and travel",
            "Food and beverages",
            "Sports and travel",
            "Home and lifestyle",
            "Fashion accessories",
            "Electronic accessories",
            "Food and beverages",
            "Fashion accessories",
            "Fashion accessories",
            "Fashion accessories",
            "Food and beverages",
            "Electronic accessories",
            "Electronic accessories",
            "Home and lifestyle",
            "Fashion accessories",
            "Electronic accessories",
            "Fashion accessories",
            "Sports and travel",
            "Food and beverages",
            "Sports and travel",
            "Fashion accessories",
            "Food and beverages",
            "Health and beauty",
            "Health and beauty",
            "Health and beauty",
            "Fashion accessories",
            "Sports and travel",
            "Food and beverages",
            "Health and beauty",
            "Electronic accessories",
            "Fashion accessories",
            "Food and beverages",
            "Fashion accessories",
            "Electronic accessories",
            "Fashion accessories",
            "Fashion accessories",
            "Food and beverages",
            "Electronic accessories",
            "Health and beauty",
            "Health and beauty",
            "Fashion accessories",
            "Fashion accessories",
            "Food and beverages",
            "Health and beauty",
            "Health and beauty",
            "Fashion accessories",
            "Sports and travel",
            "Home and lifestyle",
            "Food and beverages",
            "Food and beverages",
            "Electronic accessories",
            "Electronic accessories",
            "Food and beverages",
            "Food and beverages",
            "Sports and travel",
            "Sports and travel",
            "Health and beauty",
            "Sports and travel",
            "Food and beverages",
            "Health and beauty",
            "Sports and travel",
            "Fashion accessories",
            "Health and beauty",
            "Electronic accessories",
            "Electronic accessories",
            "Health and beauty",
            "Electronic accessories",
            "Electronic accessories",
            "Sports and travel",
            "Home and lifestyle",
            "Electronic accessories",
            "Electronic accessories",
            "Sports and travel",
            "Food and beverages",
            "Home and lifestyle",
            "Sports and travel",
            "Sports and travel",
            "Health and beauty",
            "Health and beauty",
            "Fashion accessories",
            "Electronic accessories",
            "Food and beverages",
            "Fashion accessories",
            "Electronic accessories",
            "Fashion accessories",
            "Health and beauty",
            "Home and lifestyle",
            "Food and beverages",
            "Fashion accessories",
            "Electronic accessories",
            "Sports and travel",
            "Food and beverages",
            "Health and beauty",
            "Electronic accessories",
            "Electronic accessories",
            "Food and beverages",
            "Food and beverages",
            "Home and lifestyle",
            "Health and beauty",
            "Health and beauty",
            "Home and lifestyle",
            "Food and beverages",
            "Electronic accessories",
            "Home and lifestyle",
            "Home and lifestyle",
            "Home and lifestyle",
            "Sports and travel",
            "Electronic accessories",
            "Fashion accessories",
            "Food and beverages",
            "Health and beauty",
            "Health and beauty",
            "Fashion accessories",
            "Home and lifestyle",
            "Food and beverages",
            "Health and beauty",
            "Food and beverages",
            "Home and lifestyle",
            "Electronic accessories",
            "Food and beverages",
            "Electronic accessories",
            "Home and lifestyle",
            "Home and lifestyle",
            "Fashion accessories",
            "Food and beverages",
            "Food and beverages",
            "Fashion accessories",
            "Health and beauty",
            "Fashion accessories",
            "Electronic accessories",
            "Food and beverages",
            "Home and lifestyle",
            "Fashion accessories"
           ]
          },
          {
           "label": "City",
           "values": [
            "Yangon",
            "Yangon",
            "Naypyitaw",
            "Mandalay",
            "Mandalay",
            "Yangon",
            "Yangon",
            "Naypyitaw",
            "Yangon",
            "Mandalay",
            "Mandalay",
            "Naypyitaw",
            "Naypyitaw",
            "Mandalay",
            "Mandalay",
            "Mandalay",
            "Mandalay",
            "Naypyitaw",
            "Yangon",
            "Naypyitaw",
            "Yangon",
            "Naypyitaw",
            "Naypyitaw",
            "Mandalay",
            "Mandalay",
            "Naypyitaw",
            "Yangon",
            "Naypyitaw",
            "Naypyitaw",
            "Mandalay",
            "Naypyitaw",
            "Naypyitaw",
            "Naypyitaw",
            "Mandalay",
            "Naypyitaw",
            "Mandalay",
            "Naypyitaw",
            "Yangon",
            "Yangon",
            "Mandalay",
            "Mandalay",
            "Mandalay",
            "Naypyitaw",
            "Yangon",
            "Mandalay",
            "Naypyitaw",
            "Naypyitaw",
            "Yangon",
            "Naypyitaw",
            "Yangon",
            "Yangon",
            "Mandalay",
            "Mandalay",
            "Yangon",
            "Yangon",
            "Naypyitaw",
            "Naypyitaw",
            "Mandalay",
            "Yangon",
            "Mandalay",
            "Naypyitaw",
            "Mandalay",
            "Mandalay",
            "Yangon",
            "Mandalay",
            "Naypyitaw",
            "Naypyitaw",
            "Mandalay",
            "Mandalay",
            "Mandalay",
            "Naypyitaw",
            "Mandalay",
            "Mandalay",
            "Mandalay",
            "Yangon",
            "Yangon",
            "Naypyitaw",
            "Yangon",
            "Mandalay",
            "Mandalay",
            "Naypyitaw",
            "Yangon",
            "Mandalay",
            "Yangon",
            "Yangon",
            "Naypyitaw",
            "Mandalay",
            "Yangon",
            "Naypyitaw",
            "Yangon",
            "Naypyitaw",
            "Naypyitaw",
            "Naypyitaw",
            "Naypyitaw",
            "Naypyitaw",
            "Yangon",
            "Mandalay",
            "Yangon",
            "Yangon",
            "Mandalay",
            "Mandalay",
            "Mandalay",
            "Mandalay",
            "Yangon",
            "Yangon",
            "Yangon",
            "Mandalay",
            "Naypyitaw",
            "Yangon",
            "Naypyitaw",
            "Naypyitaw",
            "Mandalay",
            "Naypyitaw",
            "Naypyitaw",
            "Yangon",
            "Naypyitaw",
            "Yangon",
            "Naypyitaw",
            "Mandalay",
            "Naypyitaw",
            "Yangon",
            "Naypyitaw",
            "Mandalay",
            "Mandalay",
            "Naypyitaw",
            "Naypyitaw",
            "Mandalay",
            "Mandalay",
            "Mandalay",
            "Naypyitaw",
            "Naypyitaw",
            "Naypyitaw",
            "Naypyitaw",
            "Naypyitaw",
            "Naypyitaw",
            "Yangon",
            "Yangon",
            "Naypyitaw",
            "Naypyitaw",
            "Mandalay",
            "Mandalay",
            "Mandalay",
            "Mandalay",
            "Yangon",
            "Mandalay",
            "Mandalay",
            "Naypyitaw",
            "Naypyitaw",
            "Yangon",
            "Yangon",
            "Mandalay",
            "Yangon",
            "Yangon",
            "Mandalay",
            "Naypyitaw",
            "Yangon",
            "Naypyitaw",
            "Mandalay",
            "Mandalay",
            "Mandalay",
            "Mandalay",
            "Mandalay",
            "Naypyitaw",
            "Naypyitaw",
            "Mandalay",
            "Mandalay",
            "Yangon",
            "Naypyitaw",
            "Yangon",
            "Yangon",
            "Yangon",
            "Yangon",
            "Naypyitaw",
            "Mandalay",
            "Yangon",
            "Yangon",
            "Yangon",
            "Naypyitaw",
            "Mandalay",
            "Mandalay",
            "Mandalay",
            "Naypyitaw",
            "Naypyitaw",
            "Yangon",
            "Mandalay",
            "Naypyitaw",
            "Yangon",
            "Mandalay",
            "Naypyitaw",
            "Naypyitaw",
            "Yangon",
            "Mandalay",
            "Mandalay",
            "Naypyitaw",
            "Naypyitaw",
            "Mandalay",
            "Mandalay",
            "Yangon",
            "Naypyitaw",
            "Mandalay",
            "Yangon",
            "Yangon",
            "Naypyitaw",
            "Yangon",
            "Naypyitaw",
            "Mandalay",
            "Yangon",
            "Naypyitaw",
            "Naypyitaw",
            "Yangon",
            "Yangon",
            "Mandalay",
            "Mandalay",
            "Naypyitaw",
            "Yangon",
            "Yangon",
            "Yangon",
            "Yangon",
            "Naypyitaw",
            "Yangon",
            "Yangon",
            "Mandalay",
            "Yangon",
            "Mandalay",
            "Mandalay",
            "Mandalay",
            "Naypyitaw",
            "Naypyitaw",
            "Naypyitaw",
            "Naypyitaw",
            "Yangon",
            "Yangon",
            "Naypyitaw",
            "Yangon",
            "Naypyitaw",
            "Naypyitaw",
            "Yangon",
            "Yangon",
            "Yangon",
            "Naypyitaw",
            "Mandalay",
            "Yangon",
            "Naypyitaw",
            "Mandalay",
            "Yangon",
            "Naypyitaw",
            "Mandalay",
            "Mandalay",
            "Yangon",
            "Yangon",
            "Mandalay",
            "Naypyitaw",
            "Yangon",
            "Mandalay",
            "Mandalay",
            "Mandalay",
            "Naypyitaw",
            "Yangon",
            "Naypyitaw",
            "Mandalay",
            "Mandalay",
            "Yangon",
            "Naypyitaw",
            "Mandalay",
            "Mandalay",
            "Naypyitaw",
            "Yangon",
            "Mandalay",
            "Naypyitaw",
            "Naypyitaw",
            "Yangon",
            "Yangon",
            "Naypyitaw",
            "Mandalay",
            "Mandalay",
            "Naypyitaw",
            "Mandalay",
            "Mandalay",
            "Naypyitaw",
            "Yangon",
            "Yangon",
            "Yangon",
            "Mandalay",
            "Naypyitaw",
            "Mandalay",
            "Mandalay",
            "Mandalay",
            "Mandalay",
            "Mandalay",
            "Yangon",
            "Yangon",
            "Mandalay",
            "Yangon",
            "Naypyitaw",
            "Mandalay",
            "Mandalay",
            "Mandalay",
            "Mandalay",
            "Mandalay",
            "Naypyitaw",
            "Yangon",
            "Yangon",
            "Yangon"
           ]
          }
         ],
         "domain": {
          "x": [
           0,
           1
          ],
          "y": [
           0,
           1
          ]
         },
         "line": {
          "color": [
           "#4F7942",
           "#FF4D00",
           "#007FFF",
           "#FF8000",
           "#4B0082",
           "#FF4D00",
           "#FF8000",
           "#FF4D00",
           "#FF4D00",
           "#4B0082",
           "#4B0082",
           "#FF8000",
           "#007FFF",
           "#4F7942",
           "#FFDF00",
           "#FF8000",
           "#FF4D00",
           "#FF8000",
           "#FF8000",
           "#FF4D00",
           "#FFDF00",
           "#4F7942",
           "#007FFF",
           "#4F7942",
           "#FFDF00",
           "#FFDF00",
           "#FFDF00",
           "#4B0082",
           "#FF8000",
           "#FFDF00",
           "#FFDF00",
           "#FF4D00",
           "#FF4D00",
           "#4F7942",
           "#FFDF00",
           "#4B0082",
           "#007FFF",
           "#FF8000",
           "#FF4D00",
           "#4F7942",
           "#4F7942",
           "#FF4D00",
           "#4B0082",
           "#007FFF",
           "#4F7942",
           "#FFDF00",
           "#FF8000",
           "#4B0082",
           "#FF8000",
           "#FF8000",
           "#4F7942",
           "#FF8000",
           "#FFDF00",
           "#4B0082",
           "#4F7942",
           "#4B0082",
           "#4B0082",
           "#007FFF",
           "#007FFF",
           "#007FFF",
           "#FF8000",
           "#FFDF00",
           "#007FFF",
           "#FF4D00",
           "#4B0082",
           "#FF4D00",
           "#4B0082",
           "#FF4D00",
           "#FFDF00",
           "#4B0082",
           "#4B0082",
           "#007FFF",
           "#FF4D00",
           "#FF8000",
           "#007FFF",
           "#FF4D00",
           "#FF4D00",
           "#4F7942",
           "#4F7942",
           "#FFDF00",
           "#4B0082",
           "#007FFF",
           "#FFDF00",
           "#007FFF",
           "#FF4D00",
           "#FF8000",
           "#FF4D00",
           "#007FFF",
           "#4B0082",
           "#FF8000",
           "#FF4D00",
           "#FF8000",
           "#FF8000",
           "#FFDF00",
           "#FF8000",
           "#FFDF00",
           "#007FFF",
           "#FF8000",
           "#4B0082",
           "#4F7942",
           "#FF8000",
           "#FF4D00",
           "#FFDF00",
           "#4F7942",
           "#4B0082",
           "#FF4D00",
           "#FFDF00",
           "#4B0082",
           "#FF8000",
           "#FF8000",
           "#FF8000",
           "#FF4D00",
           "#4F7942",
           "#4B0082",
           "#FFDF00",
           "#4B0082",
           "#FF4D00",
           "#007FFF",
           "#4B0082",
           "#4B0082",
           "#FF4D00",
           "#4B0082",
           "#4F7942",
           "#4B0082",
           "#FF4D00",
           "#FF8000",
           "#4B0082",
           "#FF8000",
           "#FF4D00",
           "#FF8000",
           "#FF8000",
           "#4F7942",
           "#FFDF00",
           "#FF8000",
           "#FF4D00",
           "#4B0082",
           "#FFDF00",
           "#FF8000",
           "#FF4D00",
           "#007FFF",
           "#4B0082",
           "#007FFF",
           "#4B0082",
           "#4F7942",
           "#4F7942",
           "#4F7942",
           "#007FFF",
           "#4F7942",
           "#007FFF",
           "#4F7942",
           "#FF8000",
           "#4F7942",
           "#FFDF00",
           "#FF4D00",
           "#007FFF",
           "#4B0082",
           "#FF8000",
           "#4F7942",
           "#4B0082",
           "#4B0082",
           "#FFDF00",
           "#4B0082",
           "#FF8000",
           "#4F7942",
           "#007FFF",
           "#FF8000",
           "#FFDF00",
           "#4B0082",
           "#4F7942",
           "#4F7942",
           "#4F7942",
           "#FF8000",
           "#4F7942",
           "#007FFF",
           "#4B0082",
           "#FF4D00",
           "#FF8000",
           "#4B0082",
           "#4B0082",
           "#4B0082",
           "#FF8000",
           "#FF4D00",
           "#FF4D00",
           "#007FFF",
           "#4B0082",
           "#FF4D00",
           "#4B0082",
           "#4F7942",
           "#FF8000",
           "#4F7942",
           "#4B0082",
           "#FF8000",
           "#FFDF00",
           "#FFDF00",
           "#FFDF00",
           "#4B0082",
           "#4F7942",
           "#FF8000",
           "#FFDF00",
           "#FF4D00",
           "#4B0082",
           "#FF8000",
           "#4B0082",
           "#FF4D00",
           "#4B0082",
           "#4B0082",
           "#FF8000",
           "#FF4D00",
           "#FFDF00",
           "#FFDF00",
           "#4B0082",
           "#4B0082",
           "#FF8000",
           "#FFDF00",
           "#FFDF00",
           "#4B0082",
           "#4F7942",
           "#007FFF",
           "#FF8000",
           "#FF8000",
           "#FF4D00",
           "#FF4D00",
           "#FF8000",
           "#FF8000",
           "#4F7942",
           "#4F7942",
           "#FFDF00",
           "#4F7942",
           "#FF8000",
           "#FFDF00",
           "#4F7942",
           "#4B0082",
           "#FFDF00",
           "#FF4D00",
           "#FF4D00",
           "#FFDF00",
           "#FF4D00",
           "#FF4D00",
           "#4F7942",
           "#007FFF",
           "#FF4D00",
           "#FF4D00",
           "#4F7942",
           "#FF8000",
           "#007FFF",
           "#4F7942",
           "#4F7942",
           "#FFDF00",
           "#FFDF00",
           "#4B0082",
           "#FF4D00",
           "#FF8000",
           "#4B0082",
           "#FF4D00",
           "#4B0082",
           "#FFDF00",
           "#007FFF",
           "#FF8000",
           "#4B0082",
           "#FF4D00",
           "#4F7942",
           "#FF8000",
           "#FFDF00",
           "#FF4D00",
           "#FF4D00",
           "#FF8000",
           "#FF8000",
           "#007FFF",
           "#FFDF00",
           "#FFDF00",
           "#007FFF",
           "#FF8000",
           "#FF4D00",
           "#007FFF",
           "#007FFF",
           "#007FFF",
           "#4F7942",
           "#FF4D00",
           "#4B0082",
           "#FF8000",
           "#FFDF00",
           "#FFDF00",
           "#4B0082",
           "#007FFF",
           "#FF8000",
           "#FFDF00",
           "#FF8000",
           "#007FFF",
           "#FF4D00",
           "#FF8000",
           "#FF4D00",
           "#007FFF",
           "#007FFF",
           "#4B0082",
           "#FF8000",
           "#FF8000",
           "#4B0082",
           "#FFDF00",
           "#4B0082",
           "#FF4D00",
           "#FF8000",
           "#007FFF",
           "#4B0082"
          ],
          "coloraxis": "coloraxis"
         },
         "name": "",
         "type": "parcats"
        }
       ],
       "layout": {
        "coloraxis": {
         "colorbar": {
          "title": {
           "text": "color"
          }
         },
         "colorscale": [
          [
           0,
           "#0d0887"
          ],
          [
           0.1111111111111111,
           "#46039f"
          ],
          [
           0.2222222222222222,
           "#7201a8"
          ],
          [
           0.3333333333333333,
           "#9c179e"
          ],
          [
           0.4444444444444444,
           "#bd3786"
          ],
          [
           0.5555555555555556,
           "#d8576b"
          ],
          [
           0.6666666666666666,
           "#ed7953"
          ],
          [
           0.7777777777777778,
           "#fb9f3a"
          ],
          [
           0.8888888888888888,
           "#fdca26"
          ],
          [
           1,
           "#f0f921"
          ]
         ]
        },
        "legend": {
         "tracegroupgap": 0
        },
        "margin": {
         "t": 60
        },
        "template": {
         "data": {
          "bar": [
           {
            "error_x": {
             "color": "#2a3f5f"
            },
            "error_y": {
             "color": "#2a3f5f"
            },
            "marker": {
             "line": {
              "color": "#E5ECF6",
              "width": 0.5
             },
             "pattern": {
              "fillmode": "overlay",
              "size": 10,
              "solidity": 0.2
             }
            },
            "type": "bar"
           }
          ],
          "barpolar": [
           {
            "marker": {
             "line": {
              "color": "#E5ECF6",
              "width": 0.5
             },
             "pattern": {
              "fillmode": "overlay",
              "size": 10,
              "solidity": 0.2
             }
            },
            "type": "barpolar"
           }
          ],
          "carpet": [
           {
            "aaxis": {
             "endlinecolor": "#2a3f5f",
             "gridcolor": "white",
             "linecolor": "white",
             "minorgridcolor": "white",
             "startlinecolor": "#2a3f5f"
            },
            "baxis": {
             "endlinecolor": "#2a3f5f",
             "gridcolor": "white",
             "linecolor": "white",
             "minorgridcolor": "white",
             "startlinecolor": "#2a3f5f"
            },
            "type": "carpet"
           }
          ],
          "choropleth": [
           {
            "colorbar": {
             "outlinewidth": 0,
             "ticks": ""
            },
            "type": "choropleth"
           }
          ],
          "contour": [
           {
            "colorbar": {
             "outlinewidth": 0,
             "ticks": ""
            },
            "colorscale": [
             [
              0,
              "#0d0887"
             ],
             [
              0.1111111111111111,
              "#46039f"
             ],
             [
              0.2222222222222222,
              "#7201a8"
             ],
             [
              0.3333333333333333,
              "#9c179e"
             ],
             [
              0.4444444444444444,
              "#bd3786"
             ],
             [
              0.5555555555555556,
              "#d8576b"
             ],
             [
              0.6666666666666666,
              "#ed7953"
             ],
             [
              0.7777777777777778,
              "#fb9f3a"
             ],
             [
              0.8888888888888888,
              "#fdca26"
             ],
             [
              1,
              "#f0f921"
             ]
            ],
            "type": "contour"
           }
          ],
          "contourcarpet": [
           {
            "colorbar": {
             "outlinewidth": 0,
             "ticks": ""
            },
            "type": "contourcarpet"
           }
          ],
          "heatmap": [
           {
            "colorbar": {
             "outlinewidth": 0,
             "ticks": ""
            },
            "colorscale": [
             [
              0,
              "#0d0887"
             ],
             [
              0.1111111111111111,
              "#46039f"
             ],
             [
              0.2222222222222222,
              "#7201a8"
             ],
             [
              0.3333333333333333,
              "#9c179e"
             ],
             [
              0.4444444444444444,
              "#bd3786"
             ],
             [
              0.5555555555555556,
              "#d8576b"
             ],
             [
              0.6666666666666666,
              "#ed7953"
             ],
             [
              0.7777777777777778,
              "#fb9f3a"
             ],
             [
              0.8888888888888888,
              "#fdca26"
             ],
             [
              1,
              "#f0f921"
             ]
            ],
            "type": "heatmap"
           }
          ],
          "heatmapgl": [
           {
            "colorbar": {
             "outlinewidth": 0,
             "ticks": ""
            },
            "colorscale": [
             [
              0,
              "#0d0887"
             ],
             [
              0.1111111111111111,
              "#46039f"
             ],
             [
              0.2222222222222222,
              "#7201a8"
             ],
             [
              0.3333333333333333,
              "#9c179e"
             ],
             [
              0.4444444444444444,
              "#bd3786"
             ],
             [
              0.5555555555555556,
              "#d8576b"
             ],
             [
              0.6666666666666666,
              "#ed7953"
             ],
             [
              0.7777777777777778,
              "#fb9f3a"
             ],
             [
              0.8888888888888888,
              "#fdca26"
             ],
             [
              1,
              "#f0f921"
             ]
            ],
            "type": "heatmapgl"
           }
          ],
          "histogram": [
           {
            "marker": {
             "pattern": {
              "fillmode": "overlay",
              "size": 10,
              "solidity": 0.2
             }
            },
            "type": "histogram"
           }
          ],
          "histogram2d": [
           {
            "colorbar": {
             "outlinewidth": 0,
             "ticks": ""
            },
            "colorscale": [
             [
              0,
              "#0d0887"
             ],
             [
              0.1111111111111111,
              "#46039f"
             ],
             [
              0.2222222222222222,
              "#7201a8"
             ],
             [
              0.3333333333333333,
              "#9c179e"
             ],
             [
              0.4444444444444444,
              "#bd3786"
             ],
             [
              0.5555555555555556,
              "#d8576b"
             ],
             [
              0.6666666666666666,
              "#ed7953"
             ],
             [
              0.7777777777777778,
              "#fb9f3a"
             ],
             [
              0.8888888888888888,
              "#fdca26"
             ],
             [
              1,
              "#f0f921"
             ]
            ],
            "type": "histogram2d"
           }
          ],
          "histogram2dcontour": [
           {
            "colorbar": {
             "outlinewidth": 0,
             "ticks": ""
            },
            "colorscale": [
             [
              0,
              "#0d0887"
             ],
             [
              0.1111111111111111,
              "#46039f"
             ],
             [
              0.2222222222222222,
              "#7201a8"
             ],
             [
              0.3333333333333333,
              "#9c179e"
             ],
             [
              0.4444444444444444,
              "#bd3786"
             ],
             [
              0.5555555555555556,
              "#d8576b"
             ],
             [
              0.6666666666666666,
              "#ed7953"
             ],
             [
              0.7777777777777778,
              "#fb9f3a"
             ],
             [
              0.8888888888888888,
              "#fdca26"
             ],
             [
              1,
              "#f0f921"
             ]
            ],
            "type": "histogram2dcontour"
           }
          ],
          "mesh3d": [
           {
            "colorbar": {
             "outlinewidth": 0,
             "ticks": ""
            },
            "type": "mesh3d"
           }
          ],
          "parcoords": [
           {
            "line": {
             "colorbar": {
              "outlinewidth": 0,
              "ticks": ""
             }
            },
            "type": "parcoords"
           }
          ],
          "pie": [
           {
            "automargin": true,
            "type": "pie"
           }
          ],
          "scatter": [
           {
            "fillpattern": {
             "fillmode": "overlay",
             "size": 10,
             "solidity": 0.2
            },
            "type": "scatter"
           }
          ],
          "scatter3d": [
           {
            "line": {
             "colorbar": {
              "outlinewidth": 0,
              "ticks": ""
             }
            },
            "marker": {
             "colorbar": {
              "outlinewidth": 0,
              "ticks": ""
             }
            },
            "type": "scatter3d"
           }
          ],
          "scattercarpet": [
           {
            "marker": {
             "colorbar": {
              "outlinewidth": 0,
              "ticks": ""
             }
            },
            "type": "scattercarpet"
           }
          ],
          "scattergeo": [
           {
            "marker": {
             "colorbar": {
              "outlinewidth": 0,
              "ticks": ""
             }
            },
            "type": "scattergeo"
           }
          ],
          "scattergl": [
           {
            "marker": {
             "colorbar": {
              "outlinewidth": 0,
              "ticks": ""
             }
            },
            "type": "scattergl"
           }
          ],
          "scattermapbox": [
           {
            "marker": {
             "colorbar": {
              "outlinewidth": 0,
              "ticks": ""
             }
            },
            "type": "scattermapbox"
           }
          ],
          "scatterpolar": [
           {
            "marker": {
             "colorbar": {
              "outlinewidth": 0,
              "ticks": ""
             }
            },
            "type": "scatterpolar"
           }
          ],
          "scatterpolargl": [
           {
            "marker": {
             "colorbar": {
              "outlinewidth": 0,
              "ticks": ""
             }
            },
            "type": "scatterpolargl"
           }
          ],
          "scatterternary": [
           {
            "marker": {
             "colorbar": {
              "outlinewidth": 0,
              "ticks": ""
             }
            },
            "type": "scatterternary"
           }
          ],
          "surface": [
           {
            "colorbar": {
             "outlinewidth": 0,
             "ticks": ""
            },
            "colorscale": [
             [
              0,
              "#0d0887"
             ],
             [
              0.1111111111111111,
              "#46039f"
             ],
             [
              0.2222222222222222,
              "#7201a8"
             ],
             [
              0.3333333333333333,
              "#9c179e"
             ],
             [
              0.4444444444444444,
              "#bd3786"
             ],
             [
              0.5555555555555556,
              "#d8576b"
             ],
             [
              0.6666666666666666,
              "#ed7953"
             ],
             [
              0.7777777777777778,
              "#fb9f3a"
             ],
             [
              0.8888888888888888,
              "#fdca26"
             ],
             [
              1,
              "#f0f921"
             ]
            ],
            "type": "surface"
           }
          ],
          "table": [
           {
            "cells": {
             "fill": {
              "color": "#EBF0F8"
             },
             "line": {
              "color": "white"
             }
            },
            "header": {
             "fill": {
              "color": "#C8D4E3"
             },
             "line": {
              "color": "white"
             }
            },
            "type": "table"
           }
          ]
         },
         "layout": {
          "annotationdefaults": {
           "arrowcolor": "#2a3f5f",
           "arrowhead": 0,
           "arrowwidth": 1
          },
          "autotypenumbers": "strict",
          "coloraxis": {
           "colorbar": {
            "outlinewidth": 0,
            "ticks": ""
           }
          },
          "colorscale": {
           "diverging": [
            [
             0,
             "#8e0152"
            ],
            [
             0.1,
             "#c51b7d"
            ],
            [
             0.2,
             "#de77ae"
            ],
            [
             0.3,
             "#f1b6da"
            ],
            [
             0.4,
             "#fde0ef"
            ],
            [
             0.5,
             "#f7f7f7"
            ],
            [
             0.6,
             "#e6f5d0"
            ],
            [
             0.7,
             "#b8e186"
            ],
            [
             0.8,
             "#7fbc41"
            ],
            [
             0.9,
             "#4d9221"
            ],
            [
             1,
             "#276419"
            ]
           ],
           "sequential": [
            [
             0,
             "#0d0887"
            ],
            [
             0.1111111111111111,
             "#46039f"
            ],
            [
             0.2222222222222222,
             "#7201a8"
            ],
            [
             0.3333333333333333,
             "#9c179e"
            ],
            [
             0.4444444444444444,
             "#bd3786"
            ],
            [
             0.5555555555555556,
             "#d8576b"
            ],
            [
             0.6666666666666666,
             "#ed7953"
            ],
            [
             0.7777777777777778,
             "#fb9f3a"
            ],
            [
             0.8888888888888888,
             "#fdca26"
            ],
            [
             1,
             "#f0f921"
            ]
           ],
           "sequentialminus": [
            [
             0,
             "#0d0887"
            ],
            [
             0.1111111111111111,
             "#46039f"
            ],
            [
             0.2222222222222222,
             "#7201a8"
            ],
            [
             0.3333333333333333,
             "#9c179e"
            ],
            [
             0.4444444444444444,
             "#bd3786"
            ],
            [
             0.5555555555555556,
             "#d8576b"
            ],
            [
             0.6666666666666666,
             "#ed7953"
            ],
            [
             0.7777777777777778,
             "#fb9f3a"
            ],
            [
             0.8888888888888888,
             "#fdca26"
            ],
            [
             1,
             "#f0f921"
            ]
           ]
          },
          "colorway": [
           "#636efa",
           "#EF553B",
           "#00cc96",
           "#ab63fa",
           "#FFA15A",
           "#19d3f3",
           "#FF6692",
           "#B6E880",
           "#FF97FF",
           "#FECB52"
          ],
          "font": {
           "color": "#2a3f5f"
          },
          "geo": {
           "bgcolor": "white",
           "lakecolor": "white",
           "landcolor": "#E5ECF6",
           "showlakes": true,
           "showland": true,
           "subunitcolor": "white"
          },
          "hoverlabel": {
           "align": "left"
          },
          "hovermode": "closest",
          "mapbox": {
           "style": "light"
          },
          "paper_bgcolor": "white",
          "plot_bgcolor": "#E5ECF6",
          "polar": {
           "angularaxis": {
            "gridcolor": "white",
            "linecolor": "white",
            "ticks": ""
           },
           "bgcolor": "#E5ECF6",
           "radialaxis": {
            "gridcolor": "white",
            "linecolor": "white",
            "ticks": ""
           }
          },
          "scene": {
           "xaxis": {
            "backgroundcolor": "#E5ECF6",
            "gridcolor": "white",
            "gridwidth": 2,
            "linecolor": "white",
            "showbackground": true,
            "ticks": "",
            "zerolinecolor": "white"
           },
           "yaxis": {
            "backgroundcolor": "#E5ECF6",
            "gridcolor": "white",
            "gridwidth": 2,
            "linecolor": "white",
            "showbackground": true,
            "ticks": "",
            "zerolinecolor": "white"
           },
           "zaxis": {
            "backgroundcolor": "#E5ECF6",
            "gridcolor": "white",
            "gridwidth": 2,
            "linecolor": "white",
            "showbackground": true,
            "ticks": "",
            "zerolinecolor": "white"
           }
          },
          "shapedefaults": {
           "line": {
            "color": "#2a3f5f"
           }
          },
          "ternary": {
           "aaxis": {
            "gridcolor": "white",
            "linecolor": "white",
            "ticks": ""
           },
           "baxis": {
            "gridcolor": "white",
            "linecolor": "white",
            "ticks": ""
           },
           "bgcolor": "#E5ECF6",
           "caxis": {
            "gridcolor": "white",
            "linecolor": "white",
            "ticks": ""
           }
          },
          "title": {
           "x": 0.05
          },
          "xaxis": {
           "automargin": true,
           "gridcolor": "white",
           "linecolor": "white",
           "ticks": "",
           "title": {
            "standoff": 15
           },
           "zerolinecolor": "white",
           "zerolinewidth": 2
          },
          "yaxis": {
           "automargin": true,
           "gridcolor": "white",
           "linecolor": "white",
           "ticks": "",
           "title": {
            "standoff": 15
           },
           "zerolinecolor": "white",
           "zerolinewidth": 2
          }
         }
        }
       }
      }
     },
     "metadata": {},
     "output_type": "display_data"
    }
   ],
   "source": [
    "#Sankey chart aka Parallel Categories\n",
    "#If we do not aggregate, the result will be... a mess \n",
    "filtered = df[df[\"Date\"].dt.month == 2]\n",
    "fig = px.parallel_categories(filtered, \n",
    "                             dimensions=['Gender', 'Product line', 'City'],\n",
    "                             color=filtered['Product line'].map(cmap_prod), \n",
    "                             #color_continuous_scale=px.colors.sequential.Inferno,\n",
    "                             labels={'Gender':'Oh Gender', 'Product line':'What u buin´?', 'Total':'What total?'})\n",
    "fig.show()"
   ]
  },
  {
   "cell_type": "code",
   "execution_count": 102,
   "metadata": {},
   "outputs": [
    {
     "data": {
      "application/vnd.plotly.v1+json": {
       "config": {
        "plotlyServerURL": "https://plot.ly"
       },
       "data": [
        {
         "dimensions": [
          {
           "label": "What u buin´?",
           "values": [
            "Sports and travel",
            "Electronic accessories",
            "Home and lifestyle",
            "Food and beverages",
            "Fashion accessories",
            "Electronic accessories",
            "Food and beverages",
            "Electronic accessories",
            "Electronic accessories",
            "Fashion accessories",
            "Fashion accessories",
            "Food and beverages",
            "Home and lifestyle",
            "Sports and travel",
            "Health and beauty",
            "Food and beverages",
            "Electronic accessories",
            "Food and beverages",
            "Food and beverages",
            "Electronic accessories",
            "Health and beauty",
            "Sports and travel",
            "Home and lifestyle",
            "Sports and travel",
            "Health and beauty",
            "Health and beauty",
            "Health and beauty",
            "Fashion accessories",
            "Food and beverages",
            "Health and beauty",
            "Health and beauty",
            "Electronic accessories",
            "Electronic accessories",
            "Sports and travel",
            "Health and beauty",
            "Fashion accessories",
            "Home and lifestyle",
            "Food and beverages",
            "Electronic accessories",
            "Sports and travel",
            "Sports and travel",
            "Electronic accessories",
            "Fashion accessories",
            "Home and lifestyle",
            "Sports and travel",
            "Health and beauty",
            "Food and beverages",
            "Fashion accessories",
            "Food and beverages",
            "Food and beverages",
            "Sports and travel",
            "Food and beverages",
            "Health and beauty",
            "Fashion accessories",
            "Sports and travel",
            "Fashion accessories",
            "Fashion accessories",
            "Home and lifestyle",
            "Home and lifestyle",
            "Home and lifestyle",
            "Food and beverages",
            "Health and beauty",
            "Home and lifestyle",
            "Electronic accessories",
            "Fashion accessories",
            "Electronic accessories",
            "Fashion accessories",
            "Electronic accessories",
            "Health and beauty",
            "Fashion accessories",
            "Fashion accessories",
            "Home and lifestyle",
            "Electronic accessories",
            "Food and beverages",
            "Home and lifestyle",
            "Electronic accessories",
            "Electronic accessories",
            "Sports and travel",
            "Sports and travel",
            "Health and beauty",
            "Fashion accessories",
            "Home and lifestyle",
            "Health and beauty",
            "Home and lifestyle",
            "Electronic accessories",
            "Food and beverages",
            "Electronic accessories",
            "Home and lifestyle",
            "Fashion accessories",
            "Food and beverages",
            "Electronic accessories",
            "Food and beverages",
            "Food and beverages",
            "Health and beauty",
            "Food and beverages",
            "Health and beauty",
            "Home and lifestyle",
            "Food and beverages",
            "Fashion accessories",
            "Sports and travel",
            "Food and beverages",
            "Electronic accessories",
            "Health and beauty",
            "Sports and travel",
            "Fashion accessories",
            "Electronic accessories",
            "Health and beauty",
            "Fashion accessories",
            "Food and beverages",
            "Food and beverages",
            "Food and beverages",
            "Electronic accessories",
            "Sports and travel",
            "Fashion accessories",
            "Health and beauty",
            "Fashion accessories",
            "Electronic accessories",
            "Home and lifestyle",
            "Fashion accessories",
            "Fashion accessories",
            "Electronic accessories",
            "Fashion accessories",
            "Sports and travel",
            "Fashion accessories",
            "Electronic accessories",
            "Food and beverages",
            "Fashion accessories",
            "Food and beverages",
            "Electronic accessories",
            "Food and beverages",
            "Food and beverages",
            "Sports and travel",
            "Health and beauty",
            "Food and beverages",
            "Electronic accessories",
            "Fashion accessories",
            "Health and beauty",
            "Food and beverages",
            "Electronic accessories",
            "Home and lifestyle",
            "Fashion accessories",
            "Home and lifestyle",
            "Fashion accessories",
            "Sports and travel",
            "Sports and travel",
            "Sports and travel",
            "Home and lifestyle",
            "Sports and travel",
            "Home and lifestyle",
            "Sports and travel",
            "Food and beverages",
            "Sports and travel",
            "Health and beauty",
            "Electronic accessories",
            "Home and lifestyle",
            "Fashion accessories",
            "Food and beverages",
            "Sports and travel",
            "Fashion accessories",
            "Fashion accessories",
            "Health and beauty",
            "Fashion accessories",
            "Food and beverages",
            "Sports and travel",
            "Home and lifestyle",
            "Food and beverages",
            "Health and beauty",
            "Fashion accessories",
            "Sports and travel",
            "Sports and travel",
            "Sports and travel",
            "Food and beverages",
            "Sports and travel",
            "Home and lifestyle",
            "Fashion accessories",
            "Electronic accessories",
            "Food and beverages",
            "Fashion accessories",
            "Fashion accessories",
            "Fashion accessories",
            "Food and beverages",
            "Electronic accessories",
            "Electronic accessories",
            "Home and lifestyle",
            "Fashion accessories",
            "Electronic accessories",
            "Fashion accessories",
            "Sports and travel",
            "Food and beverages",
            "Sports and travel",
            "Fashion accessories",
            "Food and beverages",
            "Health and beauty",
            "Health and beauty",
            "Health and beauty",
            "Fashion accessories",
            "Sports and travel",
            "Food and beverages",
            "Health and beauty",
            "Electronic accessories",
            "Fashion accessories",
            "Food and beverages",
            "Fashion accessories",
            "Electronic accessories",
            "Fashion accessories",
            "Fashion accessories",
            "Food and beverages",
            "Electronic accessories",
            "Health and beauty",
            "Health and beauty",
            "Fashion accessories",
            "Fashion accessories",
            "Food and beverages",
            "Health and beauty",
            "Health and beauty",
            "Fashion accessories",
            "Sports and travel",
            "Home and lifestyle",
            "Food and beverages",
            "Food and beverages",
            "Electronic accessories",
            "Electronic accessories",
            "Food and beverages",
            "Food and beverages",
            "Sports and travel",
            "Sports and travel",
            "Health and beauty",
            "Sports and travel",
            "Food and beverages",
            "Health and beauty",
            "Sports and travel",
            "Fashion accessories",
            "Health and beauty",
            "Electronic accessories",
            "Electronic accessories",
            "Health and beauty",
            "Electronic accessories",
            "Electronic accessories",
            "Sports and travel",
            "Home and lifestyle",
            "Electronic accessories",
            "Electronic accessories",
            "Sports and travel",
            "Food and beverages",
            "Home and lifestyle",
            "Sports and travel",
            "Sports and travel",
            "Health and beauty",
            "Health and beauty",
            "Fashion accessories",
            "Electronic accessories",
            "Food and beverages",
            "Fashion accessories",
            "Electronic accessories",
            "Fashion accessories",
            "Health and beauty",
            "Home and lifestyle",
            "Food and beverages",
            "Fashion accessories",
            "Electronic accessories",
            "Sports and travel",
            "Food and beverages",
            "Health and beauty",
            "Electronic accessories",
            "Electronic accessories",
            "Food and beverages",
            "Food and beverages",
            "Home and lifestyle",
            "Health and beauty",
            "Health and beauty",
            "Home and lifestyle",
            "Food and beverages",
            "Electronic accessories",
            "Home and lifestyle",
            "Home and lifestyle",
            "Home and lifestyle",
            "Sports and travel",
            "Electronic accessories",
            "Fashion accessories",
            "Food and beverages",
            "Health and beauty",
            "Health and beauty",
            "Fashion accessories",
            "Home and lifestyle",
            "Food and beverages",
            "Health and beauty",
            "Food and beverages",
            "Home and lifestyle",
            "Electronic accessories",
            "Food and beverages",
            "Electronic accessories",
            "Home and lifestyle",
            "Home and lifestyle",
            "Fashion accessories",
            "Food and beverages",
            "Food and beverages",
            "Fashion accessories",
            "Health and beauty",
            "Fashion accessories",
            "Electronic accessories",
            "Food and beverages",
            "Home and lifestyle",
            "Fashion accessories"
           ]
          },
          {
           "label": "Oh Gender",
           "values": [
            "Male",
            "Female",
            "Female",
            "Female",
            "Female",
            "Female",
            "Male",
            "Male",
            "Male",
            "Male",
            "Male",
            "Female",
            "Male",
            "Female",
            "Male",
            "Female",
            "Male",
            "Male",
            "Female",
            "Female",
            "Male",
            "Female",
            "Male",
            "Female",
            "Male",
            "Female",
            "Female",
            "Male",
            "Female",
            "Female",
            "Male",
            "Female",
            "Female",
            "Female",
            "Female",
            "Female",
            "Female",
            "Female",
            "Female",
            "Female",
            "Female",
            "Male",
            "Male",
            "Female",
            "Male",
            "Female",
            "Female",
            "Female",
            "Female",
            "Male",
            "Male",
            "Male",
            "Male",
            "Male",
            "Male",
            "Female",
            "Male",
            "Male",
            "Male",
            "Female",
            "Female",
            "Male",
            "Male",
            "Female",
            "Male",
            "Male",
            "Female",
            "Female",
            "Female",
            "Male",
            "Male",
            "Male",
            "Female",
            "Male",
            "Male",
            "Male",
            "Male",
            "Female",
            "Male",
            "Female",
            "Female",
            "Female",
            "Male",
            "Female",
            "Female",
            "Male",
            "Female",
            "Female",
            "Male",
            "Female",
            "Female",
            "Male",
            "Female",
            "Male",
            "Female",
            "Male",
            "Male",
            "Male",
            "Male",
            "Female",
            "Female",
            "Male",
            "Female",
            "Male",
            "Female",
            "Male",
            "Female",
            "Female",
            "Male",
            "Female",
            "Female",
            "Female",
            "Male",
            "Male",
            "Female",
            "Female",
            "Male",
            "Male",
            "Female",
            "Female",
            "Female",
            "Female",
            "Male",
            "Female",
            "Female",
            "Male",
            "Female",
            "Female",
            "Male",
            "Male",
            "Male",
            "Female",
            "Female",
            "Male",
            "Female",
            "Male",
            "Male",
            "Male",
            "Female",
            "Male",
            "Female",
            "Female",
            "Male",
            "Female",
            "Male",
            "Male",
            "Female",
            "Male",
            "Female",
            "Female",
            "Female",
            "Male",
            "Male",
            "Male",
            "Male",
            "Female",
            "Female",
            "Female",
            "Male",
            "Female",
            "Female",
            "Female",
            "Male",
            "Female",
            "Female",
            "Male",
            "Female",
            "Female",
            "Female",
            "Female",
            "Female",
            "Male",
            "Female",
            "Male",
            "Female",
            "Female",
            "Male",
            "Female",
            "Male",
            "Male",
            "Female",
            "Male",
            "Male",
            "Male",
            "Male",
            "Female",
            "Male",
            "Female",
            "Female",
            "Female",
            "Female",
            "Male",
            "Female",
            "Female",
            "Male",
            "Male",
            "Female",
            "Female",
            "Male",
            "Female",
            "Male",
            "Female",
            "Female",
            "Male",
            "Female",
            "Female",
            "Male",
            "Female",
            "Female",
            "Female",
            "Male",
            "Female",
            "Male",
            "Female",
            "Male",
            "Male",
            "Female",
            "Male",
            "Female",
            "Female",
            "Female",
            "Female",
            "Male",
            "Female",
            "Male",
            "Female",
            "Female",
            "Female",
            "Female",
            "Male",
            "Female",
            "Female",
            "Female",
            "Male",
            "Male",
            "Male",
            "Male",
            "Female",
            "Female",
            "Male",
            "Female",
            "Female",
            "Female",
            "Male",
            "Female",
            "Male",
            "Female",
            "Male",
            "Male",
            "Male",
            "Male",
            "Female",
            "Female",
            "Female",
            "Female",
            "Male",
            "Female",
            "Male",
            "Male",
            "Male",
            "Male",
            "Male",
            "Female",
            "Female",
            "Male",
            "Female",
            "Male",
            "Male",
            "Female",
            "Male",
            "Female",
            "Female",
            "Female",
            "Male",
            "Female",
            "Female",
            "Male",
            "Female",
            "Female",
            "Female",
            "Female",
            "Male",
            "Male",
            "Male",
            "Female",
            "Male",
            "Female",
            "Male",
            "Male",
            "Female",
            "Male",
            "Male",
            "Male",
            "Male",
            "Male",
            "Female",
            "Female",
            "Female",
            "Male",
            "Female",
            "Male",
            "Male",
            "Female"
           ]
          },
          {
           "label": "City",
           "values": [
            "Yangon",
            "Yangon",
            "Naypyitaw",
            "Mandalay",
            "Mandalay",
            "Yangon",
            "Yangon",
            "Naypyitaw",
            "Yangon",
            "Mandalay",
            "Mandalay",
            "Naypyitaw",
            "Naypyitaw",
            "Mandalay",
            "Mandalay",
            "Mandalay",
            "Mandalay",
            "Naypyitaw",
            "Yangon",
            "Naypyitaw",
            "Yangon",
            "Naypyitaw",
            "Naypyitaw",
            "Mandalay",
            "Mandalay",
            "Naypyitaw",
            "Yangon",
            "Naypyitaw",
            "Naypyitaw",
            "Mandalay",
            "Naypyitaw",
            "Naypyitaw",
            "Naypyitaw",
            "Mandalay",
            "Naypyitaw",
            "Mandalay",
            "Naypyitaw",
            "Yangon",
            "Yangon",
            "Mandalay",
            "Mandalay",
            "Mandalay",
            "Naypyitaw",
            "Yangon",
            "Mandalay",
            "Naypyitaw",
            "Naypyitaw",
            "Yangon",
            "Naypyitaw",
            "Yangon",
            "Yangon",
            "Mandalay",
            "Mandalay",
            "Yangon",
            "Yangon",
            "Naypyitaw",
            "Naypyitaw",
            "Mandalay",
            "Yangon",
            "Mandalay",
            "Naypyitaw",
            "Mandalay",
            "Mandalay",
            "Yangon",
            "Mandalay",
            "Naypyitaw",
            "Naypyitaw",
            "Mandalay",
            "Mandalay",
            "Mandalay",
            "Naypyitaw",
            "Mandalay",
            "Mandalay",
            "Mandalay",
            "Yangon",
            "Yangon",
            "Naypyitaw",
            "Yangon",
            "Mandalay",
            "Mandalay",
            "Naypyitaw",
            "Yangon",
            "Mandalay",
            "Yangon",
            "Yangon",
            "Naypyitaw",
            "Mandalay",
            "Yangon",
            "Naypyitaw",
            "Yangon",
            "Naypyitaw",
            "Naypyitaw",
            "Naypyitaw",
            "Naypyitaw",
            "Naypyitaw",
            "Yangon",
            "Mandalay",
            "Yangon",
            "Yangon",
            "Mandalay",
            "Mandalay",
            "Mandalay",
            "Mandalay",
            "Yangon",
            "Yangon",
            "Yangon",
            "Mandalay",
            "Naypyitaw",
            "Yangon",
            "Naypyitaw",
            "Naypyitaw",
            "Mandalay",
            "Naypyitaw",
            "Naypyitaw",
            "Yangon",
            "Naypyitaw",
            "Yangon",
            "Naypyitaw",
            "Mandalay",
            "Naypyitaw",
            "Yangon",
            "Naypyitaw",
            "Mandalay",
            "Mandalay",
            "Naypyitaw",
            "Naypyitaw",
            "Mandalay",
            "Mandalay",
            "Mandalay",
            "Naypyitaw",
            "Naypyitaw",
            "Naypyitaw",
            "Naypyitaw",
            "Naypyitaw",
            "Naypyitaw",
            "Yangon",
            "Yangon",
            "Naypyitaw",
            "Naypyitaw",
            "Mandalay",
            "Mandalay",
            "Mandalay",
            "Mandalay",
            "Yangon",
            "Mandalay",
            "Mandalay",
            "Naypyitaw",
            "Naypyitaw",
            "Yangon",
            "Yangon",
            "Mandalay",
            "Yangon",
            "Yangon",
            "Mandalay",
            "Naypyitaw",
            "Yangon",
            "Naypyitaw",
            "Mandalay",
            "Mandalay",
            "Mandalay",
            "Mandalay",
            "Mandalay",
            "Naypyitaw",
            "Naypyitaw",
            "Mandalay",
            "Mandalay",
            "Yangon",
            "Naypyitaw",
            "Yangon",
            "Yangon",
            "Yangon",
            "Yangon",
            "Naypyitaw",
            "Mandalay",
            "Yangon",
            "Yangon",
            "Yangon",
            "Naypyitaw",
            "Mandalay",
            "Mandalay",
            "Mandalay",
            "Naypyitaw",
            "Naypyitaw",
            "Yangon",
            "Mandalay",
            "Naypyitaw",
            "Yangon",
            "Mandalay",
            "Naypyitaw",
            "Naypyitaw",
            "Yangon",
            "Mandalay",
            "Mandalay",
            "Naypyitaw",
            "Naypyitaw",
            "Mandalay",
            "Mandalay",
            "Yangon",
            "Naypyitaw",
            "Mandalay",
            "Yangon",
            "Yangon",
            "Naypyitaw",
            "Yangon",
            "Naypyitaw",
            "Mandalay",
            "Yangon",
            "Naypyitaw",
            "Naypyitaw",
            "Yangon",
            "Yangon",
            "Mandalay",
            "Mandalay",
            "Naypyitaw",
            "Yangon",
            "Yangon",
            "Yangon",
            "Yangon",
            "Naypyitaw",
            "Yangon",
            "Yangon",
            "Mandalay",
            "Yangon",
            "Mandalay",
            "Mandalay",
            "Mandalay",
            "Naypyitaw",
            "Naypyitaw",
            "Naypyitaw",
            "Naypyitaw",
            "Yangon",
            "Yangon",
            "Naypyitaw",
            "Yangon",
            "Naypyitaw",
            "Naypyitaw",
            "Yangon",
            "Yangon",
            "Yangon",
            "Naypyitaw",
            "Mandalay",
            "Yangon",
            "Naypyitaw",
            "Mandalay",
            "Yangon",
            "Naypyitaw",
            "Mandalay",
            "Mandalay",
            "Yangon",
            "Yangon",
            "Mandalay",
            "Naypyitaw",
            "Yangon",
            "Mandalay",
            "Mandalay",
            "Mandalay",
            "Naypyitaw",
            "Yangon",
            "Naypyitaw",
            "Mandalay",
            "Mandalay",
            "Yangon",
            "Naypyitaw",
            "Mandalay",
            "Mandalay",
            "Naypyitaw",
            "Yangon",
            "Mandalay",
            "Naypyitaw",
            "Naypyitaw",
            "Yangon",
            "Yangon",
            "Naypyitaw",
            "Mandalay",
            "Mandalay",
            "Naypyitaw",
            "Mandalay",
            "Mandalay",
            "Naypyitaw",
            "Yangon",
            "Yangon",
            "Yangon",
            "Mandalay",
            "Naypyitaw",
            "Mandalay",
            "Mandalay",
            "Mandalay",
            "Mandalay",
            "Mandalay",
            "Yangon",
            "Yangon",
            "Mandalay",
            "Yangon",
            "Naypyitaw",
            "Mandalay",
            "Mandalay",
            "Mandalay",
            "Mandalay",
            "Mandalay",
            "Naypyitaw",
            "Yangon",
            "Yangon",
            "Yangon"
           ]
          },
          {
           "label": "Do u hate us?",
           "values": [
            5,
            6,
            8,
            6,
            4,
            7,
            8,
            5,
            10,
            7,
            5,
            8,
            6,
            6,
            8,
            4,
            8,
            10,
            8,
            8,
            7,
            10,
            7,
            10,
            8,
            7,
            4,
            6,
            8,
            6,
            7,
            4,
            5,
            5,
            8,
            8,
            10,
            6,
            5,
            7,
            7,
            9,
            6,
            10,
            8,
            9,
            8,
            9,
            10,
            9,
            6,
            6,
            6,
            9,
            8,
            5,
            6,
            7,
            10,
            7,
            6,
            9,
            5,
            6,
            9,
            9,
            8,
            5,
            8,
            7,
            6,
            8,
            5,
            6,
            9,
            6,
            7,
            4,
            8,
            8,
            6,
            6,
            8,
            4,
            5,
            4,
            9,
            4,
            10,
            4,
            4,
            5,
            7,
            8,
            6,
            10,
            7,
            9,
            6,
            5,
            9,
            8,
            8,
            6,
            8,
            7,
            5,
            7,
            7,
            9,
            7,
            10,
            9,
            9,
            10,
            8,
            7,
            10,
            10,
            5,
            8,
            9,
            7,
            7,
            6,
            9,
            7,
            4,
            6,
            8,
            4,
            6,
            8,
            7,
            8,
            6,
            6,
            8,
            6,
            6,
            7,
            10,
            7,
            10,
            5,
            10,
            5,
            8,
            6,
            7,
            6,
            9,
            7,
            8,
            7,
            5,
            5,
            5,
            6,
            9,
            10,
            10,
            4,
            9,
            8,
            6,
            8,
            8,
            8,
            10,
            5,
            10,
            5,
            9,
            5,
            6,
            4,
            8,
            7,
            8,
            6,
            6,
            7,
            7,
            9,
            8,
            5,
            9,
            10,
            8,
            8,
            8,
            6,
            4,
            9,
            5,
            7,
            6,
            8,
            6,
            7,
            8,
            10,
            8,
            10,
            5,
            9,
            7,
            6,
            7,
            7,
            7,
            7,
            7,
            5,
            10,
            9,
            10,
            9,
            9,
            7,
            5,
            6,
            6,
            6,
            4,
            8,
            6,
            6,
            8,
            8,
            4,
            4,
            9,
            6,
            9,
            9,
            7,
            8,
            9,
            8,
            5,
            6,
            6,
            4,
            6,
            4,
            10,
            9,
            8,
            6,
            9,
            9,
            10,
            4,
            5,
            7,
            7,
            4,
            6,
            10,
            7,
            7,
            8,
            9,
            9,
            5,
            5,
            6,
            9,
            7,
            6,
            4,
            9,
            7,
            5,
            5,
            8,
            10,
            5,
            4,
            5,
            5,
            8,
            9,
            9,
            9,
            6,
            7,
            8,
            10,
            7,
            5,
            8,
            5,
            6,
            8,
            4,
            7,
            6,
            8,
            4,
            7
           ]
          }
         ],
         "domain": {
          "x": [
           0,
           1
          ],
          "y": [
           0,
           1
          ]
         },
         "line": {
          "color": [
           "#FF4D00",
           "#FFDF00",
           "#FFDF00",
           "#FFDF00",
           "#FFDF00",
           "#FFDF00",
           "#FF4D00",
           "#FF4D00",
           "#FF4D00",
           "#FF4D00",
           "#FF4D00",
           "#FFDF00",
           "#FF4D00",
           "#FFDF00",
           "#FF4D00",
           "#FFDF00",
           "#FF4D00",
           "#FF4D00",
           "#FFDF00",
           "#FFDF00",
           "#FF4D00",
           "#FFDF00",
           "#FF4D00",
           "#FFDF00",
           "#FF4D00",
           "#FFDF00",
           "#FFDF00",
           "#FF4D00",
           "#FFDF00",
           "#FFDF00",
           "#FF4D00",
           "#FFDF00",
           "#FFDF00",
           "#FFDF00",
           "#FFDF00",
           "#FFDF00",
           "#FFDF00",
           "#FFDF00",
           "#FFDF00",
           "#FFDF00",
           "#FFDF00",
           "#FF4D00",
           "#FF4D00",
           "#FFDF00",
           "#FF4D00",
           "#FFDF00",
           "#FFDF00",
           "#FFDF00",
           "#FFDF00",
           "#FF4D00",
           "#FF4D00",
           "#FF4D00",
           "#FF4D00",
           "#FF4D00",
           "#FF4D00",
           "#FFDF00",
           "#FF4D00",
           "#FF4D00",
           "#FF4D00",
           "#FFDF00",
           "#FFDF00",
           "#FF4D00",
           "#FF4D00",
           "#FFDF00",
           "#FF4D00",
           "#FF4D00",
           "#FFDF00",
           "#FFDF00",
           "#FFDF00",
           "#FF4D00",
           "#FF4D00",
           "#FF4D00",
           "#FFDF00",
           "#FF4D00",
           "#FF4D00",
           "#FF4D00",
           "#FF4D00",
           "#FFDF00",
           "#FF4D00",
           "#FFDF00",
           "#FFDF00",
           "#FFDF00",
           "#FF4D00",
           "#FFDF00",
           "#FFDF00",
           "#FF4D00",
           "#FFDF00",
           "#FFDF00",
           "#FF4D00",
           "#FFDF00",
           "#FFDF00",
           "#FF4D00",
           "#FFDF00",
           "#FF4D00",
           "#FFDF00",
           "#FF4D00",
           "#FF4D00",
           "#FF4D00",
           "#FF4D00",
           "#FFDF00",
           "#FFDF00",
           "#FF4D00",
           "#FFDF00",
           "#FF4D00",
           "#FFDF00",
           "#FF4D00",
           "#FFDF00",
           "#FFDF00",
           "#FF4D00",
           "#FFDF00",
           "#FFDF00",
           "#FFDF00",
           "#FF4D00",
           "#FF4D00",
           "#FFDF00",
           "#FFDF00",
           "#FF4D00",
           "#FF4D00",
           "#FFDF00",
           "#FFDF00",
           "#FFDF00",
           "#FFDF00",
           "#FF4D00",
           "#FFDF00",
           "#FFDF00",
           "#FF4D00",
           "#FFDF00",
           "#FFDF00",
           "#FF4D00",
           "#FF4D00",
           "#FF4D00",
           "#FFDF00",
           "#FFDF00",
           "#FF4D00",
           "#FFDF00",
           "#FF4D00",
           "#FF4D00",
           "#FF4D00",
           "#FFDF00",
           "#FF4D00",
           "#FFDF00",
           "#FFDF00",
           "#FF4D00",
           "#FFDF00",
           "#FF4D00",
           "#FF4D00",
           "#FFDF00",
           "#FF4D00",
           "#FFDF00",
           "#FFDF00",
           "#FFDF00",
           "#FF4D00",
           "#FF4D00",
           "#FF4D00",
           "#FF4D00",
           "#FFDF00",
           "#FFDF00",
           "#FFDF00",
           "#FF4D00",
           "#FFDF00",
           "#FFDF00",
           "#FFDF00",
           "#FF4D00",
           "#FFDF00",
           "#FFDF00",
           "#FF4D00",
           "#FFDF00",
           "#FFDF00",
           "#FFDF00",
           "#FFDF00",
           "#FFDF00",
           "#FF4D00",
           "#FFDF00",
           "#FF4D00",
           "#FFDF00",
           "#FFDF00",
           "#FF4D00",
           "#FFDF00",
           "#FF4D00",
           "#FF4D00",
           "#FFDF00",
           "#FF4D00",
           "#FF4D00",
           "#FF4D00",
           "#FF4D00",
           "#FFDF00",
           "#FF4D00",
           "#FFDF00",
           "#FFDF00",
           "#FFDF00",
           "#FFDF00",
           "#FF4D00",
           "#FFDF00",
           "#FFDF00",
           "#FF4D00",
           "#FF4D00",
           "#FFDF00",
           "#FFDF00",
           "#FF4D00",
           "#FFDF00",
           "#FF4D00",
           "#FFDF00",
           "#FFDF00",
           "#FF4D00",
           "#FFDF00",
           "#FFDF00",
           "#FF4D00",
           "#FFDF00",
           "#FFDF00",
           "#FFDF00",
           "#FF4D00",
           "#FFDF00",
           "#FF4D00",
           "#FFDF00",
           "#FF4D00",
           "#FF4D00",
           "#FFDF00",
           "#FF4D00",
           "#FFDF00",
           "#FFDF00",
           "#FFDF00",
           "#FFDF00",
           "#FF4D00",
           "#FFDF00",
           "#FF4D00",
           "#FFDF00",
           "#FFDF00",
           "#FFDF00",
           "#FFDF00",
           "#FF4D00",
           "#FFDF00",
           "#FFDF00",
           "#FFDF00",
           "#FF4D00",
           "#FF4D00",
           "#FF4D00",
           "#FF4D00",
           "#FFDF00",
           "#FFDF00",
           "#FF4D00",
           "#FFDF00",
           "#FFDF00",
           "#FFDF00",
           "#FF4D00",
           "#FFDF00",
           "#FF4D00",
           "#FFDF00",
           "#FF4D00",
           "#FF4D00",
           "#FF4D00",
           "#FF4D00",
           "#FFDF00",
           "#FFDF00",
           "#FFDF00",
           "#FFDF00",
           "#FF4D00",
           "#FFDF00",
           "#FF4D00",
           "#FF4D00",
           "#FF4D00",
           "#FF4D00",
           "#FF4D00",
           "#FFDF00",
           "#FFDF00",
           "#FF4D00",
           "#FFDF00",
           "#FF4D00",
           "#FF4D00",
           "#FFDF00",
           "#FF4D00",
           "#FFDF00",
           "#FFDF00",
           "#FFDF00",
           "#FF4D00",
           "#FFDF00",
           "#FFDF00",
           "#FF4D00",
           "#FFDF00",
           "#FFDF00",
           "#FFDF00",
           "#FFDF00",
           "#FF4D00",
           "#FF4D00",
           "#FF4D00",
           "#FFDF00",
           "#FF4D00",
           "#FFDF00",
           "#FF4D00",
           "#FF4D00",
           "#FFDF00",
           "#FF4D00",
           "#FF4D00",
           "#FF4D00",
           "#FF4D00",
           "#FF4D00",
           "#FFDF00",
           "#FFDF00",
           "#FFDF00",
           "#FF4D00",
           "#FFDF00",
           "#FF4D00",
           "#FF4D00",
           "#FFDF00"
          ],
          "coloraxis": "coloraxis"
         },
         "name": "",
         "type": "parcats"
        }
       ],
       "layout": {
        "coloraxis": {
         "colorbar": {
          "title": {
           "text": "color"
          }
         },
         "colorscale": [
          [
           0,
           "#0d0887"
          ],
          [
           0.1111111111111111,
           "#46039f"
          ],
          [
           0.2222222222222222,
           "#7201a8"
          ],
          [
           0.3333333333333333,
           "#9c179e"
          ],
          [
           0.4444444444444444,
           "#bd3786"
          ],
          [
           0.5555555555555556,
           "#d8576b"
          ],
          [
           0.6666666666666666,
           "#ed7953"
          ],
          [
           0.7777777777777778,
           "#fb9f3a"
          ],
          [
           0.8888888888888888,
           "#fdca26"
          ],
          [
           1,
           "#f0f921"
          ]
         ]
        },
        "legend": {
         "tracegroupgap": 0
        },
        "margin": {
         "t": 60
        },
        "template": {
         "data": {
          "bar": [
           {
            "error_x": {
             "color": "#2a3f5f"
            },
            "error_y": {
             "color": "#2a3f5f"
            },
            "marker": {
             "line": {
              "color": "#E5ECF6",
              "width": 0.5
             },
             "pattern": {
              "fillmode": "overlay",
              "size": 10,
              "solidity": 0.2
             }
            },
            "type": "bar"
           }
          ],
          "barpolar": [
           {
            "marker": {
             "line": {
              "color": "#E5ECF6",
              "width": 0.5
             },
             "pattern": {
              "fillmode": "overlay",
              "size": 10,
              "solidity": 0.2
             }
            },
            "type": "barpolar"
           }
          ],
          "carpet": [
           {
            "aaxis": {
             "endlinecolor": "#2a3f5f",
             "gridcolor": "white",
             "linecolor": "white",
             "minorgridcolor": "white",
             "startlinecolor": "#2a3f5f"
            },
            "baxis": {
             "endlinecolor": "#2a3f5f",
             "gridcolor": "white",
             "linecolor": "white",
             "minorgridcolor": "white",
             "startlinecolor": "#2a3f5f"
            },
            "type": "carpet"
           }
          ],
          "choropleth": [
           {
            "colorbar": {
             "outlinewidth": 0,
             "ticks": ""
            },
            "type": "choropleth"
           }
          ],
          "contour": [
           {
            "colorbar": {
             "outlinewidth": 0,
             "ticks": ""
            },
            "colorscale": [
             [
              0,
              "#0d0887"
             ],
             [
              0.1111111111111111,
              "#46039f"
             ],
             [
              0.2222222222222222,
              "#7201a8"
             ],
             [
              0.3333333333333333,
              "#9c179e"
             ],
             [
              0.4444444444444444,
              "#bd3786"
             ],
             [
              0.5555555555555556,
              "#d8576b"
             ],
             [
              0.6666666666666666,
              "#ed7953"
             ],
             [
              0.7777777777777778,
              "#fb9f3a"
             ],
             [
              0.8888888888888888,
              "#fdca26"
             ],
             [
              1,
              "#f0f921"
             ]
            ],
            "type": "contour"
           }
          ],
          "contourcarpet": [
           {
            "colorbar": {
             "outlinewidth": 0,
             "ticks": ""
            },
            "type": "contourcarpet"
           }
          ],
          "heatmap": [
           {
            "colorbar": {
             "outlinewidth": 0,
             "ticks": ""
            },
            "colorscale": [
             [
              0,
              "#0d0887"
             ],
             [
              0.1111111111111111,
              "#46039f"
             ],
             [
              0.2222222222222222,
              "#7201a8"
             ],
             [
              0.3333333333333333,
              "#9c179e"
             ],
             [
              0.4444444444444444,
              "#bd3786"
             ],
             [
              0.5555555555555556,
              "#d8576b"
             ],
             [
              0.6666666666666666,
              "#ed7953"
             ],
             [
              0.7777777777777778,
              "#fb9f3a"
             ],
             [
              0.8888888888888888,
              "#fdca26"
             ],
             [
              1,
              "#f0f921"
             ]
            ],
            "type": "heatmap"
           }
          ],
          "heatmapgl": [
           {
            "colorbar": {
             "outlinewidth": 0,
             "ticks": ""
            },
            "colorscale": [
             [
              0,
              "#0d0887"
             ],
             [
              0.1111111111111111,
              "#46039f"
             ],
             [
              0.2222222222222222,
              "#7201a8"
             ],
             [
              0.3333333333333333,
              "#9c179e"
             ],
             [
              0.4444444444444444,
              "#bd3786"
             ],
             [
              0.5555555555555556,
              "#d8576b"
             ],
             [
              0.6666666666666666,
              "#ed7953"
             ],
             [
              0.7777777777777778,
              "#fb9f3a"
             ],
             [
              0.8888888888888888,
              "#fdca26"
             ],
             [
              1,
              "#f0f921"
             ]
            ],
            "type": "heatmapgl"
           }
          ],
          "histogram": [
           {
            "marker": {
             "pattern": {
              "fillmode": "overlay",
              "size": 10,
              "solidity": 0.2
             }
            },
            "type": "histogram"
           }
          ],
          "histogram2d": [
           {
            "colorbar": {
             "outlinewidth": 0,
             "ticks": ""
            },
            "colorscale": [
             [
              0,
              "#0d0887"
             ],
             [
              0.1111111111111111,
              "#46039f"
             ],
             [
              0.2222222222222222,
              "#7201a8"
             ],
             [
              0.3333333333333333,
              "#9c179e"
             ],
             [
              0.4444444444444444,
              "#bd3786"
             ],
             [
              0.5555555555555556,
              "#d8576b"
             ],
             [
              0.6666666666666666,
              "#ed7953"
             ],
             [
              0.7777777777777778,
              "#fb9f3a"
             ],
             [
              0.8888888888888888,
              "#fdca26"
             ],
             [
              1,
              "#f0f921"
             ]
            ],
            "type": "histogram2d"
           }
          ],
          "histogram2dcontour": [
           {
            "colorbar": {
             "outlinewidth": 0,
             "ticks": ""
            },
            "colorscale": [
             [
              0,
              "#0d0887"
             ],
             [
              0.1111111111111111,
              "#46039f"
             ],
             [
              0.2222222222222222,
              "#7201a8"
             ],
             [
              0.3333333333333333,
              "#9c179e"
             ],
             [
              0.4444444444444444,
              "#bd3786"
             ],
             [
              0.5555555555555556,
              "#d8576b"
             ],
             [
              0.6666666666666666,
              "#ed7953"
             ],
             [
              0.7777777777777778,
              "#fb9f3a"
             ],
             [
              0.8888888888888888,
              "#fdca26"
             ],
             [
              1,
              "#f0f921"
             ]
            ],
            "type": "histogram2dcontour"
           }
          ],
          "mesh3d": [
           {
            "colorbar": {
             "outlinewidth": 0,
             "ticks": ""
            },
            "type": "mesh3d"
           }
          ],
          "parcoords": [
           {
            "line": {
             "colorbar": {
              "outlinewidth": 0,
              "ticks": ""
             }
            },
            "type": "parcoords"
           }
          ],
          "pie": [
           {
            "automargin": true,
            "type": "pie"
           }
          ],
          "scatter": [
           {
            "fillpattern": {
             "fillmode": "overlay",
             "size": 10,
             "solidity": 0.2
            },
            "type": "scatter"
           }
          ],
          "scatter3d": [
           {
            "line": {
             "colorbar": {
              "outlinewidth": 0,
              "ticks": ""
             }
            },
            "marker": {
             "colorbar": {
              "outlinewidth": 0,
              "ticks": ""
             }
            },
            "type": "scatter3d"
           }
          ],
          "scattercarpet": [
           {
            "marker": {
             "colorbar": {
              "outlinewidth": 0,
              "ticks": ""
             }
            },
            "type": "scattercarpet"
           }
          ],
          "scattergeo": [
           {
            "marker": {
             "colorbar": {
              "outlinewidth": 0,
              "ticks": ""
             }
            },
            "type": "scattergeo"
           }
          ],
          "scattergl": [
           {
            "marker": {
             "colorbar": {
              "outlinewidth": 0,
              "ticks": ""
             }
            },
            "type": "scattergl"
           }
          ],
          "scattermapbox": [
           {
            "marker": {
             "colorbar": {
              "outlinewidth": 0,
              "ticks": ""
             }
            },
            "type": "scattermapbox"
           }
          ],
          "scatterpolar": [
           {
            "marker": {
             "colorbar": {
              "outlinewidth": 0,
              "ticks": ""
             }
            },
            "type": "scatterpolar"
           }
          ],
          "scatterpolargl": [
           {
            "marker": {
             "colorbar": {
              "outlinewidth": 0,
              "ticks": ""
             }
            },
            "type": "scatterpolargl"
           }
          ],
          "scatterternary": [
           {
            "marker": {
             "colorbar": {
              "outlinewidth": 0,
              "ticks": ""
             }
            },
            "type": "scatterternary"
           }
          ],
          "surface": [
           {
            "colorbar": {
             "outlinewidth": 0,
             "ticks": ""
            },
            "colorscale": [
             [
              0,
              "#0d0887"
             ],
             [
              0.1111111111111111,
              "#46039f"
             ],
             [
              0.2222222222222222,
              "#7201a8"
             ],
             [
              0.3333333333333333,
              "#9c179e"
             ],
             [
              0.4444444444444444,
              "#bd3786"
             ],
             [
              0.5555555555555556,
              "#d8576b"
             ],
             [
              0.6666666666666666,
              "#ed7953"
             ],
             [
              0.7777777777777778,
              "#fb9f3a"
             ],
             [
              0.8888888888888888,
              "#fdca26"
             ],
             [
              1,
              "#f0f921"
             ]
            ],
            "type": "surface"
           }
          ],
          "table": [
           {
            "cells": {
             "fill": {
              "color": "#EBF0F8"
             },
             "line": {
              "color": "white"
             }
            },
            "header": {
             "fill": {
              "color": "#C8D4E3"
             },
             "line": {
              "color": "white"
             }
            },
            "type": "table"
           }
          ]
         },
         "layout": {
          "annotationdefaults": {
           "arrowcolor": "#2a3f5f",
           "arrowhead": 0,
           "arrowwidth": 1
          },
          "autotypenumbers": "strict",
          "coloraxis": {
           "colorbar": {
            "outlinewidth": 0,
            "ticks": ""
           }
          },
          "colorscale": {
           "diverging": [
            [
             0,
             "#8e0152"
            ],
            [
             0.1,
             "#c51b7d"
            ],
            [
             0.2,
             "#de77ae"
            ],
            [
             0.3,
             "#f1b6da"
            ],
            [
             0.4,
             "#fde0ef"
            ],
            [
             0.5,
             "#f7f7f7"
            ],
            [
             0.6,
             "#e6f5d0"
            ],
            [
             0.7,
             "#b8e186"
            ],
            [
             0.8,
             "#7fbc41"
            ],
            [
             0.9,
             "#4d9221"
            ],
            [
             1,
             "#276419"
            ]
           ],
           "sequential": [
            [
             0,
             "#0d0887"
            ],
            [
             0.1111111111111111,
             "#46039f"
            ],
            [
             0.2222222222222222,
             "#7201a8"
            ],
            [
             0.3333333333333333,
             "#9c179e"
            ],
            [
             0.4444444444444444,
             "#bd3786"
            ],
            [
             0.5555555555555556,
             "#d8576b"
            ],
            [
             0.6666666666666666,
             "#ed7953"
            ],
            [
             0.7777777777777778,
             "#fb9f3a"
            ],
            [
             0.8888888888888888,
             "#fdca26"
            ],
            [
             1,
             "#f0f921"
            ]
           ],
           "sequentialminus": [
            [
             0,
             "#0d0887"
            ],
            [
             0.1111111111111111,
             "#46039f"
            ],
            [
             0.2222222222222222,
             "#7201a8"
            ],
            [
             0.3333333333333333,
             "#9c179e"
            ],
            [
             0.4444444444444444,
             "#bd3786"
            ],
            [
             0.5555555555555556,
             "#d8576b"
            ],
            [
             0.6666666666666666,
             "#ed7953"
            ],
            [
             0.7777777777777778,
             "#fb9f3a"
            ],
            [
             0.8888888888888888,
             "#fdca26"
            ],
            [
             1,
             "#f0f921"
            ]
           ]
          },
          "colorway": [
           "#636efa",
           "#EF553B",
           "#00cc96",
           "#ab63fa",
           "#FFA15A",
           "#19d3f3",
           "#FF6692",
           "#B6E880",
           "#FF97FF",
           "#FECB52"
          ],
          "font": {
           "color": "#2a3f5f"
          },
          "geo": {
           "bgcolor": "white",
           "lakecolor": "white",
           "landcolor": "#E5ECF6",
           "showlakes": true,
           "showland": true,
           "subunitcolor": "white"
          },
          "hoverlabel": {
           "align": "left"
          },
          "hovermode": "closest",
          "mapbox": {
           "style": "light"
          },
          "paper_bgcolor": "white",
          "plot_bgcolor": "#E5ECF6",
          "polar": {
           "angularaxis": {
            "gridcolor": "white",
            "linecolor": "white",
            "ticks": ""
           },
           "bgcolor": "#E5ECF6",
           "radialaxis": {
            "gridcolor": "white",
            "linecolor": "white",
            "ticks": ""
           }
          },
          "scene": {
           "xaxis": {
            "backgroundcolor": "#E5ECF6",
            "gridcolor": "white",
            "gridwidth": 2,
            "linecolor": "white",
            "showbackground": true,
            "ticks": "",
            "zerolinecolor": "white"
           },
           "yaxis": {
            "backgroundcolor": "#E5ECF6",
            "gridcolor": "white",
            "gridwidth": 2,
            "linecolor": "white",
            "showbackground": true,
            "ticks": "",
            "zerolinecolor": "white"
           },
           "zaxis": {
            "backgroundcolor": "#E5ECF6",
            "gridcolor": "white",
            "gridwidth": 2,
            "linecolor": "white",
            "showbackground": true,
            "ticks": "",
            "zerolinecolor": "white"
           }
          },
          "shapedefaults": {
           "line": {
            "color": "#2a3f5f"
           }
          },
          "ternary": {
           "aaxis": {
            "gridcolor": "white",
            "linecolor": "white",
            "ticks": ""
           },
           "baxis": {
            "gridcolor": "white",
            "linecolor": "white",
            "ticks": ""
           },
           "bgcolor": "#E5ECF6",
           "caxis": {
            "gridcolor": "white",
            "linecolor": "white",
            "ticks": ""
           }
          },
          "title": {
           "x": 0.05
          },
          "xaxis": {
           "automargin": true,
           "gridcolor": "white",
           "linecolor": "white",
           "ticks": "",
           "title": {
            "standoff": 15
           },
           "zerolinecolor": "white",
           "zerolinewidth": 2
          },
          "yaxis": {
           "automargin": true,
           "gridcolor": "white",
           "linecolor": "white",
           "ticks": "",
           "title": {
            "standoff": 15
           },
           "zerolinecolor": "white",
           "zerolinewidth": 2
          }
         }
        }
       }
      }
     },
     "metadata": {},
     "output_type": "display_data"
    }
   ],
   "source": [
    "#Sankey chart aka Parallel Categories\n",
    "#If we do not aggregate, the result will be... a mess \n",
    "filtered = df[df[\"Date\"].dt.month == 2].round()\n",
    "fig = px.parallel_categories(filtered, \n",
    "                             dimensions=['Product line', 'Gender', 'City',\"Rating\"],\n",
    "                             color=filtered['Gender'].map(cmap_gndr), \n",
    "                             #color_continuous_scale=px.colors.sequential.Inferno,\n",
    "                             labels={'Gender':'Oh Gender', 'Product line':'What u buin´?', 'Total':'What total?',\"Rating\":\"Do u hate us?\"})\n",
    "fig.show()"
   ]
  },
  {
   "cell_type": "code",
   "execution_count": 115,
   "metadata": {},
   "outputs": [
    {
     "data": {
      "application/vnd.plotly.v1+json": {
       "config": {
        "plotlyServerURL": "https://plot.ly"
       },
       "data": [
        {
         "dimensions": [
          {
           "label": "Oh Gender",
           "values": [
            "Male",
            "Female",
            "Female",
            "Female",
            "Female",
            "Female",
            "Male",
            "Male",
            "Male",
            "Male",
            "Male",
            "Female",
            "Male",
            "Female",
            "Male",
            "Female",
            "Male",
            "Male",
            "Female",
            "Female",
            "Male",
            "Female",
            "Male",
            "Female",
            "Male",
            "Female",
            "Female",
            "Male",
            "Female",
            "Female",
            "Male",
            "Female",
            "Female",
            "Female",
            "Female",
            "Female",
            "Female",
            "Female",
            "Female",
            "Female",
            "Female",
            "Male",
            "Male",
            "Female",
            "Male",
            "Female",
            "Female",
            "Female",
            "Female",
            "Male",
            "Male",
            "Male",
            "Male",
            "Male",
            "Male",
            "Female",
            "Male",
            "Male",
            "Male",
            "Female",
            "Female",
            "Male",
            "Male",
            "Female",
            "Male",
            "Male",
            "Female",
            "Female",
            "Female",
            "Male",
            "Male",
            "Male",
            "Female",
            "Male",
            "Male",
            "Male",
            "Male",
            "Female",
            "Male",
            "Female",
            "Female",
            "Female",
            "Male",
            "Female",
            "Female",
            "Male",
            "Female",
            "Female",
            "Male",
            "Female",
            "Female",
            "Male",
            "Female",
            "Male",
            "Female",
            "Male",
            "Male",
            "Male",
            "Male",
            "Female",
            "Female",
            "Male",
            "Female",
            "Male",
            "Female",
            "Male",
            "Female",
            "Female",
            "Male",
            "Female",
            "Female",
            "Female",
            "Male",
            "Male",
            "Female",
            "Female",
            "Male",
            "Male",
            "Female",
            "Female",
            "Female",
            "Female",
            "Male",
            "Female",
            "Female",
            "Male",
            "Female",
            "Female",
            "Male",
            "Male",
            "Male",
            "Female",
            "Female",
            "Male",
            "Female",
            "Male",
            "Male",
            "Male",
            "Female",
            "Male",
            "Female",
            "Female",
            "Male",
            "Female",
            "Male",
            "Male",
            "Female",
            "Male",
            "Female",
            "Female",
            "Female",
            "Male",
            "Male",
            "Male",
            "Male",
            "Female",
            "Female",
            "Female",
            "Male",
            "Female",
            "Female",
            "Female",
            "Male",
            "Female",
            "Female",
            "Male",
            "Female",
            "Female",
            "Female",
            "Female",
            "Female",
            "Male",
            "Female",
            "Male",
            "Female",
            "Female",
            "Male",
            "Female",
            "Male",
            "Male",
            "Female",
            "Male",
            "Male",
            "Male",
            "Male",
            "Female",
            "Male",
            "Female",
            "Female",
            "Female",
            "Female",
            "Male",
            "Female",
            "Female",
            "Male",
            "Male",
            "Female",
            "Female",
            "Male",
            "Female",
            "Male",
            "Female",
            "Female",
            "Male",
            "Female",
            "Female",
            "Male",
            "Female",
            "Female",
            "Female",
            "Male",
            "Female",
            "Male",
            "Female",
            "Male",
            "Male",
            "Female",
            "Male",
            "Female",
            "Female",
            "Female",
            "Female",
            "Male",
            "Female",
            "Male",
            "Female",
            "Female",
            "Female",
            "Female",
            "Male",
            "Female",
            "Female",
            "Female",
            "Male",
            "Male",
            "Male",
            "Male",
            "Female",
            "Female",
            "Male",
            "Female",
            "Female",
            "Female",
            "Male",
            "Female",
            "Male",
            "Female",
            "Male",
            "Male",
            "Male",
            "Male",
            "Female",
            "Female",
            "Female",
            "Female",
            "Male",
            "Female",
            "Male",
            "Male",
            "Male",
            "Male",
            "Male",
            "Female",
            "Female",
            "Male",
            "Female",
            "Male",
            "Male",
            "Female",
            "Male",
            "Female",
            "Female",
            "Female",
            "Male",
            "Female",
            "Female",
            "Male",
            "Female",
            "Female",
            "Female",
            "Female",
            "Male",
            "Male",
            "Male",
            "Female",
            "Male",
            "Female",
            "Male",
            "Male",
            "Female",
            "Male",
            "Male",
            "Male",
            "Male",
            "Male",
            "Female",
            "Female",
            "Female",
            "Male",
            "Female",
            "Male",
            "Male",
            "Female"
           ]
          },
          {
           "label": "Do u hate us?",
           "values": [
            5,
            6,
            8,
            6,
            4,
            7,
            8,
            5,
            10,
            7,
            5,
            8,
            6,
            6,
            8,
            4,
            8,
            10,
            8,
            8,
            7,
            10,
            7,
            10,
            8,
            7,
            4,
            6,
            8,
            6,
            7,
            4,
            5,
            5,
            8,
            8,
            10,
            6,
            5,
            7,
            7,
            9,
            6,
            10,
            8,
            9,
            8,
            9,
            10,
            9,
            6,
            6,
            6,
            9,
            8,
            5,
            6,
            7,
            10,
            7,
            6,
            9,
            5,
            6,
            9,
            9,
            8,
            5,
            8,
            7,
            6,
            8,
            5,
            6,
            9,
            6,
            7,
            4,
            8,
            8,
            6,
            6,
            8,
            4,
            5,
            4,
            9,
            4,
            10,
            4,
            4,
            5,
            7,
            8,
            6,
            10,
            7,
            9,
            6,
            5,
            9,
            8,
            8,
            6,
            8,
            7,
            5,
            7,
            7,
            9,
            7,
            10,
            9,
            9,
            10,
            8,
            7,
            10,
            10,
            5,
            8,
            9,
            7,
            7,
            6,
            9,
            7,
            4,
            6,
            8,
            4,
            6,
            8,
            7,
            8,
            6,
            6,
            8,
            6,
            6,
            7,
            10,
            7,
            10,
            5,
            10,
            5,
            8,
            6,
            7,
            6,
            9,
            7,
            8,
            7,
            5,
            5,
            5,
            6,
            9,
            10,
            10,
            4,
            9,
            8,
            6,
            8,
            8,
            8,
            10,
            5,
            10,
            5,
            9,
            5,
            6,
            4,
            8,
            7,
            8,
            6,
            6,
            7,
            7,
            9,
            8,
            5,
            9,
            10,
            8,
            8,
            8,
            6,
            4,
            9,
            5,
            7,
            6,
            8,
            6,
            7,
            8,
            10,
            8,
            10,
            5,
            9,
            7,
            6,
            7,
            7,
            7,
            7,
            7,
            5,
            10,
            9,
            10,
            9,
            9,
            7,
            5,
            6,
            6,
            6,
            4,
            8,
            6,
            6,
            8,
            8,
            4,
            4,
            9,
            6,
            9,
            9,
            7,
            8,
            9,
            8,
            5,
            6,
            6,
            4,
            6,
            4,
            10,
            9,
            8,
            6,
            9,
            9,
            10,
            4,
            5,
            7,
            7,
            4,
            6,
            10,
            7,
            7,
            8,
            9,
            9,
            5,
            5,
            6,
            9,
            7,
            6,
            4,
            9,
            7,
            5,
            5,
            8,
            10,
            5,
            4,
            5,
            5,
            8,
            9,
            9,
            9,
            6,
            7,
            8,
            10,
            7,
            5,
            8,
            5,
            6,
            8,
            4,
            7,
            6,
            8,
            4,
            7
           ]
          }
         ],
         "domain": {
          "x": [
           0,
           1
          ],
          "y": [
           0,
           1
          ]
         },
         "line": {
          "color": [
           5,
           6,
           8,
           6,
           4,
           7,
           8,
           5,
           10,
           7,
           5,
           8,
           6,
           6,
           8,
           4,
           8,
           10,
           8,
           8,
           7,
           10,
           7,
           10,
           8,
           7,
           4,
           6,
           8,
           6,
           7,
           4,
           5,
           5,
           8,
           8,
           10,
           6,
           5,
           7,
           7,
           9,
           6,
           10,
           8,
           9,
           8,
           9,
           10,
           9,
           6,
           6,
           6,
           9,
           8,
           5,
           6,
           7,
           10,
           7,
           6,
           9,
           5,
           6,
           9,
           9,
           8,
           5,
           8,
           7,
           6,
           8,
           5,
           6,
           9,
           6,
           7,
           4,
           8,
           8,
           6,
           6,
           8,
           4,
           5,
           4,
           9,
           4,
           10,
           4,
           4,
           5,
           7,
           8,
           6,
           10,
           7,
           9,
           6,
           5,
           9,
           8,
           8,
           6,
           8,
           7,
           5,
           7,
           7,
           9,
           7,
           10,
           9,
           9,
           10,
           8,
           7,
           10,
           10,
           5,
           8,
           9,
           7,
           7,
           6,
           9,
           7,
           4,
           6,
           8,
           4,
           6,
           8,
           7,
           8,
           6,
           6,
           8,
           6,
           6,
           7,
           10,
           7,
           10,
           5,
           10,
           5,
           8,
           6,
           7,
           6,
           9,
           7,
           8,
           7,
           5,
           5,
           5,
           6,
           9,
           10,
           10,
           4,
           9,
           8,
           6,
           8,
           8,
           8,
           10,
           5,
           10,
           5,
           9,
           5,
           6,
           4,
           8,
           7,
           8,
           6,
           6,
           7,
           7,
           9,
           8,
           5,
           9,
           10,
           8,
           8,
           8,
           6,
           4,
           9,
           5,
           7,
           6,
           8,
           6,
           7,
           8,
           10,
           8,
           10,
           5,
           9,
           7,
           6,
           7,
           7,
           7,
           7,
           7,
           5,
           10,
           9,
           10,
           9,
           9,
           7,
           5,
           6,
           6,
           6,
           4,
           8,
           6,
           6,
           8,
           8,
           4,
           4,
           9,
           6,
           9,
           9,
           7,
           8,
           9,
           8,
           5,
           6,
           6,
           4,
           6,
           4,
           10,
           9,
           8,
           6,
           9,
           9,
           10,
           4,
           5,
           7,
           7,
           4,
           6,
           10,
           7,
           7,
           8,
           9,
           9,
           5,
           5,
           6,
           9,
           7,
           6,
           4,
           9,
           7,
           5,
           5,
           8,
           10,
           5,
           4,
           5,
           5,
           8,
           9,
           9,
           9,
           6,
           7,
           8,
           10,
           7,
           5,
           8,
           5,
           6,
           8,
           4,
           7,
           6,
           8,
           4,
           7
          ],
          "coloraxis": "coloraxis"
         },
         "name": "",
         "type": "parcats"
        }
       ],
       "layout": {
        "coloraxis": {
         "colorbar": {
          "title": {
           "text": "Do u hate us?"
          }
         },
         "colorscale": [
          [
           0,
           "#000004"
          ],
          [
           0.1111111111111111,
           "#1b0c41"
          ],
          [
           0.2222222222222222,
           "#4a0c6b"
          ],
          [
           0.3333333333333333,
           "#781c6d"
          ],
          [
           0.4444444444444444,
           "#a52c60"
          ],
          [
           0.5555555555555556,
           "#cf4446"
          ],
          [
           0.6666666666666666,
           "#ed6925"
          ],
          [
           0.7777777777777778,
           "#fb9b06"
          ],
          [
           0.8888888888888888,
           "#f7d13d"
          ],
          [
           1,
           "#fcffa4"
          ]
         ]
        },
        "legend": {
         "tracegroupgap": 0
        },
        "margin": {
         "t": 60
        },
        "template": {
         "data": {
          "bar": [
           {
            "error_x": {
             "color": "#2a3f5f"
            },
            "error_y": {
             "color": "#2a3f5f"
            },
            "marker": {
             "line": {
              "color": "#E5ECF6",
              "width": 0.5
             },
             "pattern": {
              "fillmode": "overlay",
              "size": 10,
              "solidity": 0.2
             }
            },
            "type": "bar"
           }
          ],
          "barpolar": [
           {
            "marker": {
             "line": {
              "color": "#E5ECF6",
              "width": 0.5
             },
             "pattern": {
              "fillmode": "overlay",
              "size": 10,
              "solidity": 0.2
             }
            },
            "type": "barpolar"
           }
          ],
          "carpet": [
           {
            "aaxis": {
             "endlinecolor": "#2a3f5f",
             "gridcolor": "white",
             "linecolor": "white",
             "minorgridcolor": "white",
             "startlinecolor": "#2a3f5f"
            },
            "baxis": {
             "endlinecolor": "#2a3f5f",
             "gridcolor": "white",
             "linecolor": "white",
             "minorgridcolor": "white",
             "startlinecolor": "#2a3f5f"
            },
            "type": "carpet"
           }
          ],
          "choropleth": [
           {
            "colorbar": {
             "outlinewidth": 0,
             "ticks": ""
            },
            "type": "choropleth"
           }
          ],
          "contour": [
           {
            "colorbar": {
             "outlinewidth": 0,
             "ticks": ""
            },
            "colorscale": [
             [
              0,
              "#0d0887"
             ],
             [
              0.1111111111111111,
              "#46039f"
             ],
             [
              0.2222222222222222,
              "#7201a8"
             ],
             [
              0.3333333333333333,
              "#9c179e"
             ],
             [
              0.4444444444444444,
              "#bd3786"
             ],
             [
              0.5555555555555556,
              "#d8576b"
             ],
             [
              0.6666666666666666,
              "#ed7953"
             ],
             [
              0.7777777777777778,
              "#fb9f3a"
             ],
             [
              0.8888888888888888,
              "#fdca26"
             ],
             [
              1,
              "#f0f921"
             ]
            ],
            "type": "contour"
           }
          ],
          "contourcarpet": [
           {
            "colorbar": {
             "outlinewidth": 0,
             "ticks": ""
            },
            "type": "contourcarpet"
           }
          ],
          "heatmap": [
           {
            "colorbar": {
             "outlinewidth": 0,
             "ticks": ""
            },
            "colorscale": [
             [
              0,
              "#0d0887"
             ],
             [
              0.1111111111111111,
              "#46039f"
             ],
             [
              0.2222222222222222,
              "#7201a8"
             ],
             [
              0.3333333333333333,
              "#9c179e"
             ],
             [
              0.4444444444444444,
              "#bd3786"
             ],
             [
              0.5555555555555556,
              "#d8576b"
             ],
             [
              0.6666666666666666,
              "#ed7953"
             ],
             [
              0.7777777777777778,
              "#fb9f3a"
             ],
             [
              0.8888888888888888,
              "#fdca26"
             ],
             [
              1,
              "#f0f921"
             ]
            ],
            "type": "heatmap"
           }
          ],
          "heatmapgl": [
           {
            "colorbar": {
             "outlinewidth": 0,
             "ticks": ""
            },
            "colorscale": [
             [
              0,
              "#0d0887"
             ],
             [
              0.1111111111111111,
              "#46039f"
             ],
             [
              0.2222222222222222,
              "#7201a8"
             ],
             [
              0.3333333333333333,
              "#9c179e"
             ],
             [
              0.4444444444444444,
              "#bd3786"
             ],
             [
              0.5555555555555556,
              "#d8576b"
             ],
             [
              0.6666666666666666,
              "#ed7953"
             ],
             [
              0.7777777777777778,
              "#fb9f3a"
             ],
             [
              0.8888888888888888,
              "#fdca26"
             ],
             [
              1,
              "#f0f921"
             ]
            ],
            "type": "heatmapgl"
           }
          ],
          "histogram": [
           {
            "marker": {
             "pattern": {
              "fillmode": "overlay",
              "size": 10,
              "solidity": 0.2
             }
            },
            "type": "histogram"
           }
          ],
          "histogram2d": [
           {
            "colorbar": {
             "outlinewidth": 0,
             "ticks": ""
            },
            "colorscale": [
             [
              0,
              "#0d0887"
             ],
             [
              0.1111111111111111,
              "#46039f"
             ],
             [
              0.2222222222222222,
              "#7201a8"
             ],
             [
              0.3333333333333333,
              "#9c179e"
             ],
             [
              0.4444444444444444,
              "#bd3786"
             ],
             [
              0.5555555555555556,
              "#d8576b"
             ],
             [
              0.6666666666666666,
              "#ed7953"
             ],
             [
              0.7777777777777778,
              "#fb9f3a"
             ],
             [
              0.8888888888888888,
              "#fdca26"
             ],
             [
              1,
              "#f0f921"
             ]
            ],
            "type": "histogram2d"
           }
          ],
          "histogram2dcontour": [
           {
            "colorbar": {
             "outlinewidth": 0,
             "ticks": ""
            },
            "colorscale": [
             [
              0,
              "#0d0887"
             ],
             [
              0.1111111111111111,
              "#46039f"
             ],
             [
              0.2222222222222222,
              "#7201a8"
             ],
             [
              0.3333333333333333,
              "#9c179e"
             ],
             [
              0.4444444444444444,
              "#bd3786"
             ],
             [
              0.5555555555555556,
              "#d8576b"
             ],
             [
              0.6666666666666666,
              "#ed7953"
             ],
             [
              0.7777777777777778,
              "#fb9f3a"
             ],
             [
              0.8888888888888888,
              "#fdca26"
             ],
             [
              1,
              "#f0f921"
             ]
            ],
            "type": "histogram2dcontour"
           }
          ],
          "mesh3d": [
           {
            "colorbar": {
             "outlinewidth": 0,
             "ticks": ""
            },
            "type": "mesh3d"
           }
          ],
          "parcoords": [
           {
            "line": {
             "colorbar": {
              "outlinewidth": 0,
              "ticks": ""
             }
            },
            "type": "parcoords"
           }
          ],
          "pie": [
           {
            "automargin": true,
            "type": "pie"
           }
          ],
          "scatter": [
           {
            "fillpattern": {
             "fillmode": "overlay",
             "size": 10,
             "solidity": 0.2
            },
            "type": "scatter"
           }
          ],
          "scatter3d": [
           {
            "line": {
             "colorbar": {
              "outlinewidth": 0,
              "ticks": ""
             }
            },
            "marker": {
             "colorbar": {
              "outlinewidth": 0,
              "ticks": ""
             }
            },
            "type": "scatter3d"
           }
          ],
          "scattercarpet": [
           {
            "marker": {
             "colorbar": {
              "outlinewidth": 0,
              "ticks": ""
             }
            },
            "type": "scattercarpet"
           }
          ],
          "scattergeo": [
           {
            "marker": {
             "colorbar": {
              "outlinewidth": 0,
              "ticks": ""
             }
            },
            "type": "scattergeo"
           }
          ],
          "scattergl": [
           {
            "marker": {
             "colorbar": {
              "outlinewidth": 0,
              "ticks": ""
             }
            },
            "type": "scattergl"
           }
          ],
          "scattermapbox": [
           {
            "marker": {
             "colorbar": {
              "outlinewidth": 0,
              "ticks": ""
             }
            },
            "type": "scattermapbox"
           }
          ],
          "scatterpolar": [
           {
            "marker": {
             "colorbar": {
              "outlinewidth": 0,
              "ticks": ""
             }
            },
            "type": "scatterpolar"
           }
          ],
          "scatterpolargl": [
           {
            "marker": {
             "colorbar": {
              "outlinewidth": 0,
              "ticks": ""
             }
            },
            "type": "scatterpolargl"
           }
          ],
          "scatterternary": [
           {
            "marker": {
             "colorbar": {
              "outlinewidth": 0,
              "ticks": ""
             }
            },
            "type": "scatterternary"
           }
          ],
          "surface": [
           {
            "colorbar": {
             "outlinewidth": 0,
             "ticks": ""
            },
            "colorscale": [
             [
              0,
              "#0d0887"
             ],
             [
              0.1111111111111111,
              "#46039f"
             ],
             [
              0.2222222222222222,
              "#7201a8"
             ],
             [
              0.3333333333333333,
              "#9c179e"
             ],
             [
              0.4444444444444444,
              "#bd3786"
             ],
             [
              0.5555555555555556,
              "#d8576b"
             ],
             [
              0.6666666666666666,
              "#ed7953"
             ],
             [
              0.7777777777777778,
              "#fb9f3a"
             ],
             [
              0.8888888888888888,
              "#fdca26"
             ],
             [
              1,
              "#f0f921"
             ]
            ],
            "type": "surface"
           }
          ],
          "table": [
           {
            "cells": {
             "fill": {
              "color": "#EBF0F8"
             },
             "line": {
              "color": "white"
             }
            },
            "header": {
             "fill": {
              "color": "#C8D4E3"
             },
             "line": {
              "color": "white"
             }
            },
            "type": "table"
           }
          ]
         },
         "layout": {
          "annotationdefaults": {
           "arrowcolor": "#2a3f5f",
           "arrowhead": 0,
           "arrowwidth": 1
          },
          "autotypenumbers": "strict",
          "coloraxis": {
           "colorbar": {
            "outlinewidth": 0,
            "ticks": ""
           }
          },
          "colorscale": {
           "diverging": [
            [
             0,
             "#8e0152"
            ],
            [
             0.1,
             "#c51b7d"
            ],
            [
             0.2,
             "#de77ae"
            ],
            [
             0.3,
             "#f1b6da"
            ],
            [
             0.4,
             "#fde0ef"
            ],
            [
             0.5,
             "#f7f7f7"
            ],
            [
             0.6,
             "#e6f5d0"
            ],
            [
             0.7,
             "#b8e186"
            ],
            [
             0.8,
             "#7fbc41"
            ],
            [
             0.9,
             "#4d9221"
            ],
            [
             1,
             "#276419"
            ]
           ],
           "sequential": [
            [
             0,
             "#0d0887"
            ],
            [
             0.1111111111111111,
             "#46039f"
            ],
            [
             0.2222222222222222,
             "#7201a8"
            ],
            [
             0.3333333333333333,
             "#9c179e"
            ],
            [
             0.4444444444444444,
             "#bd3786"
            ],
            [
             0.5555555555555556,
             "#d8576b"
            ],
            [
             0.6666666666666666,
             "#ed7953"
            ],
            [
             0.7777777777777778,
             "#fb9f3a"
            ],
            [
             0.8888888888888888,
             "#fdca26"
            ],
            [
             1,
             "#f0f921"
            ]
           ],
           "sequentialminus": [
            [
             0,
             "#0d0887"
            ],
            [
             0.1111111111111111,
             "#46039f"
            ],
            [
             0.2222222222222222,
             "#7201a8"
            ],
            [
             0.3333333333333333,
             "#9c179e"
            ],
            [
             0.4444444444444444,
             "#bd3786"
            ],
            [
             0.5555555555555556,
             "#d8576b"
            ],
            [
             0.6666666666666666,
             "#ed7953"
            ],
            [
             0.7777777777777778,
             "#fb9f3a"
            ],
            [
             0.8888888888888888,
             "#fdca26"
            ],
            [
             1,
             "#f0f921"
            ]
           ]
          },
          "colorway": [
           "#636efa",
           "#EF553B",
           "#00cc96",
           "#ab63fa",
           "#FFA15A",
           "#19d3f3",
           "#FF6692",
           "#B6E880",
           "#FF97FF",
           "#FECB52"
          ],
          "font": {
           "color": "#2a3f5f"
          },
          "geo": {
           "bgcolor": "white",
           "lakecolor": "white",
           "landcolor": "#E5ECF6",
           "showlakes": true,
           "showland": true,
           "subunitcolor": "white"
          },
          "hoverlabel": {
           "align": "left"
          },
          "hovermode": "closest",
          "mapbox": {
           "style": "light"
          },
          "paper_bgcolor": "white",
          "plot_bgcolor": "#E5ECF6",
          "polar": {
           "angularaxis": {
            "gridcolor": "white",
            "linecolor": "white",
            "ticks": ""
           },
           "bgcolor": "#E5ECF6",
           "radialaxis": {
            "gridcolor": "white",
            "linecolor": "white",
            "ticks": ""
           }
          },
          "scene": {
           "xaxis": {
            "backgroundcolor": "#E5ECF6",
            "gridcolor": "white",
            "gridwidth": 2,
            "linecolor": "white",
            "showbackground": true,
            "ticks": "",
            "zerolinecolor": "white"
           },
           "yaxis": {
            "backgroundcolor": "#E5ECF6",
            "gridcolor": "white",
            "gridwidth": 2,
            "linecolor": "white",
            "showbackground": true,
            "ticks": "",
            "zerolinecolor": "white"
           },
           "zaxis": {
            "backgroundcolor": "#E5ECF6",
            "gridcolor": "white",
            "gridwidth": 2,
            "linecolor": "white",
            "showbackground": true,
            "ticks": "",
            "zerolinecolor": "white"
           }
          },
          "shapedefaults": {
           "line": {
            "color": "#2a3f5f"
           }
          },
          "ternary": {
           "aaxis": {
            "gridcolor": "white",
            "linecolor": "white",
            "ticks": ""
           },
           "baxis": {
            "gridcolor": "white",
            "linecolor": "white",
            "ticks": ""
           },
           "bgcolor": "#E5ECF6",
           "caxis": {
            "gridcolor": "white",
            "linecolor": "white",
            "ticks": ""
           }
          },
          "title": {
           "x": 0.05
          },
          "xaxis": {
           "automargin": true,
           "gridcolor": "white",
           "linecolor": "white",
           "ticks": "",
           "title": {
            "standoff": 15
           },
           "zerolinecolor": "white",
           "zerolinewidth": 2
          },
          "yaxis": {
           "automargin": true,
           "gridcolor": "white",
           "linecolor": "white",
           "ticks": "",
           "title": {
            "standoff": 15
           },
           "zerolinecolor": "white",
           "zerolinewidth": 2
          }
         }
        }
       }
      }
     },
     "metadata": {},
     "output_type": "display_data"
    }
   ],
   "source": [
    "#Sankey chart aka Parallel Categories\n",
    "#If we do not aggregate, the result will be... a mess \n",
    "filtered = df[df[\"Date\"].dt.month == 2].round()\n",
    "fig = px.parallel_categories(filtered, \n",
    "                             dimensions=['Gender',\"Rating\"],\n",
    "                             color=filtered['Rating'], \n",
    "                             color_continuous_scale=px.colors.sequential.Inferno,\n",
    "                             labels={'Gender':'Oh Gender', 'Product line':'What u buin´?', 'Total':'What total?',\"Rating\":\"Do u hate us?\"})\n",
    "fig.show()"
   ]
  },
  {
   "cell_type": "code",
   "execution_count": 113,
   "metadata": {},
   "outputs": [
    {
     "data": {
      "application/vnd.plotly.v1+json": {
       "config": {
        "plotlyServerURL": "https://plot.ly"
       },
       "data": [
        {
         "branchvalues": "total",
         "domain": {
          "x": [
           0,
           1
          ],
          "y": [
           0,
           1
          ]
         },
         "hovertemplate": "labels=%{label}<br>Total=%{value}<br>parent=%{parent}<br>id=%{id}<extra></extra>",
         "ids": [
          "Female/Mandalay/Electronic accessories",
          "Male/Mandalay/Electronic accessories",
          "Female/Naypyitaw/Electronic accessories",
          "Male/Naypyitaw/Electronic accessories",
          "Female/Yangon/Electronic accessories",
          "Male/Yangon/Electronic accessories",
          "Female/Mandalay/Fashion accessories",
          "Male/Mandalay/Fashion accessories",
          "Female/Naypyitaw/Fashion accessories",
          "Male/Naypyitaw/Fashion accessories",
          "Female/Yangon/Fashion accessories",
          "Male/Yangon/Fashion accessories",
          "Female/Mandalay/Food and beverages",
          "Male/Mandalay/Food and beverages",
          "Female/Naypyitaw/Food and beverages",
          "Male/Naypyitaw/Food and beverages",
          "Female/Yangon/Food and beverages",
          "Male/Yangon/Food and beverages",
          "Female/Mandalay/Health and beauty",
          "Male/Mandalay/Health and beauty",
          "Female/Naypyitaw/Health and beauty",
          "Male/Naypyitaw/Health and beauty",
          "Female/Yangon/Health and beauty",
          "Male/Yangon/Health and beauty",
          "Female/Mandalay/Home and lifestyle",
          "Male/Mandalay/Home and lifestyle",
          "Female/Naypyitaw/Home and lifestyle",
          "Male/Naypyitaw/Home and lifestyle",
          "Female/Yangon/Home and lifestyle",
          "Male/Yangon/Home and lifestyle",
          "Female/Mandalay/Sports and travel",
          "Male/Mandalay/Sports and travel",
          "Female/Naypyitaw/Sports and travel",
          "Male/Naypyitaw/Sports and travel",
          "Female/Yangon/Sports and travel",
          "Male/Yangon/Sports and travel",
          "Female/Mandalay",
          "Male/Mandalay",
          "Female/Naypyitaw",
          "Male/Naypyitaw",
          "Female/Yangon",
          "Male/Yangon",
          "Female",
          "Male"
         ],
         "labels": [
          "Electronic accessories",
          "Electronic accessories",
          "Electronic accessories",
          "Electronic accessories",
          "Electronic accessories",
          "Electronic accessories",
          "Fashion accessories",
          "Fashion accessories",
          "Fashion accessories",
          "Fashion accessories",
          "Fashion accessories",
          "Fashion accessories",
          "Food and beverages",
          "Food and beverages",
          "Food and beverages",
          "Food and beverages",
          "Food and beverages",
          "Food and beverages",
          "Health and beauty",
          "Health and beauty",
          "Health and beauty",
          "Health and beauty",
          "Health and beauty",
          "Health and beauty",
          "Home and lifestyle",
          "Home and lifestyle",
          "Home and lifestyle",
          "Home and lifestyle",
          "Home and lifestyle",
          "Home and lifestyle",
          "Sports and travel",
          "Sports and travel",
          "Sports and travel",
          "Sports and travel",
          "Sports and travel",
          "Sports and travel",
          "Mandalay",
          "Mandalay",
          "Naypyitaw",
          "Naypyitaw",
          "Yangon",
          "Yangon",
          "Female",
          "Male"
         ],
         "name": "",
         "parents": [
          "Female/Mandalay",
          "Male/Mandalay",
          "Female/Naypyitaw",
          "Male/Naypyitaw",
          "Female/Yangon",
          "Male/Yangon",
          "Female/Mandalay",
          "Male/Mandalay",
          "Female/Naypyitaw",
          "Male/Naypyitaw",
          "Female/Yangon",
          "Male/Yangon",
          "Female/Mandalay",
          "Male/Mandalay",
          "Female/Naypyitaw",
          "Male/Naypyitaw",
          "Female/Yangon",
          "Male/Yangon",
          "Female/Mandalay",
          "Male/Mandalay",
          "Female/Naypyitaw",
          "Male/Naypyitaw",
          "Female/Yangon",
          "Male/Yangon",
          "Female/Mandalay",
          "Male/Mandalay",
          "Female/Naypyitaw",
          "Male/Naypyitaw",
          "Female/Yangon",
          "Male/Yangon",
          "Female/Mandalay",
          "Male/Mandalay",
          "Female/Naypyitaw",
          "Male/Naypyitaw",
          "Female/Yangon",
          "Male/Yangon",
          "Female",
          "Male",
          "Female",
          "Male",
          "Female",
          "Male",
          "",
          ""
         ],
         "type": "sunburst",
         "values": [
          4075,
          2609,
          3756,
          1718,
          2799,
          2404,
          3180,
          2956,
          5306,
          2393,
          2845,
          2327,
          3748,
          1808,
          4407,
          2987,
          3115,
          3939,
          3271,
          2586,
          3288,
          2540,
          1161,
          1753,
          1511,
          3148,
          1753,
          1250,
          3366,
          1405,
          3888,
          1641,
          2396,
          1142,
          2463,
          2280,
          19673,
          14748,
          20906,
          12030,
          15749,
          14108,
          56328,
          40886
         ]
        }
       ],
       "layout": {
        "legend": {
         "tracegroupgap": 0
        },
        "margin": {
         "t": 60
        },
        "template": {
         "data": {
          "bar": [
           {
            "error_x": {
             "color": "#2a3f5f"
            },
            "error_y": {
             "color": "#2a3f5f"
            },
            "marker": {
             "line": {
              "color": "#E5ECF6",
              "width": 0.5
             },
             "pattern": {
              "fillmode": "overlay",
              "size": 10,
              "solidity": 0.2
             }
            },
            "type": "bar"
           }
          ],
          "barpolar": [
           {
            "marker": {
             "line": {
              "color": "#E5ECF6",
              "width": 0.5
             },
             "pattern": {
              "fillmode": "overlay",
              "size": 10,
              "solidity": 0.2
             }
            },
            "type": "barpolar"
           }
          ],
          "carpet": [
           {
            "aaxis": {
             "endlinecolor": "#2a3f5f",
             "gridcolor": "white",
             "linecolor": "white",
             "minorgridcolor": "white",
             "startlinecolor": "#2a3f5f"
            },
            "baxis": {
             "endlinecolor": "#2a3f5f",
             "gridcolor": "white",
             "linecolor": "white",
             "minorgridcolor": "white",
             "startlinecolor": "#2a3f5f"
            },
            "type": "carpet"
           }
          ],
          "choropleth": [
           {
            "colorbar": {
             "outlinewidth": 0,
             "ticks": ""
            },
            "type": "choropleth"
           }
          ],
          "contour": [
           {
            "colorbar": {
             "outlinewidth": 0,
             "ticks": ""
            },
            "colorscale": [
             [
              0,
              "#0d0887"
             ],
             [
              0.1111111111111111,
              "#46039f"
             ],
             [
              0.2222222222222222,
              "#7201a8"
             ],
             [
              0.3333333333333333,
              "#9c179e"
             ],
             [
              0.4444444444444444,
              "#bd3786"
             ],
             [
              0.5555555555555556,
              "#d8576b"
             ],
             [
              0.6666666666666666,
              "#ed7953"
             ],
             [
              0.7777777777777778,
              "#fb9f3a"
             ],
             [
              0.8888888888888888,
              "#fdca26"
             ],
             [
              1,
              "#f0f921"
             ]
            ],
            "type": "contour"
           }
          ],
          "contourcarpet": [
           {
            "colorbar": {
             "outlinewidth": 0,
             "ticks": ""
            },
            "type": "contourcarpet"
           }
          ],
          "heatmap": [
           {
            "colorbar": {
             "outlinewidth": 0,
             "ticks": ""
            },
            "colorscale": [
             [
              0,
              "#0d0887"
             ],
             [
              0.1111111111111111,
              "#46039f"
             ],
             [
              0.2222222222222222,
              "#7201a8"
             ],
             [
              0.3333333333333333,
              "#9c179e"
             ],
             [
              0.4444444444444444,
              "#bd3786"
             ],
             [
              0.5555555555555556,
              "#d8576b"
             ],
             [
              0.6666666666666666,
              "#ed7953"
             ],
             [
              0.7777777777777778,
              "#fb9f3a"
             ],
             [
              0.8888888888888888,
              "#fdca26"
             ],
             [
              1,
              "#f0f921"
             ]
            ],
            "type": "heatmap"
           }
          ],
          "heatmapgl": [
           {
            "colorbar": {
             "outlinewidth": 0,
             "ticks": ""
            },
            "colorscale": [
             [
              0,
              "#0d0887"
             ],
             [
              0.1111111111111111,
              "#46039f"
             ],
             [
              0.2222222222222222,
              "#7201a8"
             ],
             [
              0.3333333333333333,
              "#9c179e"
             ],
             [
              0.4444444444444444,
              "#bd3786"
             ],
             [
              0.5555555555555556,
              "#d8576b"
             ],
             [
              0.6666666666666666,
              "#ed7953"
             ],
             [
              0.7777777777777778,
              "#fb9f3a"
             ],
             [
              0.8888888888888888,
              "#fdca26"
             ],
             [
              1,
              "#f0f921"
             ]
            ],
            "type": "heatmapgl"
           }
          ],
          "histogram": [
           {
            "marker": {
             "pattern": {
              "fillmode": "overlay",
              "size": 10,
              "solidity": 0.2
             }
            },
            "type": "histogram"
           }
          ],
          "histogram2d": [
           {
            "colorbar": {
             "outlinewidth": 0,
             "ticks": ""
            },
            "colorscale": [
             [
              0,
              "#0d0887"
             ],
             [
              0.1111111111111111,
              "#46039f"
             ],
             [
              0.2222222222222222,
              "#7201a8"
             ],
             [
              0.3333333333333333,
              "#9c179e"
             ],
             [
              0.4444444444444444,
              "#bd3786"
             ],
             [
              0.5555555555555556,
              "#d8576b"
             ],
             [
              0.6666666666666666,
              "#ed7953"
             ],
             [
              0.7777777777777778,
              "#fb9f3a"
             ],
             [
              0.8888888888888888,
              "#fdca26"
             ],
             [
              1,
              "#f0f921"
             ]
            ],
            "type": "histogram2d"
           }
          ],
          "histogram2dcontour": [
           {
            "colorbar": {
             "outlinewidth": 0,
             "ticks": ""
            },
            "colorscale": [
             [
              0,
              "#0d0887"
             ],
             [
              0.1111111111111111,
              "#46039f"
             ],
             [
              0.2222222222222222,
              "#7201a8"
             ],
             [
              0.3333333333333333,
              "#9c179e"
             ],
             [
              0.4444444444444444,
              "#bd3786"
             ],
             [
              0.5555555555555556,
              "#d8576b"
             ],
             [
              0.6666666666666666,
              "#ed7953"
             ],
             [
              0.7777777777777778,
              "#fb9f3a"
             ],
             [
              0.8888888888888888,
              "#fdca26"
             ],
             [
              1,
              "#f0f921"
             ]
            ],
            "type": "histogram2dcontour"
           }
          ],
          "mesh3d": [
           {
            "colorbar": {
             "outlinewidth": 0,
             "ticks": ""
            },
            "type": "mesh3d"
           }
          ],
          "parcoords": [
           {
            "line": {
             "colorbar": {
              "outlinewidth": 0,
              "ticks": ""
             }
            },
            "type": "parcoords"
           }
          ],
          "pie": [
           {
            "automargin": true,
            "type": "pie"
           }
          ],
          "scatter": [
           {
            "fillpattern": {
             "fillmode": "overlay",
             "size": 10,
             "solidity": 0.2
            },
            "type": "scatter"
           }
          ],
          "scatter3d": [
           {
            "line": {
             "colorbar": {
              "outlinewidth": 0,
              "ticks": ""
             }
            },
            "marker": {
             "colorbar": {
              "outlinewidth": 0,
              "ticks": ""
             }
            },
            "type": "scatter3d"
           }
          ],
          "scattercarpet": [
           {
            "marker": {
             "colorbar": {
              "outlinewidth": 0,
              "ticks": ""
             }
            },
            "type": "scattercarpet"
           }
          ],
          "scattergeo": [
           {
            "marker": {
             "colorbar": {
              "outlinewidth": 0,
              "ticks": ""
             }
            },
            "type": "scattergeo"
           }
          ],
          "scattergl": [
           {
            "marker": {
             "colorbar": {
              "outlinewidth": 0,
              "ticks": ""
             }
            },
            "type": "scattergl"
           }
          ],
          "scattermapbox": [
           {
            "marker": {
             "colorbar": {
              "outlinewidth": 0,
              "ticks": ""
             }
            },
            "type": "scattermapbox"
           }
          ],
          "scatterpolar": [
           {
            "marker": {
             "colorbar": {
              "outlinewidth": 0,
              "ticks": ""
             }
            },
            "type": "scatterpolar"
           }
          ],
          "scatterpolargl": [
           {
            "marker": {
             "colorbar": {
              "outlinewidth": 0,
              "ticks": ""
             }
            },
            "type": "scatterpolargl"
           }
          ],
          "scatterternary": [
           {
            "marker": {
             "colorbar": {
              "outlinewidth": 0,
              "ticks": ""
             }
            },
            "type": "scatterternary"
           }
          ],
          "surface": [
           {
            "colorbar": {
             "outlinewidth": 0,
             "ticks": ""
            },
            "colorscale": [
             [
              0,
              "#0d0887"
             ],
             [
              0.1111111111111111,
              "#46039f"
             ],
             [
              0.2222222222222222,
              "#7201a8"
             ],
             [
              0.3333333333333333,
              "#9c179e"
             ],
             [
              0.4444444444444444,
              "#bd3786"
             ],
             [
              0.5555555555555556,
              "#d8576b"
             ],
             [
              0.6666666666666666,
              "#ed7953"
             ],
             [
              0.7777777777777778,
              "#fb9f3a"
             ],
             [
              0.8888888888888888,
              "#fdca26"
             ],
             [
              1,
              "#f0f921"
             ]
            ],
            "type": "surface"
           }
          ],
          "table": [
           {
            "cells": {
             "fill": {
              "color": "#EBF0F8"
             },
             "line": {
              "color": "white"
             }
            },
            "header": {
             "fill": {
              "color": "#C8D4E3"
             },
             "line": {
              "color": "white"
             }
            },
            "type": "table"
           }
          ]
         },
         "layout": {
          "annotationdefaults": {
           "arrowcolor": "#2a3f5f",
           "arrowhead": 0,
           "arrowwidth": 1
          },
          "autotypenumbers": "strict",
          "coloraxis": {
           "colorbar": {
            "outlinewidth": 0,
            "ticks": ""
           }
          },
          "colorscale": {
           "diverging": [
            [
             0,
             "#8e0152"
            ],
            [
             0.1,
             "#c51b7d"
            ],
            [
             0.2,
             "#de77ae"
            ],
            [
             0.3,
             "#f1b6da"
            ],
            [
             0.4,
             "#fde0ef"
            ],
            [
             0.5,
             "#f7f7f7"
            ],
            [
             0.6,
             "#e6f5d0"
            ],
            [
             0.7,
             "#b8e186"
            ],
            [
             0.8,
             "#7fbc41"
            ],
            [
             0.9,
             "#4d9221"
            ],
            [
             1,
             "#276419"
            ]
           ],
           "sequential": [
            [
             0,
             "#0d0887"
            ],
            [
             0.1111111111111111,
             "#46039f"
            ],
            [
             0.2222222222222222,
             "#7201a8"
            ],
            [
             0.3333333333333333,
             "#9c179e"
            ],
            [
             0.4444444444444444,
             "#bd3786"
            ],
            [
             0.5555555555555556,
             "#d8576b"
            ],
            [
             0.6666666666666666,
             "#ed7953"
            ],
            [
             0.7777777777777778,
             "#fb9f3a"
            ],
            [
             0.8888888888888888,
             "#fdca26"
            ],
            [
             1,
             "#f0f921"
            ]
           ],
           "sequentialminus": [
            [
             0,
             "#0d0887"
            ],
            [
             0.1111111111111111,
             "#46039f"
            ],
            [
             0.2222222222222222,
             "#7201a8"
            ],
            [
             0.3333333333333333,
             "#9c179e"
            ],
            [
             0.4444444444444444,
             "#bd3786"
            ],
            [
             0.5555555555555556,
             "#d8576b"
            ],
            [
             0.6666666666666666,
             "#ed7953"
            ],
            [
             0.7777777777777778,
             "#fb9f3a"
            ],
            [
             0.8888888888888888,
             "#fdca26"
            ],
            [
             1,
             "#f0f921"
            ]
           ]
          },
          "colorway": [
           "#636efa",
           "#EF553B",
           "#00cc96",
           "#ab63fa",
           "#FFA15A",
           "#19d3f3",
           "#FF6692",
           "#B6E880",
           "#FF97FF",
           "#FECB52"
          ],
          "font": {
           "color": "#2a3f5f"
          },
          "geo": {
           "bgcolor": "white",
           "lakecolor": "white",
           "landcolor": "#E5ECF6",
           "showlakes": true,
           "showland": true,
           "subunitcolor": "white"
          },
          "hoverlabel": {
           "align": "left"
          },
          "hovermode": "closest",
          "mapbox": {
           "style": "light"
          },
          "paper_bgcolor": "white",
          "plot_bgcolor": "#E5ECF6",
          "polar": {
           "angularaxis": {
            "gridcolor": "white",
            "linecolor": "white",
            "ticks": ""
           },
           "bgcolor": "#E5ECF6",
           "radialaxis": {
            "gridcolor": "white",
            "linecolor": "white",
            "ticks": ""
           }
          },
          "scene": {
           "xaxis": {
            "backgroundcolor": "#E5ECF6",
            "gridcolor": "white",
            "gridwidth": 2,
            "linecolor": "white",
            "showbackground": true,
            "ticks": "",
            "zerolinecolor": "white"
           },
           "yaxis": {
            "backgroundcolor": "#E5ECF6",
            "gridcolor": "white",
            "gridwidth": 2,
            "linecolor": "white",
            "showbackground": true,
            "ticks": "",
            "zerolinecolor": "white"
           },
           "zaxis": {
            "backgroundcolor": "#E5ECF6",
            "gridcolor": "white",
            "gridwidth": 2,
            "linecolor": "white",
            "showbackground": true,
            "ticks": "",
            "zerolinecolor": "white"
           }
          },
          "shapedefaults": {
           "line": {
            "color": "#2a3f5f"
           }
          },
          "ternary": {
           "aaxis": {
            "gridcolor": "white",
            "linecolor": "white",
            "ticks": ""
           },
           "baxis": {
            "gridcolor": "white",
            "linecolor": "white",
            "ticks": ""
           },
           "bgcolor": "#E5ECF6",
           "caxis": {
            "gridcolor": "white",
            "linecolor": "white",
            "ticks": ""
           }
          },
          "title": {
           "x": 0.05
          },
          "xaxis": {
           "automargin": true,
           "gridcolor": "white",
           "linecolor": "white",
           "ticks": "",
           "title": {
            "standoff": 15
           },
           "zerolinecolor": "white",
           "zerolinewidth": 2
          },
          "yaxis": {
           "automargin": true,
           "gridcolor": "white",
           "linecolor": "white",
           "ticks": "",
           "title": {
            "standoff": 15
           },
           "zerolinecolor": "white",
           "zerolinewidth": 2
          }
         }
        }
       }
      }
     },
     "metadata": {},
     "output_type": "display_data"
    }
   ],
   "source": [
    "filtered = df[df[\"Date\"].dt.month == 2].round()\n",
    "fig = px.sunburst(\n",
    "    filtered,\n",
    "    path=['Gender',\"City\",'Product line',],\n",
    "    values='Total',\n",
    ")\n",
    "fig"
   ]
  },
  {
   "cell_type": "code",
   "execution_count": 67,
   "metadata": {},
   "outputs": [
    {
     "data": {
      "text/html": [
       "<div>\n",
       "<style scoped>\n",
       "    .dataframe tbody tr th:only-of-type {\n",
       "        vertical-align: middle;\n",
       "    }\n",
       "\n",
       "    .dataframe tbody tr th {\n",
       "        vertical-align: top;\n",
       "    }\n",
       "\n",
       "    .dataframe thead th {\n",
       "        text-align: right;\n",
       "    }\n",
       "</style>\n",
       "<table border=\"1\" class=\"dataframe\">\n",
       "  <thead>\n",
       "    <tr style=\"text-align: right;\">\n",
       "      <th></th>\n",
       "      <th></th>\n",
       "      <th>Gender</th>\n",
       "      <th>Product line</th>\n",
       "      <th>Total</th>\n",
       "    </tr>\n",
       "    <tr>\n",
       "      <th>Gender</th>\n",
       "      <th>Product line</th>\n",
       "      <th></th>\n",
       "      <th></th>\n",
       "      <th></th>\n",
       "    </tr>\n",
       "  </thead>\n",
       "  <tbody>\n",
       "    <tr>\n",
       "      <th rowspan=\"6\" valign=\"top\">Female</th>\n",
       "      <th>Electronic accessories</th>\n",
       "      <td>31</td>\n",
       "      <td>31</td>\n",
       "      <td>10632.98</td>\n",
       "    </tr>\n",
       "    <tr>\n",
       "      <th>Fashion accessories</th>\n",
       "      <td>32</td>\n",
       "      <td>32</td>\n",
       "      <td>11333.22</td>\n",
       "    </tr>\n",
       "    <tr>\n",
       "      <th>Food and beverages</th>\n",
       "      <td>34</td>\n",
       "      <td>34</td>\n",
       "      <td>11267.92</td>\n",
       "    </tr>\n",
       "    <tr>\n",
       "      <th>Health and beauty</th>\n",
       "      <td>24</td>\n",
       "      <td>24</td>\n",
       "      <td>7723.96</td>\n",
       "    </tr>\n",
       "    <tr>\n",
       "      <th>Home and lifestyle</th>\n",
       "      <td>16</td>\n",
       "      <td>16</td>\n",
       "      <td>6630.17</td>\n",
       "    </tr>\n",
       "    <tr>\n",
       "      <th>Sports and travel</th>\n",
       "      <td>27</td>\n",
       "      <td>27</td>\n",
       "      <td>8747.29</td>\n",
       "    </tr>\n",
       "    <tr>\n",
       "      <th rowspan=\"6\" valign=\"top\">Male</th>\n",
       "      <th>Electronic accessories</th>\n",
       "      <td>23</td>\n",
       "      <td>23</td>\n",
       "      <td>6729.91</td>\n",
       "    </tr>\n",
       "    <tr>\n",
       "      <th>Fashion accessories</th>\n",
       "      <td>28</td>\n",
       "      <td>28</td>\n",
       "      <td>7676.64</td>\n",
       "    </tr>\n",
       "    <tr>\n",
       "      <th>Food and beverages</th>\n",
       "      <td>28</td>\n",
       "      <td>28</td>\n",
       "      <td>8732.44</td>\n",
       "    </tr>\n",
       "    <tr>\n",
       "      <th>Health and beauty</th>\n",
       "      <td>22</td>\n",
       "      <td>22</td>\n",
       "      <td>6878.31</td>\n",
       "    </tr>\n",
       "    <tr>\n",
       "      <th>Home and lifestyle</th>\n",
       "      <td>22</td>\n",
       "      <td>22</td>\n",
       "      <td>5804.20</td>\n",
       "    </tr>\n",
       "    <tr>\n",
       "      <th>Sports and travel</th>\n",
       "      <td>16</td>\n",
       "      <td>16</td>\n",
       "      <td>5062.33</td>\n",
       "    </tr>\n",
       "  </tbody>\n",
       "</table>\n",
       "</div>"
      ],
      "text/plain": [
       "                               Gender  Product line     Total\n",
       "Gender Product line                                          \n",
       "Female Electronic accessories      31            31  10632.98\n",
       "       Fashion accessories         32            32  11333.22\n",
       "       Food and beverages          34            34  11267.92\n",
       "       Health and beauty           24            24   7723.96\n",
       "       Home and lifestyle          16            16   6630.17\n",
       "       Sports and travel           27            27   8747.29\n",
       "Male   Electronic accessories      23            23   6729.91\n",
       "       Fashion accessories         28            28   7676.64\n",
       "       Food and beverages          28            28   8732.44\n",
       "       Health and beauty           22            22   6878.31\n",
       "       Home and lifestyle          22            22   5804.20\n",
       "       Sports and travel           16            16   5062.33"
      ]
     },
     "execution_count": 67,
     "metadata": {},
     "output_type": "execute_result"
    }
   ],
   "source": [
    "# Aggregating\n",
    "sankey_chart = df[df[\"Date\"].dt.month == 2].groupby(['Gender', 'Product line']).agg({'Gender': 'size', 'Product line': 'size', 'Total': 'sum'})\n",
    "sankey_chart"
   ]
  },
  {
   "cell_type": "code",
   "execution_count": 74,
   "metadata": {},
   "outputs": [
    {
     "data": {
      "application/vnd.plotly.v1+json": {
       "config": {
        "plotlyServerURL": "https://plot.ly"
       },
       "data": [
        {
         "dimensions": [
          {
           "label": "Oh Gender",
           "values": [
            31,
            32,
            34,
            24,
            16,
            27,
            23,
            28,
            28,
            22,
            22,
            16
           ]
          },
          {
           "label": "What u buin´?",
           "values": [
            31,
            32,
            34,
            24,
            16,
            27,
            23,
            28,
            28,
            22,
            22,
            16
           ]
          },
          {
           "label": "What total?",
           "values": [
            10632.98,
            11333.22,
            11267.92,
            7723.96,
            6630.17,
            8747.289999999999,
            6729.91,
            7676.64,
            8732.44,
            6878.31,
            5804.2,
            5062.33
           ]
          }
         ],
         "domain": {
          "x": [
           0,
           1
          ],
          "y": [
           0,
           1
          ]
         },
         "line": {
          "color": [
           10632.98,
           11333.22,
           11267.92,
           7723.96,
           6630.17,
           8747.289999999999,
           6729.91,
           7676.64,
           8732.44,
           6878.31,
           5804.2,
           5062.33
          ],
          "coloraxis": "coloraxis"
         },
         "name": "",
         "type": "parcats"
        }
       ],
       "layout": {
        "coloraxis": {
         "colorbar": {
          "title": {
           "text": "What total?"
          }
         },
         "colorscale": [
          [
           0,
           "#000004"
          ],
          [
           0.1111111111111111,
           "#1b0c41"
          ],
          [
           0.2222222222222222,
           "#4a0c6b"
          ],
          [
           0.3333333333333333,
           "#781c6d"
          ],
          [
           0.4444444444444444,
           "#a52c60"
          ],
          [
           0.5555555555555556,
           "#cf4446"
          ],
          [
           0.6666666666666666,
           "#ed6925"
          ],
          [
           0.7777777777777778,
           "#fb9b06"
          ],
          [
           0.8888888888888888,
           "#f7d13d"
          ],
          [
           1,
           "#fcffa4"
          ]
         ]
        },
        "legend": {
         "tracegroupgap": 0
        },
        "margin": {
         "t": 60
        },
        "template": {
         "data": {
          "bar": [
           {
            "error_x": {
             "color": "#2a3f5f"
            },
            "error_y": {
             "color": "#2a3f5f"
            },
            "marker": {
             "line": {
              "color": "#E5ECF6",
              "width": 0.5
             },
             "pattern": {
              "fillmode": "overlay",
              "size": 10,
              "solidity": 0.2
             }
            },
            "type": "bar"
           }
          ],
          "barpolar": [
           {
            "marker": {
             "line": {
              "color": "#E5ECF6",
              "width": 0.5
             },
             "pattern": {
              "fillmode": "overlay",
              "size": 10,
              "solidity": 0.2
             }
            },
            "type": "barpolar"
           }
          ],
          "carpet": [
           {
            "aaxis": {
             "endlinecolor": "#2a3f5f",
             "gridcolor": "white",
             "linecolor": "white",
             "minorgridcolor": "white",
             "startlinecolor": "#2a3f5f"
            },
            "baxis": {
             "endlinecolor": "#2a3f5f",
             "gridcolor": "white",
             "linecolor": "white",
             "minorgridcolor": "white",
             "startlinecolor": "#2a3f5f"
            },
            "type": "carpet"
           }
          ],
          "choropleth": [
           {
            "colorbar": {
             "outlinewidth": 0,
             "ticks": ""
            },
            "type": "choropleth"
           }
          ],
          "contour": [
           {
            "colorbar": {
             "outlinewidth": 0,
             "ticks": ""
            },
            "colorscale": [
             [
              0,
              "#0d0887"
             ],
             [
              0.1111111111111111,
              "#46039f"
             ],
             [
              0.2222222222222222,
              "#7201a8"
             ],
             [
              0.3333333333333333,
              "#9c179e"
             ],
             [
              0.4444444444444444,
              "#bd3786"
             ],
             [
              0.5555555555555556,
              "#d8576b"
             ],
             [
              0.6666666666666666,
              "#ed7953"
             ],
             [
              0.7777777777777778,
              "#fb9f3a"
             ],
             [
              0.8888888888888888,
              "#fdca26"
             ],
             [
              1,
              "#f0f921"
             ]
            ],
            "type": "contour"
           }
          ],
          "contourcarpet": [
           {
            "colorbar": {
             "outlinewidth": 0,
             "ticks": ""
            },
            "type": "contourcarpet"
           }
          ],
          "heatmap": [
           {
            "colorbar": {
             "outlinewidth": 0,
             "ticks": ""
            },
            "colorscale": [
             [
              0,
              "#0d0887"
             ],
             [
              0.1111111111111111,
              "#46039f"
             ],
             [
              0.2222222222222222,
              "#7201a8"
             ],
             [
              0.3333333333333333,
              "#9c179e"
             ],
             [
              0.4444444444444444,
              "#bd3786"
             ],
             [
              0.5555555555555556,
              "#d8576b"
             ],
             [
              0.6666666666666666,
              "#ed7953"
             ],
             [
              0.7777777777777778,
              "#fb9f3a"
             ],
             [
              0.8888888888888888,
              "#fdca26"
             ],
             [
              1,
              "#f0f921"
             ]
            ],
            "type": "heatmap"
           }
          ],
          "heatmapgl": [
           {
            "colorbar": {
             "outlinewidth": 0,
             "ticks": ""
            },
            "colorscale": [
             [
              0,
              "#0d0887"
             ],
             [
              0.1111111111111111,
              "#46039f"
             ],
             [
              0.2222222222222222,
              "#7201a8"
             ],
             [
              0.3333333333333333,
              "#9c179e"
             ],
             [
              0.4444444444444444,
              "#bd3786"
             ],
             [
              0.5555555555555556,
              "#d8576b"
             ],
             [
              0.6666666666666666,
              "#ed7953"
             ],
             [
              0.7777777777777778,
              "#fb9f3a"
             ],
             [
              0.8888888888888888,
              "#fdca26"
             ],
             [
              1,
              "#f0f921"
             ]
            ],
            "type": "heatmapgl"
           }
          ],
          "histogram": [
           {
            "marker": {
             "pattern": {
              "fillmode": "overlay",
              "size": 10,
              "solidity": 0.2
             }
            },
            "type": "histogram"
           }
          ],
          "histogram2d": [
           {
            "colorbar": {
             "outlinewidth": 0,
             "ticks": ""
            },
            "colorscale": [
             [
              0,
              "#0d0887"
             ],
             [
              0.1111111111111111,
              "#46039f"
             ],
             [
              0.2222222222222222,
              "#7201a8"
             ],
             [
              0.3333333333333333,
              "#9c179e"
             ],
             [
              0.4444444444444444,
              "#bd3786"
             ],
             [
              0.5555555555555556,
              "#d8576b"
             ],
             [
              0.6666666666666666,
              "#ed7953"
             ],
             [
              0.7777777777777778,
              "#fb9f3a"
             ],
             [
              0.8888888888888888,
              "#fdca26"
             ],
             [
              1,
              "#f0f921"
             ]
            ],
            "type": "histogram2d"
           }
          ],
          "histogram2dcontour": [
           {
            "colorbar": {
             "outlinewidth": 0,
             "ticks": ""
            },
            "colorscale": [
             [
              0,
              "#0d0887"
             ],
             [
              0.1111111111111111,
              "#46039f"
             ],
             [
              0.2222222222222222,
              "#7201a8"
             ],
             [
              0.3333333333333333,
              "#9c179e"
             ],
             [
              0.4444444444444444,
              "#bd3786"
             ],
             [
              0.5555555555555556,
              "#d8576b"
             ],
             [
              0.6666666666666666,
              "#ed7953"
             ],
             [
              0.7777777777777778,
              "#fb9f3a"
             ],
             [
              0.8888888888888888,
              "#fdca26"
             ],
             [
              1,
              "#f0f921"
             ]
            ],
            "type": "histogram2dcontour"
           }
          ],
          "mesh3d": [
           {
            "colorbar": {
             "outlinewidth": 0,
             "ticks": ""
            },
            "type": "mesh3d"
           }
          ],
          "parcoords": [
           {
            "line": {
             "colorbar": {
              "outlinewidth": 0,
              "ticks": ""
             }
            },
            "type": "parcoords"
           }
          ],
          "pie": [
           {
            "automargin": true,
            "type": "pie"
           }
          ],
          "scatter": [
           {
            "fillpattern": {
             "fillmode": "overlay",
             "size": 10,
             "solidity": 0.2
            },
            "type": "scatter"
           }
          ],
          "scatter3d": [
           {
            "line": {
             "colorbar": {
              "outlinewidth": 0,
              "ticks": ""
             }
            },
            "marker": {
             "colorbar": {
              "outlinewidth": 0,
              "ticks": ""
             }
            },
            "type": "scatter3d"
           }
          ],
          "scattercarpet": [
           {
            "marker": {
             "colorbar": {
              "outlinewidth": 0,
              "ticks": ""
             }
            },
            "type": "scattercarpet"
           }
          ],
          "scattergeo": [
           {
            "marker": {
             "colorbar": {
              "outlinewidth": 0,
              "ticks": ""
             }
            },
            "type": "scattergeo"
           }
          ],
          "scattergl": [
           {
            "marker": {
             "colorbar": {
              "outlinewidth": 0,
              "ticks": ""
             }
            },
            "type": "scattergl"
           }
          ],
          "scattermapbox": [
           {
            "marker": {
             "colorbar": {
              "outlinewidth": 0,
              "ticks": ""
             }
            },
            "type": "scattermapbox"
           }
          ],
          "scatterpolar": [
           {
            "marker": {
             "colorbar": {
              "outlinewidth": 0,
              "ticks": ""
             }
            },
            "type": "scatterpolar"
           }
          ],
          "scatterpolargl": [
           {
            "marker": {
             "colorbar": {
              "outlinewidth": 0,
              "ticks": ""
             }
            },
            "type": "scatterpolargl"
           }
          ],
          "scatterternary": [
           {
            "marker": {
             "colorbar": {
              "outlinewidth": 0,
              "ticks": ""
             }
            },
            "type": "scatterternary"
           }
          ],
          "surface": [
           {
            "colorbar": {
             "outlinewidth": 0,
             "ticks": ""
            },
            "colorscale": [
             [
              0,
              "#0d0887"
             ],
             [
              0.1111111111111111,
              "#46039f"
             ],
             [
              0.2222222222222222,
              "#7201a8"
             ],
             [
              0.3333333333333333,
              "#9c179e"
             ],
             [
              0.4444444444444444,
              "#bd3786"
             ],
             [
              0.5555555555555556,
              "#d8576b"
             ],
             [
              0.6666666666666666,
              "#ed7953"
             ],
             [
              0.7777777777777778,
              "#fb9f3a"
             ],
             [
              0.8888888888888888,
              "#fdca26"
             ],
             [
              1,
              "#f0f921"
             ]
            ],
            "type": "surface"
           }
          ],
          "table": [
           {
            "cells": {
             "fill": {
              "color": "#EBF0F8"
             },
             "line": {
              "color": "white"
             }
            },
            "header": {
             "fill": {
              "color": "#C8D4E3"
             },
             "line": {
              "color": "white"
             }
            },
            "type": "table"
           }
          ]
         },
         "layout": {
          "annotationdefaults": {
           "arrowcolor": "#2a3f5f",
           "arrowhead": 0,
           "arrowwidth": 1
          },
          "autotypenumbers": "strict",
          "coloraxis": {
           "colorbar": {
            "outlinewidth": 0,
            "ticks": ""
           }
          },
          "colorscale": {
           "diverging": [
            [
             0,
             "#8e0152"
            ],
            [
             0.1,
             "#c51b7d"
            ],
            [
             0.2,
             "#de77ae"
            ],
            [
             0.3,
             "#f1b6da"
            ],
            [
             0.4,
             "#fde0ef"
            ],
            [
             0.5,
             "#f7f7f7"
            ],
            [
             0.6,
             "#e6f5d0"
            ],
            [
             0.7,
             "#b8e186"
            ],
            [
             0.8,
             "#7fbc41"
            ],
            [
             0.9,
             "#4d9221"
            ],
            [
             1,
             "#276419"
            ]
           ],
           "sequential": [
            [
             0,
             "#0d0887"
            ],
            [
             0.1111111111111111,
             "#46039f"
            ],
            [
             0.2222222222222222,
             "#7201a8"
            ],
            [
             0.3333333333333333,
             "#9c179e"
            ],
            [
             0.4444444444444444,
             "#bd3786"
            ],
            [
             0.5555555555555556,
             "#d8576b"
            ],
            [
             0.6666666666666666,
             "#ed7953"
            ],
            [
             0.7777777777777778,
             "#fb9f3a"
            ],
            [
             0.8888888888888888,
             "#fdca26"
            ],
            [
             1,
             "#f0f921"
            ]
           ],
           "sequentialminus": [
            [
             0,
             "#0d0887"
            ],
            [
             0.1111111111111111,
             "#46039f"
            ],
            [
             0.2222222222222222,
             "#7201a8"
            ],
            [
             0.3333333333333333,
             "#9c179e"
            ],
            [
             0.4444444444444444,
             "#bd3786"
            ],
            [
             0.5555555555555556,
             "#d8576b"
            ],
            [
             0.6666666666666666,
             "#ed7953"
            ],
            [
             0.7777777777777778,
             "#fb9f3a"
            ],
            [
             0.8888888888888888,
             "#fdca26"
            ],
            [
             1,
             "#f0f921"
            ]
           ]
          },
          "colorway": [
           "#636efa",
           "#EF553B",
           "#00cc96",
           "#ab63fa",
           "#FFA15A",
           "#19d3f3",
           "#FF6692",
           "#B6E880",
           "#FF97FF",
           "#FECB52"
          ],
          "font": {
           "color": "#2a3f5f"
          },
          "geo": {
           "bgcolor": "white",
           "lakecolor": "white",
           "landcolor": "#E5ECF6",
           "showlakes": true,
           "showland": true,
           "subunitcolor": "white"
          },
          "hoverlabel": {
           "align": "left"
          },
          "hovermode": "closest",
          "mapbox": {
           "style": "light"
          },
          "paper_bgcolor": "white",
          "plot_bgcolor": "#E5ECF6",
          "polar": {
           "angularaxis": {
            "gridcolor": "white",
            "linecolor": "white",
            "ticks": ""
           },
           "bgcolor": "#E5ECF6",
           "radialaxis": {
            "gridcolor": "white",
            "linecolor": "white",
            "ticks": ""
           }
          },
          "scene": {
           "xaxis": {
            "backgroundcolor": "#E5ECF6",
            "gridcolor": "white",
            "gridwidth": 2,
            "linecolor": "white",
            "showbackground": true,
            "ticks": "",
            "zerolinecolor": "white"
           },
           "yaxis": {
            "backgroundcolor": "#E5ECF6",
            "gridcolor": "white",
            "gridwidth": 2,
            "linecolor": "white",
            "showbackground": true,
            "ticks": "",
            "zerolinecolor": "white"
           },
           "zaxis": {
            "backgroundcolor": "#E5ECF6",
            "gridcolor": "white",
            "gridwidth": 2,
            "linecolor": "white",
            "showbackground": true,
            "ticks": "",
            "zerolinecolor": "white"
           }
          },
          "shapedefaults": {
           "line": {
            "color": "#2a3f5f"
           }
          },
          "ternary": {
           "aaxis": {
            "gridcolor": "white",
            "linecolor": "white",
            "ticks": ""
           },
           "baxis": {
            "gridcolor": "white",
            "linecolor": "white",
            "ticks": ""
           },
           "bgcolor": "#E5ECF6",
           "caxis": {
            "gridcolor": "white",
            "linecolor": "white",
            "ticks": ""
           }
          },
          "title": {
           "x": 0.05
          },
          "xaxis": {
           "automargin": true,
           "gridcolor": "white",
           "linecolor": "white",
           "ticks": "",
           "title": {
            "standoff": 15
           },
           "zerolinecolor": "white",
           "zerolinewidth": 2
          },
          "yaxis": {
           "automargin": true,
           "gridcolor": "white",
           "linecolor": "white",
           "ticks": "",
           "title": {
            "standoff": 15
           },
           "zerolinecolor": "white",
           "zerolinewidth": 2
          }
         }
        }
       }
      }
     },
     "metadata": {},
     "output_type": "display_data"
    }
   ],
   "source": [
    "#Sankey chart aka Parallel Categories\n",
    "#If we do not aggregate, the result will be... a mess \n",
    "fig = px.parallel_categories(sankey_chart, \n",
    "                             dimensions=['Gender', 'Product line', 'Total'],\n",
    "                             color=\"Total\", \n",
    "                             color_continuous_scale=px.colors.sequential.Inferno,\n",
    "                             labels={'Gender':'Oh Gender', 'Product line':'What u buin´?', 'Total':'What total?'})\n",
    "fig.show()"
   ]
  },
  {
   "cell_type": "code",
   "execution_count": 80,
   "metadata": {},
   "outputs": [
    {
     "data": {
      "application/vnd.plotly.v1+json": {
       "config": {
        "plotlyServerURL": "https://plot.ly"
       },
       "data": [
        {
         "dimensions": [
          {
           "label": "Category",
           "values": [
            "A",
            "B",
            "C",
            "A",
            "B",
            "C"
           ]
          },
          {
           "label": "Value",
           "values": [
            1,
            3,
            2,
            4,
            5,
            6
           ]
          },
          {
           "label": "Label",
           "values": [
            "X",
            "Y",
            "X",
            "Y",
            "X",
            "Y"
           ]
          },
          {
           "label": "color",
           "values": [
            "blue",
            "red",
            "blue",
            "red",
            "blue",
            "red"
           ]
          }
         ],
         "domain": {
          "x": [
           0,
           1
          ],
          "y": [
           0,
           1
          ]
         },
         "line": {
          "color": [
           "blue",
           "red",
           "blue",
           "red",
           "blue",
           "red"
          ],
          "coloraxis": "coloraxis"
         },
         "name": "",
         "type": "parcats"
        }
       ],
       "layout": {
        "coloraxis": {
         "colorbar": {
          "title": {
           "text": "color"
          }
         },
         "colorscale": [
          [
           0,
           "#0d0887"
          ],
          [
           0.1111111111111111,
           "#46039f"
          ],
          [
           0.2222222222222222,
           "#7201a8"
          ],
          [
           0.3333333333333333,
           "#9c179e"
          ],
          [
           0.4444444444444444,
           "#bd3786"
          ],
          [
           0.5555555555555556,
           "#d8576b"
          ],
          [
           0.6666666666666666,
           "#ed7953"
          ],
          [
           0.7777777777777778,
           "#fb9f3a"
          ],
          [
           0.8888888888888888,
           "#fdca26"
          ],
          [
           1,
           "#f0f921"
          ]
         ]
        },
        "legend": {
         "tracegroupgap": 0
        },
        "margin": {
         "t": 60
        },
        "template": {
         "data": {
          "bar": [
           {
            "error_x": {
             "color": "#2a3f5f"
            },
            "error_y": {
             "color": "#2a3f5f"
            },
            "marker": {
             "line": {
              "color": "#E5ECF6",
              "width": 0.5
             },
             "pattern": {
              "fillmode": "overlay",
              "size": 10,
              "solidity": 0.2
             }
            },
            "type": "bar"
           }
          ],
          "barpolar": [
           {
            "marker": {
             "line": {
              "color": "#E5ECF6",
              "width": 0.5
             },
             "pattern": {
              "fillmode": "overlay",
              "size": 10,
              "solidity": 0.2
             }
            },
            "type": "barpolar"
           }
          ],
          "carpet": [
           {
            "aaxis": {
             "endlinecolor": "#2a3f5f",
             "gridcolor": "white",
             "linecolor": "white",
             "minorgridcolor": "white",
             "startlinecolor": "#2a3f5f"
            },
            "baxis": {
             "endlinecolor": "#2a3f5f",
             "gridcolor": "white",
             "linecolor": "white",
             "minorgridcolor": "white",
             "startlinecolor": "#2a3f5f"
            },
            "type": "carpet"
           }
          ],
          "choropleth": [
           {
            "colorbar": {
             "outlinewidth": 0,
             "ticks": ""
            },
            "type": "choropleth"
           }
          ],
          "contour": [
           {
            "colorbar": {
             "outlinewidth": 0,
             "ticks": ""
            },
            "colorscale": [
             [
              0,
              "#0d0887"
             ],
             [
              0.1111111111111111,
              "#46039f"
             ],
             [
              0.2222222222222222,
              "#7201a8"
             ],
             [
              0.3333333333333333,
              "#9c179e"
             ],
             [
              0.4444444444444444,
              "#bd3786"
             ],
             [
              0.5555555555555556,
              "#d8576b"
             ],
             [
              0.6666666666666666,
              "#ed7953"
             ],
             [
              0.7777777777777778,
              "#fb9f3a"
             ],
             [
              0.8888888888888888,
              "#fdca26"
             ],
             [
              1,
              "#f0f921"
             ]
            ],
            "type": "contour"
           }
          ],
          "contourcarpet": [
           {
            "colorbar": {
             "outlinewidth": 0,
             "ticks": ""
            },
            "type": "contourcarpet"
           }
          ],
          "heatmap": [
           {
            "colorbar": {
             "outlinewidth": 0,
             "ticks": ""
            },
            "colorscale": [
             [
              0,
              "#0d0887"
             ],
             [
              0.1111111111111111,
              "#46039f"
             ],
             [
              0.2222222222222222,
              "#7201a8"
             ],
             [
              0.3333333333333333,
              "#9c179e"
             ],
             [
              0.4444444444444444,
              "#bd3786"
             ],
             [
              0.5555555555555556,
              "#d8576b"
             ],
             [
              0.6666666666666666,
              "#ed7953"
             ],
             [
              0.7777777777777778,
              "#fb9f3a"
             ],
             [
              0.8888888888888888,
              "#fdca26"
             ],
             [
              1,
              "#f0f921"
             ]
            ],
            "type": "heatmap"
           }
          ],
          "heatmapgl": [
           {
            "colorbar": {
             "outlinewidth": 0,
             "ticks": ""
            },
            "colorscale": [
             [
              0,
              "#0d0887"
             ],
             [
              0.1111111111111111,
              "#46039f"
             ],
             [
              0.2222222222222222,
              "#7201a8"
             ],
             [
              0.3333333333333333,
              "#9c179e"
             ],
             [
              0.4444444444444444,
              "#bd3786"
             ],
             [
              0.5555555555555556,
              "#d8576b"
             ],
             [
              0.6666666666666666,
              "#ed7953"
             ],
             [
              0.7777777777777778,
              "#fb9f3a"
             ],
             [
              0.8888888888888888,
              "#fdca26"
             ],
             [
              1,
              "#f0f921"
             ]
            ],
            "type": "heatmapgl"
           }
          ],
          "histogram": [
           {
            "marker": {
             "pattern": {
              "fillmode": "overlay",
              "size": 10,
              "solidity": 0.2
             }
            },
            "type": "histogram"
           }
          ],
          "histogram2d": [
           {
            "colorbar": {
             "outlinewidth": 0,
             "ticks": ""
            },
            "colorscale": [
             [
              0,
              "#0d0887"
             ],
             [
              0.1111111111111111,
              "#46039f"
             ],
             [
              0.2222222222222222,
              "#7201a8"
             ],
             [
              0.3333333333333333,
              "#9c179e"
             ],
             [
              0.4444444444444444,
              "#bd3786"
             ],
             [
              0.5555555555555556,
              "#d8576b"
             ],
             [
              0.6666666666666666,
              "#ed7953"
             ],
             [
              0.7777777777777778,
              "#fb9f3a"
             ],
             [
              0.8888888888888888,
              "#fdca26"
             ],
             [
              1,
              "#f0f921"
             ]
            ],
            "type": "histogram2d"
           }
          ],
          "histogram2dcontour": [
           {
            "colorbar": {
             "outlinewidth": 0,
             "ticks": ""
            },
            "colorscale": [
             [
              0,
              "#0d0887"
             ],
             [
              0.1111111111111111,
              "#46039f"
             ],
             [
              0.2222222222222222,
              "#7201a8"
             ],
             [
              0.3333333333333333,
              "#9c179e"
             ],
             [
              0.4444444444444444,
              "#bd3786"
             ],
             [
              0.5555555555555556,
              "#d8576b"
             ],
             [
              0.6666666666666666,
              "#ed7953"
             ],
             [
              0.7777777777777778,
              "#fb9f3a"
             ],
             [
              0.8888888888888888,
              "#fdca26"
             ],
             [
              1,
              "#f0f921"
             ]
            ],
            "type": "histogram2dcontour"
           }
          ],
          "mesh3d": [
           {
            "colorbar": {
             "outlinewidth": 0,
             "ticks": ""
            },
            "type": "mesh3d"
           }
          ],
          "parcoords": [
           {
            "line": {
             "colorbar": {
              "outlinewidth": 0,
              "ticks": ""
             }
            },
            "type": "parcoords"
           }
          ],
          "pie": [
           {
            "automargin": true,
            "type": "pie"
           }
          ],
          "scatter": [
           {
            "fillpattern": {
             "fillmode": "overlay",
             "size": 10,
             "solidity": 0.2
            },
            "type": "scatter"
           }
          ],
          "scatter3d": [
           {
            "line": {
             "colorbar": {
              "outlinewidth": 0,
              "ticks": ""
             }
            },
            "marker": {
             "colorbar": {
              "outlinewidth": 0,
              "ticks": ""
             }
            },
            "type": "scatter3d"
           }
          ],
          "scattercarpet": [
           {
            "marker": {
             "colorbar": {
              "outlinewidth": 0,
              "ticks": ""
             }
            },
            "type": "scattercarpet"
           }
          ],
          "scattergeo": [
           {
            "marker": {
             "colorbar": {
              "outlinewidth": 0,
              "ticks": ""
             }
            },
            "type": "scattergeo"
           }
          ],
          "scattergl": [
           {
            "marker": {
             "colorbar": {
              "outlinewidth": 0,
              "ticks": ""
             }
            },
            "type": "scattergl"
           }
          ],
          "scattermapbox": [
           {
            "marker": {
             "colorbar": {
              "outlinewidth": 0,
              "ticks": ""
             }
            },
            "type": "scattermapbox"
           }
          ],
          "scatterpolar": [
           {
            "marker": {
             "colorbar": {
              "outlinewidth": 0,
              "ticks": ""
             }
            },
            "type": "scatterpolar"
           }
          ],
          "scatterpolargl": [
           {
            "marker": {
             "colorbar": {
              "outlinewidth": 0,
              "ticks": ""
             }
            },
            "type": "scatterpolargl"
           }
          ],
          "scatterternary": [
           {
            "marker": {
             "colorbar": {
              "outlinewidth": 0,
              "ticks": ""
             }
            },
            "type": "scatterternary"
           }
          ],
          "surface": [
           {
            "colorbar": {
             "outlinewidth": 0,
             "ticks": ""
            },
            "colorscale": [
             [
              0,
              "#0d0887"
             ],
             [
              0.1111111111111111,
              "#46039f"
             ],
             [
              0.2222222222222222,
              "#7201a8"
             ],
             [
              0.3333333333333333,
              "#9c179e"
             ],
             [
              0.4444444444444444,
              "#bd3786"
             ],
             [
              0.5555555555555556,
              "#d8576b"
             ],
             [
              0.6666666666666666,
              "#ed7953"
             ],
             [
              0.7777777777777778,
              "#fb9f3a"
             ],
             [
              0.8888888888888888,
              "#fdca26"
             ],
             [
              1,
              "#f0f921"
             ]
            ],
            "type": "surface"
           }
          ],
          "table": [
           {
            "cells": {
             "fill": {
              "color": "#EBF0F8"
             },
             "line": {
              "color": "white"
             }
            },
            "header": {
             "fill": {
              "color": "#C8D4E3"
             },
             "line": {
              "color": "white"
             }
            },
            "type": "table"
           }
          ]
         },
         "layout": {
          "annotationdefaults": {
           "arrowcolor": "#2a3f5f",
           "arrowhead": 0,
           "arrowwidth": 1
          },
          "autotypenumbers": "strict",
          "coloraxis": {
           "colorbar": {
            "outlinewidth": 0,
            "ticks": ""
           }
          },
          "colorscale": {
           "diverging": [
            [
             0,
             "#8e0152"
            ],
            [
             0.1,
             "#c51b7d"
            ],
            [
             0.2,
             "#de77ae"
            ],
            [
             0.3,
             "#f1b6da"
            ],
            [
             0.4,
             "#fde0ef"
            ],
            [
             0.5,
             "#f7f7f7"
            ],
            [
             0.6,
             "#e6f5d0"
            ],
            [
             0.7,
             "#b8e186"
            ],
            [
             0.8,
             "#7fbc41"
            ],
            [
             0.9,
             "#4d9221"
            ],
            [
             1,
             "#276419"
            ]
           ],
           "sequential": [
            [
             0,
             "#0d0887"
            ],
            [
             0.1111111111111111,
             "#46039f"
            ],
            [
             0.2222222222222222,
             "#7201a8"
            ],
            [
             0.3333333333333333,
             "#9c179e"
            ],
            [
             0.4444444444444444,
             "#bd3786"
            ],
            [
             0.5555555555555556,
             "#d8576b"
            ],
            [
             0.6666666666666666,
             "#ed7953"
            ],
            [
             0.7777777777777778,
             "#fb9f3a"
            ],
            [
             0.8888888888888888,
             "#fdca26"
            ],
            [
             1,
             "#f0f921"
            ]
           ],
           "sequentialminus": [
            [
             0,
             "#0d0887"
            ],
            [
             0.1111111111111111,
             "#46039f"
            ],
            [
             0.2222222222222222,
             "#7201a8"
            ],
            [
             0.3333333333333333,
             "#9c179e"
            ],
            [
             0.4444444444444444,
             "#bd3786"
            ],
            [
             0.5555555555555556,
             "#d8576b"
            ],
            [
             0.6666666666666666,
             "#ed7953"
            ],
            [
             0.7777777777777778,
             "#fb9f3a"
            ],
            [
             0.8888888888888888,
             "#fdca26"
            ],
            [
             1,
             "#f0f921"
            ]
           ]
          },
          "colorway": [
           "#636efa",
           "#EF553B",
           "#00cc96",
           "#ab63fa",
           "#FFA15A",
           "#19d3f3",
           "#FF6692",
           "#B6E880",
           "#FF97FF",
           "#FECB52"
          ],
          "font": {
           "color": "#2a3f5f"
          },
          "geo": {
           "bgcolor": "white",
           "lakecolor": "white",
           "landcolor": "#E5ECF6",
           "showlakes": true,
           "showland": true,
           "subunitcolor": "white"
          },
          "hoverlabel": {
           "align": "left"
          },
          "hovermode": "closest",
          "mapbox": {
           "style": "light"
          },
          "paper_bgcolor": "white",
          "plot_bgcolor": "#E5ECF6",
          "polar": {
           "angularaxis": {
            "gridcolor": "white",
            "linecolor": "white",
            "ticks": ""
           },
           "bgcolor": "#E5ECF6",
           "radialaxis": {
            "gridcolor": "white",
            "linecolor": "white",
            "ticks": ""
           }
          },
          "scene": {
           "xaxis": {
            "backgroundcolor": "#E5ECF6",
            "gridcolor": "white",
            "gridwidth": 2,
            "linecolor": "white",
            "showbackground": true,
            "ticks": "",
            "zerolinecolor": "white"
           },
           "yaxis": {
            "backgroundcolor": "#E5ECF6",
            "gridcolor": "white",
            "gridwidth": 2,
            "linecolor": "white",
            "showbackground": true,
            "ticks": "",
            "zerolinecolor": "white"
           },
           "zaxis": {
            "backgroundcolor": "#E5ECF6",
            "gridcolor": "white",
            "gridwidth": 2,
            "linecolor": "white",
            "showbackground": true,
            "ticks": "",
            "zerolinecolor": "white"
           }
          },
          "shapedefaults": {
           "line": {
            "color": "#2a3f5f"
           }
          },
          "ternary": {
           "aaxis": {
            "gridcolor": "white",
            "linecolor": "white",
            "ticks": ""
           },
           "baxis": {
            "gridcolor": "white",
            "linecolor": "white",
            "ticks": ""
           },
           "bgcolor": "#E5ECF6",
           "caxis": {
            "gridcolor": "white",
            "linecolor": "white",
            "ticks": ""
           }
          },
          "title": {
           "x": 0.05
          },
          "xaxis": {
           "automargin": true,
           "gridcolor": "white",
           "linecolor": "white",
           "ticks": "",
           "title": {
            "standoff": 15
           },
           "zerolinecolor": "white",
           "zerolinewidth": 2
          },
          "yaxis": {
           "automargin": true,
           "gridcolor": "white",
           "linecolor": "white",
           "ticks": "",
           "title": {
            "standoff": 15
           },
           "zerolinecolor": "white",
           "zerolinewidth": 2
          }
         }
        }
       }
      }
     },
     "metadata": {},
     "output_type": "display_data"
    }
   ],
   "source": [
    "# Sample data\n",
    "test = {\n",
    "    'Category': ['A', 'B', 'C', 'A', 'B', 'C'],\n",
    "    'Value': [1, 3, 2, 4, 5, 6],\n",
    "    'Label': ['X', 'Y', 'X', 'Y', 'X', 'Y']\n",
    "}\n",
    "\n",
    "testing = pd.DataFrame(test)\n",
    "\n",
    "# Define color mapping\n",
    "color_map = {\n",
    "    'X': 'blue',\n",
    "    'Y': 'red'\n",
    "}\n",
    "\n",
    "# Plot\n",
    "fig = px.parallel_categories(testing, color=testing['Label'].map(color_map))\n",
    "\n",
    "fig.show()"
   ]
  }
 ],
 "metadata": {
  "kernelspec": {
   "display_name": "Python 3",
   "language": "python",
   "name": "python3"
  },
  "language_info": {
   "codemirror_mode": {
    "name": "ipython",
    "version": 3
   },
   "file_extension": ".py",
   "mimetype": "text/x-python",
   "name": "python",
   "nbconvert_exporter": "python",
   "pygments_lexer": "ipython3",
   "version": "3.12.2"
  }
 },
 "nbformat": 4,
 "nbformat_minor": 2
}
